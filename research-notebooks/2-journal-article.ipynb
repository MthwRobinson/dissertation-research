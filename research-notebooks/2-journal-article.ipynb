{
 "cells": [
  {
   "cell_type": "markdown",
   "metadata": {},
   "source": [
    "## Work Notebook for Requirements Engineering Journal Article"
   ]
  },
  {
   "cell_type": "code",
   "execution_count": 1,
   "metadata": {},
   "outputs": [],
   "source": [
    "import matplotlib.pyplot as plt\n",
    "import numpy as np\n",
    "import pandas as pd\n",
    "from patsy import dmatrices\n",
    "import pyDEA\n",
    "import seaborn as sns\n",
    "import scipy.stats as stats\n",
    "import statsmodels.api as sm\n",
    "import statsmodels.stats.api as sms\n",
    "import statsmodels.stats.diagnostic as diag\n",
    "from statsmodels.stats.outliers_influence import variance_inflation_factor\n",
    "\n",
    "import research_utils.utils as utils\n",
    "from research_utils.database.database import Database\n",
    "from research_utils.analytics.beta_regression import Beta\n",
    "from research_utils.analytics.lda import TopicModel\n",
    "from research_utils.analytics.dea import DEA"
   ]
  },
  {
   "cell_type": "code",
   "execution_count": 2,
   "metadata": {},
   "outputs": [],
   "source": [
    "database = Database()"
   ]
  },
  {
   "cell_type": "code",
   "execution_count": null,
   "metadata": {},
   "outputs": [],
   "source": [
    "data = pd.read_sql(utils.INPUT_QUERY, database.connection)"
   ]
  },
  {
   "cell_type": "code",
   "execution_count": null,
   "metadata": {},
   "outputs": [],
   "source": [
    "tm = TopicModel(25, load=True)"
   ]
  },
  {
   "cell_type": "code",
   "execution_count": null,
   "metadata": {},
   "outputs": [],
   "source": [
    "df = tm.load_topic_model_results()"
   ]
  },
  {
   "cell_type": "code",
   "execution_count": null,
   "metadata": {},
   "outputs": [],
   "source": [
    "df.head()"
   ]
  },
  {
   "cell_type": "code",
   "execution_count": null,
   "metadata": {},
   "outputs": [],
   "source": [
    "for i in range(tm.num_topics):\n",
    "    df['topic_{}'.format(i)] = [x[i] if x else np.nan for x in df['topics']]\n",
    "    df['topic_{}_2'.format(i)] = df['topic_{}'.format(i)]**2"
   ]
  },
  {
   "cell_type": "code",
   "execution_count": null,
   "metadata": {},
   "outputs": [],
   "source": [
    "all_topics = []\n",
    "reg_topics = []\n",
    "simple_reg_topics = []\n",
    "simple_reg_topics_2 = []\n",
    "for i in range(tm.num_topics-1):    \n",
    "    all_topics.append('topic_{}'.format(i))\n",
    "    simple_reg_topics.append('topic_{}'.format(i))\n",
    "    all_topics.append('topic_{}_2'.format(i))\n",
    "    simple_reg_topics_2.append('topic_{}_2'.format(i))\n",
    "    for j in range(tm.num_topics-1):\n",
    "        reg_topics.append(\"topic_{}*topic_{}\".format(i, j))\n",
    "        #reg_topics.append(\"topic_{}_2\".format(i, j))"
   ]
  },
  {
   "cell_type": "code",
   "execution_count": null,
   "metadata": {},
   "outputs": [],
   "source": [
    "mean_topics = df.groupby(['organization', 'package']).mean()[all_topics]"
   ]
  },
  {
   "cell_type": "code",
   "execution_count": null,
   "metadata": {},
   "outputs": [],
   "source": [
    "all_data = mean_topics.merge(data, on=['package', 'organization'])"
   ]
  },
  {
   "cell_type": "code",
   "execution_count": null,
   "metadata": {},
   "outputs": [],
   "source": [
    "all_data['crowd_pct_sq'] = np.sqrt(all_data['crowd_pct'])\n",
    "all_data['crowd_pct_2'] = all_data['crowd_pct']**2\n",
    "all_data['issues_over_time'] = (all_data['total_issues'] / all_data['project_age'])*90\n",
    "all_data['avg_clusteringXcrowd_pct'] = all_data['avg_clustering'] * all_data['crowd_pct']\n",
    "all_data['avg_min_pathXcrowd_pct'] = all_data['avg_min_path'] * all_data['crowd_pct']\n",
    "all_data['gini_coefficientXcrowd_pct'] = all_data['gini_coefficient'] * all_data['crowd_pct']\n",
    "all_data['log_duration'] = np.log(all_data['duration_median'] + 1e-7)\n",
    "all_data['log_duration_mean'] = np.log(all_data['duration_mean'] + 1e-7)\n",
    "all_data['pct_under_30'] = all_data['under_30'] / all_data['total_issues']\n",
    "all_data['pct_under_60'] = all_data['under_60'] / all_data['total_issues']\n",
    "all_data['pct_under_90'] = all_data['under_90'] / all_data['total_issues']\n",
    "all_data['issues_per_user'] = all_data['total_issues'] / all_data['num_users']\n",
    "all_data.to_csv('/home/matt/research_data.csv', index=False)"
   ]
  },
  {
   "cell_type": "code",
   "execution_count": null,
   "metadata": {},
   "outputs": [],
   "source": [
    "base_columns = ['crowd_pct', 'crowd_pct_2',\n",
    "                'avg_clustering', 'avg_min_path', 'gini_coefficient',\n",
    "                'avg_clusteringXcrowd_pct', 'avg_min_pathXcrowd_pct', 'gini_coefficientXcrowd_pct',\n",
    "                'total_contributors', 'project_age']\n",
    "base_features = ' + '.join(base_columns)"
   ]
  },
  {
   "cell_type": "code",
   "execution_count": null,
   "metadata": {},
   "outputs": [],
   "source": [
    "def glm_marginal_effect(variable, res, X, all_data):\n",
    "    \"\"\"Computes the GLM marginal effects for the variable.\n",
    "    \n",
    "    Parameters\n",
    "    ----------\n",
    "    variable : str\n",
    "        the variable for which we would like to calculate the marginal effect\n",
    "    res : sm.model\n",
    "        results of the linear regression\n",
    "    X : pd.DataFrame\n",
    "        the input to the linear regression\n",
    "    all_data : pd.DataFrame\n",
    "        the full set of input data\n",
    "        \n",
    "    Returns\n",
    "    -------\n",
    "    marginal_effect : float\n",
    "    \"\"\"\n",
    "    data = all_data.copy(deep=True)\n",
    "    param = res.params[variable]\n",
    "    cross_term = '{}Xcrowd_pct'.format(variable)\n",
    "    if cross_term in res.params:\n",
    "        data['effect'] = param + data['crowd_pct'] * res.params[cross_term]\n",
    "    else:\n",
    "        data['effect'] = param\n",
    "    data['prediction'] = res.predict(X)\n",
    "    data['marginal_effect'] = data['effect'] * data['prediction']\n",
    "    return data['marginal_effect'].mean()"
   ]
  },
  {
   "cell_type": "markdown",
   "metadata": {},
   "source": [
    "### Exploratory Data Analysis"
   ]
  },
  {
   "cell_type": "code",
   "execution_count": null,
   "metadata": {},
   "outputs": [],
   "source": [
    "plt.figure(figsize=(12, 5))\n",
    "sns.scatterplot(x=all_data['avg_clustering'], y=all_data['crowd_pct'], color='blue')\n",
    "plt.title('Avg Clustering vs Crowd Pct', fontsize=18)\n",
    "plt.xlabel('Avg Clustering', fontsize=16)\n",
    "plt.ylabel('Crowd Pct', fontsize=16)\n",
    "#plt.ylim([0, 1])\n",
    "#plt.xlim([0, 1])"
   ]
  },
  {
   "cell_type": "code",
   "execution_count": null,
   "metadata": {},
   "outputs": [],
   "source": [
    "plt.figure(figsize=(12, 5))\n",
    "sns.scatterplot(x=all_data['gini_coefficient'], y=all_data['crowd_pct'], color='blue')\n",
    "plt.title('Gini Coefficient vs Crowd Pct', fontsize=18)\n",
    "plt.xlabel('Gini Coefficient', fontsize=16)\n",
    "plt.ylabel('Crowd Pct', fontsize=16)\n",
    "#plt.ylim([0, 1])\n",
    "#plt.xlim([0, 1])"
   ]
  },
  {
   "cell_type": "code",
   "execution_count": null,
   "metadata": {},
   "outputs": [],
   "source": [
    "plt.figure(figsize=(12, 5))\n",
    "sns.scatterplot(x=all_data['avg_min_path'], y=all_data['crowd_pct'], color='blue')\n",
    "plt.title('Avg Min Path vs Crowd Pct', fontsize=18)\n",
    "plt.xlabel('Avg Min Path', fontsize=16)\n",
    "plt.ylabel('Crowd Pct', fontsize=16)\n",
    "#plt.ylim([0, 1])\n",
    "#plt.xlim([0, 1])"
   ]
  },
  {
   "cell_type": "markdown",
   "metadata": {},
   "source": [
    "### Regression on Average Comments"
   ]
  },
  {
   "cell_type": "code",
   "execution_count": null,
   "metadata": {},
   "outputs": [],
   "source": [
    "plt.figure(figsize=(12, 5))\n",
    "sns.distplot(all_data['avg_comments'], kde=False, color='blue', bins=100)\n",
    "plt.title('Requirement Durations in Open Source Projects', fontsize=18)\n",
    "plt.xlabel('Average Commend Activity', fontsize=16)\n",
    "plt.ylabel('Count', fontsize=16)"
   ]
  },
  {
   "cell_type": "code",
   "execution_count": null,
   "metadata": {},
   "outputs": [],
   "source": [
    "all_data['avg_comments'].describe()"
   ]
  },
  {
   "cell_type": "code",
   "execution_count": null,
   "metadata": {},
   "outputs": [],
   "source": [
    "y, X = dmatrices('avg_comments ~ ' + base_features,\n",
    "                 data=all_data, return_type='dataframe')\n",
    "mod = sm.OLS(y, X)\n",
    "res = mod.fit()\n",
    "yhat = res.predict(X)\n",
    "print(res.summary())"
   ]
  },
  {
   "cell_type": "code",
   "execution_count": null,
   "metadata": {},
   "outputs": [],
   "source": [
    "formula = \"\"\"\n",
    "avg_comments ~ crowd_pct + crowd_pct_2 + avg_clustering + \n",
    "    avg_min_path + gini_coefficient + avg_clusteringXcrowd_pct + \n",
    "    avg_min_pathXcrowd_pct + gini_coefficientXcrowd_pct + project_age + \n",
    "    topic_0 + topic_1 + topic_2 + topic_3 + topic_4 + topic_5 + \n",
    "    topic_6 + topic_7 + topic_8 + topic_9 + topic_10 + topic_11 + \n",
    "    topic_12 + topic_13 + topic_14 + topic_15 + topic_16 + topic_17 + \n",
    "    topic_18 + topic_19 + topic_20 + topic_21 + topic_22 + topic_23 + \n",
    "    topic_0:topic_1 + topic_0:topic_7 + topic_0:topic_9 + topic_0:topic_10 + \n",
    "    topic_0:topic_18 + topic_0:topic_19 + topic_0:topic_21 + \n",
    "    topic_1:topic_2 + topic_1:topic_9 + topic_1:topic_10 + topic_1:topic_13 + \n",
    "    topic_1:topic_14 + topic_1:topic_21 + topic_2:topic_11 + \n",
    "    topic_2:topic_12 + topic_2:topic_18 + topic_2:topic_20 + \n",
    "    topic_2:topic_22 + topic_3:topic_5 + topic_3:topic_11 + topic_3:topic_21 + \n",
    "    topic_4:topic_8 + topic_4:topic_18 + topic_5:topic_7 + topic_5:topic_9 + \n",
    "    topic_5:topic_11 + topic_5:topic_15 + topic_5:topic_17 + \n",
    "    topic_5:topic_22 + topic_6:topic_7 + topic_6:topic_8 + topic_6:topic_12 + \n",
    "    topic_6:topic_14 + topic_6:topic_16 + topic_6:topic_17 + \n",
    "    topic_6:topic_18 + topic_6:topic_19 + topic_7:topic_8 + topic_7:topic_16 + \n",
    "    topic_7:topic_23 + topic_8:topic_9 + topic_8:topic_15 + topic_9:topic_10 + \n",
    "    topic_9:topic_16 + topic_9:topic_19 + topic_9:topic_20 + \n",
    "    topic_9:topic_22 + topic_10:topic_12 + topic_10:topic_16 + \n",
    "    topic_10:topic_20 + topic_10:topic_22 + topic_10:topic_23 + \n",
    "    topic_11:topic_13 + topic_11:topic_14 + topic_11:topic_15 + \n",
    "    topic_11:topic_16 + topic_11:topic_17 + topic_11:topic_22 + \n",
    "    topic_14:topic_17 + topic_14:topic_20 + topic_14:topic_22 + \n",
    "    topic_15:topic_16 + topic_15:topic_18 + topic_15:topic_21 + \n",
    "    topic_16:topic_19 + topic_16:topic_22 + topic_17:topic_18 + \n",
    "    topic_17:topic_20 + topic_17:topic_22 + topic_18:topic_23 + \n",
    "    topic_19:topic_20 + topic_19:topic_21 + topic_19:topic_23 + \n",
    "    topic_20:topic_21 + topic_21:topic_22 + topic_3:topic_8 + \n",
    "    topic_7:topic_18 + topic_5:topic_12\n",
    "\n",
    "\"\"\"\n",
    "y, X = dmatrices(formula,\n",
    "                 data=all_data, return_type='dataframe')\n",
    "mod = sm.OLS(y, X)\n",
    "res = mod.fit()\n",
    "print(res.summary())"
   ]
  },
  {
   "cell_type": "code",
   "execution_count": null,
   "metadata": {},
   "outputs": [],
   "source": [
    "plt.figure(figsize=(12, 5))\n",
    "sns.distplot(res.resid, kde=False, color='blue', bins=50)\n",
    "plt.title('OLS Residuals', fontsize=18)\n",
    "plt.xlabel('Residuals', fontsize=16)\n",
    "plt.ylabel('Count', fontsize=16)\n",
    "plt.xlim([-2.0, 2.0])"
   ]
  },
  {
   "cell_type": "code",
   "execution_count": null,
   "metadata": {},
   "outputs": [],
   "source": [
    "plt.figure(figsize=(12, 5))\n",
    "sns.scatterplot(x=res.resid, y=all_data['avg_comments'], color='blue')\n",
    "plt.title('Residuals vs Actuals', fontsize=18)\n",
    "plt.xlabel('Residuals', fontsize=16)\n",
    "plt.ylabel('Comment Activity', fontsize=16)\n",
    "plt.ylim([0, 8])\n",
    "plt.xlim([-2.0, 2.0])"
   ]
  },
  {
   "cell_type": "code",
   "execution_count": null,
   "metadata": {},
   "outputs": [],
   "source": [
    "mod = sm.GLM(y, X, family=sm.families.Gamma(link=sm.families.links.log))\n",
    "res = mod.fit()\n",
    "print(1 - (res.deviance/res.null_deviance))\n",
    "print(len(res.params))\n",
    "print(res.summary())"
   ]
  },
  {
   "cell_type": "code",
   "execution_count": null,
   "metadata": {},
   "outputs": [],
   "source": [
    "glm_marginal_effect('avg_clustering', res, X, all_data)"
   ]
  },
  {
   "cell_type": "code",
   "execution_count": null,
   "metadata": {},
   "outputs": [],
   "source": [
    "glm_marginal_effect('avg_min_path', res, X, all_data)"
   ]
  },
  {
   "cell_type": "code",
   "execution_count": null,
   "metadata": {},
   "outputs": [],
   "source": [
    "glm_marginal_effect('gini_coefficient', res, X, all_data)"
   ]
  },
  {
   "cell_type": "code",
   "execution_count": null,
   "metadata": {},
   "outputs": [],
   "source": [
    "all_data['comment_prediction'] = res.predict(X)"
   ]
  },
  {
   "cell_type": "code",
   "execution_count": null,
   "metadata": {},
   "outputs": [],
   "source": [
    "plt.figure(figsize=(12, 5))\n",
    "sns.scatterplot(x=abs(yhat - all_data['avg_comments']), y=all_data['avg_comments'], color='blue')\n",
    "plt.title('Residuals vs Actuals', fontsize=18)\n",
    "plt.xlabel('Residuals', fontsize=16)\n",
    "plt.ylabel('Comment Activity', fontsize=16)\n",
    "plt.ylim([0, 8])\n",
    "plt.xlim([0, 1.5])"
   ]
  },
  {
   "cell_type": "code",
   "execution_count": null,
   "metadata": {},
   "outputs": [],
   "source": [
    "avg_min_path = all_data['avg_min_path']\n",
    "gini_coefficient = all_data['gini_coefficient']\n",
    "avg_clustering = all_data['avg_clustering']\n",
    "crowd_pct = all_data['crowd_pct']\n",
    "\n",
    "effects_data = X.copy(deep=True)\n",
    "\n",
    "effects_data['avg_clusteringXcrowd_pct'] = crowd_pct*avg_clustering\n",
    "effects_data['avg_min_pathXcrowd_pct'] = crowd_pct*avg_min_path\n",
    "effects_data['gini_coefficientXcrowd_pct'] = crowd_pct*gini_coefficient\n",
    "\n",
    "effects_data['crowd_pct'] = crowd_pct\n",
    "effects_data['crowd_pct_2'] = crowd_pct**2\n",
    "\n",
    "effects_data['predictions'] = res.predict(effects_data)\n",
    "effects_data['crowd_pct_2_effect'] = effects_data['predictions'] * res.params['crowd_pct_2']\n",
    "effects_data['crowd_pct_param'] = (res.params['crowd_pct']\n",
    "                                    + avg_clustering * res.params['avg_clusteringXcrowd_pct']\n",
    "                                    + gini_coefficient * res.params['gini_coefficientXcrowd_pct']\n",
    "                                    + avg_min_path * res.params['avg_min_pathXcrowd_pct'])\n",
    "effects_data['total_effect'] = effects_data['predictions'] * (2 * res.params['crowd_pct_2'] * crowd_pct\n",
    "                                                              + effects_data['crowd_pct_param'])\n",
    "        \n",
    "        \n",
    "avg_effect = effects_data['total_effect'].mean()\n",
    "print(avg_effect)"
   ]
  },
  {
   "cell_type": "code",
   "execution_count": null,
   "metadata": {},
   "outputs": [],
   "source": [
    "plt.figure(figsize=(12, 5))\n",
    "\n",
    "marginal_effects = {'crowd_pct': [], 'effect': []}\n",
    "avg_min_path = all_data['avg_min_path']\n",
    "gini_coefficient = all_data['gini_coefficient']\n",
    "avg_clustering = all_data['avg_clustering']\n",
    "\n",
    "\n",
    "for i in range(100):\n",
    "    effects_data = X.copy(deep=True)\n",
    "    crowd_pct = i/100\n",
    "    effects_data['avg_clusteringXcrowd_pct'] = crowd_pct*avg_clustering\n",
    "    effects_data['avg_min_pathXcrowd_pct'] = crowd_pct*avg_min_path\n",
    "    effects_data['gini_coefficientXcrowd_pct'] = crowd_pct*gini_coefficient\n",
    "\n",
    "    effects_data['crowd_pct'] = crowd_pct\n",
    "    effects_data['crowd_pct_2'] = crowd_pct**2\n",
    "\n",
    "\n",
    "    effects_data['predictions'] = res.predict(effects_data)\n",
    "    effects_data['crowd_pct_2_effect'] = effects_data['predictions'] * res.params['crowd_pct_2']\n",
    "    effects_data['crowd_pct_param'] = (res.params['crowd_pct']\n",
    "                                        + avg_clustering * res.params['avg_clusteringXcrowd_pct']\n",
    "                                        + gini_coefficient * res.params['gini_coefficientXcrowd_pct']\n",
    "                                        + avg_min_path * res.params['avg_min_pathXcrowd_pct'])\n",
    "    effects_data['total_effect'] = effects_data['predictions'] * (2 * res.params['crowd_pct_2'] * crowd_pct\n",
    "                                                                    + effects_data['crowd_pct_param'])\n",
    "        \n",
    "        \n",
    "    avg_effect = effects_data['total_effect'].mean()\n",
    "    marginal_effects['crowd_pct'].append(crowd_pct)\n",
    "    marginal_effects['effect'].append(avg_effect)\n",
    "        \n",
    "marginal_effects = pd.DataFrame(marginal_effects)\n",
    "sns.lineplot(y=marginal_effects['effect'], x=marginal_effects['crowd_pct'])\n",
    "\n",
    "plt.legend(bbox_to_anchor=(1.05, 1), loc=2, borderaxespad=0.)\n",
    "plt.title('Marginal Effect', fontsize=18)\n",
    "plt.ylabel('Effect on Comment Activity', fontsize=16)\n",
    "plt.xlabel('Crowd Pct', fontsize=16)"
   ]
  },
  {
   "cell_type": "code",
   "execution_count": null,
   "metadata": {},
   "outputs": [],
   "source": [
    "plt.figure(figsize=(12, 5))\n",
    "\n",
    "for avg_clustering in [0.4, 0.5, 0.6, 0.7, 0.8]:\n",
    "    marginal_effects = {'crowd_pct': [], 'effect': []}\n",
    "    label = 'Avg Clustering: {} '.format(avg_clustering)\n",
    "    avg_min_path = all_data['avg_min_path']\n",
    "    gini_coefficient = all_data['gini_coefficient']\n",
    "\n",
    "    for i in range(100):\n",
    "        effects_data = X.copy(deep=True)\n",
    "        crowd_pct = i/100\n",
    "        effects_data['avg_clusteringXcrowd_pct'] = crowd_pct*avg_clustering\n",
    "        effects_data['avg_min_pathXcrowd_pct'] = crowd_pct*avg_min_path\n",
    "        effects_data['gini_coefficientXcrowd_pct'] = crowd_pct*gini_coefficient\n",
    "\n",
    "        effects_data['crowd_pct'] = crowd_pct\n",
    "        effects_data['crowd_pct_2'] = crowd_pct**2\n",
    "\n",
    "\n",
    "        effects_data['predictions'] = res.predict(effects_data)\n",
    "        effects_data['crowd_pct_2_effect'] = effects_data['predictions'] * res.params['crowd_pct_2']\n",
    "        effects_data['crowd_pct_param'] = (res.params['crowd_pct']\n",
    "                                           + avg_clustering * res.params['avg_clusteringXcrowd_pct']\n",
    "                                           + gini_coefficient * res.params['gini_coefficientXcrowd_pct']\n",
    "                                           + avg_min_path * res.params['avg_min_pathXcrowd_pct'])\n",
    "        effects_data['total_effect'] = effects_data['predictions'] * (2 * res.params['crowd_pct_2'] * crowd_pct\n",
    "                                                                      + effects_data['crowd_pct_param'])\n",
    "        \n",
    "        \n",
    "        avg_effect = effects_data['total_effect'].mean()\n",
    "        marginal_effects['crowd_pct'].append(crowd_pct)\n",
    "        marginal_effects['effect'].append(avg_effect)\n",
    "        \n",
    "    marginal_effects = pd.DataFrame(marginal_effects)\n",
    "    sns.lineplot(y=marginal_effects['effect'], x=marginal_effects['crowd_pct'], label=label)\n",
    "\n",
    "plt.legend(bbox_to_anchor=(1.05, 1), loc=2, borderaxespad=0.)\n",
    "plt.title('Marginal Effect', fontsize=18)\n",
    "plt.ylabel('Effect on Comment Activity', fontsize=16)\n",
    "plt.xlabel('Marginal Effect', fontsize=16)"
   ]
  },
  {
   "cell_type": "code",
   "execution_count": null,
   "metadata": {},
   "outputs": [],
   "source": [
    "plt.figure(figsize=(12, 5))\n",
    "\n",
    "for avg_min_path in [2, 2.25, 2.5, 2.75, 3]:\n",
    "    marginal_effects = {'crowd_pct': [], 'effect': []}\n",
    "    label = 'Avg Min Path: {} '.format(avg_min_path)\n",
    "    avg_clustering = all_data['avg_clustering']\n",
    "    gini_coefficient = all_data['gini_coefficient']\n",
    "\n",
    "    for i in range(100):\n",
    "        effects_data = X.copy(deep=True)\n",
    "        crowd_pct = i/100\n",
    "        effects_data['avg_clusteringXcrowd_pct'] = crowd_pct*avg_clustering\n",
    "        effects_data['avg_min_pathXcrowd_pct'] = crowd_pct*avg_min_path\n",
    "        effects_data['gini_coefficientXcrowd_pct'] = crowd_pct*gini_coefficient\n",
    "\n",
    "        effects_data['crowd_pct'] = crowd_pct\n",
    "        effects_data['crowd_pct_2'] = crowd_pct**2\n",
    "\n",
    "\n",
    "        effects_data['predictions'] = res.predict(effects_data)\n",
    "        effects_data['crowd_pct_2_effect'] = effects_data['predictions'] * res.params['crowd_pct_2']\n",
    "        effects_data['crowd_pct_param'] = (res.params['crowd_pct']\n",
    "                                           + avg_clustering * res.params['avg_clusteringXcrowd_pct']\n",
    "                                           + gini_coefficient * res.params['gini_coefficientXcrowd_pct']\n",
    "                                           + avg_min_path * res.params['avg_min_pathXcrowd_pct'])\n",
    "        effects_data['total_effect'] = effects_data['predictions'] * (2 * res.params['crowd_pct_2'] * crowd_pct\n",
    "                                                                      + effects_data['crowd_pct_param'])\n",
    "        \n",
    "        \n",
    "        avg_effect = effects_data['total_effect'].mean()\n",
    "        marginal_effects['crowd_pct'].append(crowd_pct)\n",
    "        marginal_effects['effect'].append(avg_effect)\n",
    "        \n",
    "    marginal_effects = pd.DataFrame(marginal_effects)\n",
    "    sns.lineplot(y=marginal_effects['effect'], x=marginal_effects['crowd_pct'], label=label)\n",
    "\n",
    "plt.legend(bbox_to_anchor=(1.05, 1), loc=2, borderaxespad=0.)\n",
    "plt.title('Marginal Effect', fontsize=18)\n",
    "plt.ylabel('Effect on Comment Activity', fontsize=16)\n",
    "plt.xlabel('Marginal Effect', fontsize=16)"
   ]
  },
  {
   "cell_type": "code",
   "execution_count": null,
   "metadata": {},
   "outputs": [],
   "source": [
    "plt.figure(figsize=(12, 5))\n",
    "\n",
    "for gini_coefficient in [0.4, 0.5, 0.6, 0.7]:\n",
    "    marginal_effects = {'crowd_pct': [], 'effect': []}\n",
    "    label = 'Gini Coefficient: {} '.format(gini_coefficient)\n",
    "    avg_clustering = all_data['avg_clustering']\n",
    "    avg_min_path = all_data['avg_min_path']\n",
    "\n",
    "    for i in range(100):\n",
    "        effects_data = X.copy(deep=True)\n",
    "        crowd_pct = i/100\n",
    "        effects_data['avg_clusteringXcrowd_pct'] = crowd_pct*avg_clustering\n",
    "        effects_data['avg_min_pathXcrowd_pct'] = crowd_pct*avg_min_path\n",
    "        effects_data['gini_coefficientXcrowd_pct'] = crowd_pct*gini_coefficient\n",
    "\n",
    "        effects_data['crowd_pct'] = crowd_pct\n",
    "        effects_data['crowd_pct_2'] = crowd_pct**2\n",
    "\n",
    "\n",
    "        effects_data['predictions'] = res.predict(effects_data)\n",
    "        effects_data['crowd_pct_2_effect'] = effects_data['predictions'] * res.params['crowd_pct_2']\n",
    "        effects_data['crowd_pct_param'] = (res.params['crowd_pct']\n",
    "                                           + avg_clustering * res.params['avg_clusteringXcrowd_pct']\n",
    "                                           + gini_coefficient * res.params['gini_coefficientXcrowd_pct']\n",
    "                                           + avg_min_path * res.params['avg_min_pathXcrowd_pct'])\n",
    "        effects_data['total_effect'] = effects_data['predictions'] * (2 * res.params['crowd_pct_2'] * crowd_pct\n",
    "                                                                      + effects_data['crowd_pct_param'])\n",
    "        \n",
    "        \n",
    "        avg_effect = effects_data['total_effect'].mean()\n",
    "        marginal_effects['crowd_pct'].append(crowd_pct)\n",
    "        marginal_effects['effect'].append(avg_effect)\n",
    "        \n",
    "    marginal_effects = pd.DataFrame(marginal_effects)\n",
    "    sns.lineplot(y=marginal_effects['effect'], x=marginal_effects['crowd_pct'], label=label)\n",
    "\n",
    "plt.legend(bbox_to_anchor=(1.05, 1), loc=2, borderaxespad=0.)\n",
    "plt.title('Marginal Effect', fontsize=18)\n",
    "plt.ylabel('Effect on Comment Activity', fontsize=16)\n",
    "plt.xlabel('Marginal Effect', fontsize=16)"
   ]
  },
  {
   "cell_type": "markdown",
   "metadata": {},
   "source": [
    "### Regression on Issues Submitted Over Time"
   ]
  },
  {
   "cell_type": "code",
   "execution_count": null,
   "metadata": {},
   "outputs": [],
   "source": [
    "plt.figure(figsize=(12, 5))\n",
    "sns.distplot(all_data['issues_over_time'], kde=False, color='blue', bins=100)\n",
    "plt.title('Issue Volume in Open Source Projects', fontsize=18)\n",
    "plt.xlabel('Median Requirement Duration (Days)', fontsize=16)\n",
    "plt.ylabel('Count', fontsize=16)"
   ]
  },
  {
   "cell_type": "code",
   "execution_count": null,
   "metadata": {},
   "outputs": [],
   "source": [
    "all_data['issues_over_time'].describe()"
   ]
  },
  {
   "cell_type": "code",
   "execution_count": null,
   "metadata": {},
   "outputs": [],
   "source": [
    "y, X = dmatrices('issues_over_time ~ ' + base_features,\n",
    "                 data=all_data, return_type='dataframe')\n",
    "mod = sm.OLS(y, X)\n",
    "res = mod.fit()\n",
    "yhat = res.predict(X)\n",
    "print(res.summary())"
   ]
  },
  {
   "cell_type": "code",
   "execution_count": null,
   "metadata": {},
   "outputs": [],
   "source": [
    "formula = \"\"\"\n",
    "issues_over_time ~ crowd_pct_2 + avg_clustering + \n",
    "    gini_coefficient + avg_clusteringXcrowd_pct + avg_min_pathXcrowd_pct + \n",
    "    gini_coefficientXcrowd_pct + total_contributors + project_age + \n",
    "    topic_0 + topic_1 + topic_2 + topic_3 + topic_4 + topic_5 + \n",
    "    topic_6 + topic_7 + topic_8 + topic_9 + topic_10 + topic_11 + \n",
    "    topic_12 + topic_13 + topic_14 + topic_15 + topic_16 + topic_17 + \n",
    "    topic_18 + topic_19 + topic_20 + topic_21 + topic_22 + topic_23 + \n",
    "    avg_min_path + topic_0:topic_1 + topic_0:topic_2 + topic_0:topic_3 + \n",
    "    topic_0:topic_5 + topic_0:topic_6 + topic_0:topic_7 + topic_0:topic_9 + \n",
    "    topic_0:topic_10 + topic_0:topic_11 + topic_0:topic_13 + \n",
    "    topic_0:topic_14 + topic_0:topic_15 + topic_0:topic_16 + \n",
    "    topic_0:topic_17 + topic_0:topic_18 + topic_0:topic_20 + \n",
    "    topic_0:topic_22 + topic_0:topic_23 + topic_1:topic_2 + topic_1:topic_4 + \n",
    "    topic_1:topic_5 + topic_1:topic_6 + topic_1:topic_10 + topic_1:topic_12 + \n",
    "    topic_1:topic_13 + topic_1:topic_14 + topic_1:topic_16 + \n",
    "    topic_1:topic_17 + topic_1:topic_18 + topic_1:topic_20 + \n",
    "    topic_2:topic_5 + topic_2:topic_16 + topic_2:topic_17 + topic_2:topic_19 + \n",
    "    topic_2:topic_22 + topic_2:topic_23 + topic_3:topic_7 + topic_3:topic_8 + \n",
    "    topic_3:topic_9 + topic_3:topic_11 + topic_3:topic_17 + topic_3:topic_18 + \n",
    "    topic_3:topic_22 + topic_4:topic_7 + topic_4:topic_10 + topic_4:topic_11 + \n",
    "    topic_4:topic_12 + topic_4:topic_14 + topic_4:topic_15 + \n",
    "    topic_4:topic_16 + topic_4:topic_18 + topic_4:topic_22 + \n",
    "    topic_4:topic_23 + topic_5:topic_6 + topic_5:topic_8 + topic_5:topic_11 + \n",
    "    topic_5:topic_14 + topic_5:topic_16 + topic_5:topic_17 + \n",
    "    topic_5:topic_18 + topic_6:topic_8 + topic_6:topic_10 + topic_6:topic_11 + \n",
    "    topic_6:topic_12 + topic_6:topic_14 + topic_6:topic_16 + \n",
    "    topic_6:topic_17 + topic_6:topic_18 + topic_6:topic_21 + \n",
    "    topic_6:topic_22 + topic_7:topic_9 + topic_7:topic_10 + topic_7:topic_11 + \n",
    "    topic_7:topic_17 + topic_7:topic_19 + topic_7:topic_20 + \n",
    "    topic_7:topic_22 + topic_8:topic_9 + topic_8:topic_10 + topic_8:topic_14 + \n",
    "    topic_8:topic_15 + topic_8:topic_17 + topic_8:topic_19 + \n",
    "    topic_8:topic_21 + topic_8:topic_22 + topic_9:topic_13 + \n",
    "    topic_9:topic_16 + topic_9:topic_18 + topic_9:topic_19 + \n",
    "    topic_9:topic_21 + topic_9:topic_22 + topic_9:topic_23 + \n",
    "    topic_10:topic_12 + topic_10:topic_15 + topic_10:topic_17 + \n",
    "    topic_10:topic_18 + topic_10:topic_19 + topic_10:topic_21 + \n",
    "    topic_10:topic_22 + topic_11:topic_13 + topic_11:topic_14 + \n",
    "    topic_11:topic_16 + topic_11:topic_17 + topic_11:topic_21 + \n",
    "    topic_11:topic_23 + topic_12:topic_13 + topic_12:topic_15 + \n",
    "    topic_12:topic_19 + topic_12:topic_22 + topic_12:topic_23 + \n",
    "    topic_13:topic_16 + topic_13:topic_17 + topic_13:topic_18 + \n",
    "    topic_13:topic_19 + topic_13:topic_20 + topic_14:topic_16 + \n",
    "    topic_14:topic_17 + topic_14:topic_20 + topic_14:topic_23 + \n",
    "    topic_15:topic_16 + topic_15:topic_17 + topic_15:topic_18 + \n",
    "    topic_15:topic_20 + topic_15:topic_21 + topic_16:topic_17 + \n",
    "    topic_16:topic_22 + topic_16:topic_23 + topic_17:topic_19 + \n",
    "    topic_17:topic_20 + topic_17:topic_21 + topic_17:topic_23 + \n",
    "    topic_18:topic_19 + topic_18:topic_20 + topic_18:topic_22 + \n",
    "    topic_18:topic_23 + topic_19:topic_23 + topic_20:topic_21 + \n",
    "    topic_20:topic_23 + topic_21:topic_22 + topic_22:topic_23\n",
    "\"\"\"\n",
    "y, X = dmatrices(formula,\n",
    "                 data=all_data, return_type='dataframe')\n",
    "mod = sm.OLS(y, X)\n",
    "res = mod.fit()\n",
    "print(res.summary())"
   ]
  },
  {
   "cell_type": "code",
   "execution_count": null,
   "metadata": {},
   "outputs": [],
   "source": [
    "plt.figure(figsize=(12, 5))\n",
    "sns.distplot(res.resid, kde=False, color='blue', bins=50)\n",
    "plt.title('OLS Residuals', fontsize=18)\n",
    "plt.xlabel('Residuals', fontsize=16)\n",
    "plt.ylabel('Count', fontsize=16)"
   ]
  },
  {
   "cell_type": "code",
   "execution_count": null,
   "metadata": {},
   "outputs": [],
   "source": [
    "plt.figure(figsize=(12, 5))\n",
    "sns.scatterplot(x=res.resid, y=all_data['issues_over_time'], color='blue')\n",
    "plt.title('Residuals vs Actuals', fontsize=18)\n",
    "plt.xlabel('Residuals', fontsize=16)\n",
    "plt.ylabel('Issues over Time', fontsize=16)\n",
    "#plt.ylim([0, 2.5])\n",
    "#plt.xlim([-0.75, .75])"
   ]
  },
  {
   "cell_type": "code",
   "execution_count": null,
   "metadata": {},
   "outputs": [],
   "source": [
    "mod = sm.GLM(y, X, family=sm.families.Gamma(link=sm.families.links.log))\n",
    "res = mod.fit()\n",
    "print(1 - (res.deviance/res.null_deviance))\n",
    "print(len(res.params))\n",
    "print(res.summary())"
   ]
  },
  {
   "cell_type": "code",
   "execution_count": null,
   "metadata": {},
   "outputs": [],
   "source": [
    "glm_marginal_effect('avg_clustering', res, X, all_data)"
   ]
  },
  {
   "cell_type": "code",
   "execution_count": null,
   "metadata": {},
   "outputs": [],
   "source": [
    "glm_marginal_effect('avg_min_path', res, X, all_data)"
   ]
  },
  {
   "cell_type": "code",
   "execution_count": null,
   "metadata": {},
   "outputs": [],
   "source": [
    "glm_marginal_effect('gini_coefficient', res, X, all_data)"
   ]
  },
  {
   "cell_type": "code",
   "execution_count": null,
   "metadata": {},
   "outputs": [],
   "source": [
    "avg_clustering = all_data['avg_clustering']\n",
    "avg_min_path = all_data['avg_min_path']\n",
    "crowd_pct = all_data['crowd_pct']\n",
    "\n",
    "\n",
    "effects_data = X.copy(deep=True)\n",
    "\n",
    "effects_data['avg_clusteringXcrowd_pct'] = crowd_pct*avg_clustering\n",
    "effects_data['avg_min_pathXcrowd_pct'] = crowd_pct*avg_min_path\n",
    "effects_data['gini_coefficientXcrowd_pct'] = crowd_pct*gini_coefficient\n",
    "\n",
    "effects_data['crowd_pct_2'] = crowd_pct**2\n",
    "\n",
    "effects_data['predictions'] = res.predict(effects_data)\n",
    "effects_data['crowd_pct_2_effect'] = effects_data['predictions'] * res.params['crowd_pct_2']\n",
    "effects_data['crowd_pct_param'] = (avg_clustering * res.params['avg_clusteringXcrowd_pct']\n",
    "                                    + gini_coefficient * res.params['gini_coefficientXcrowd_pct']\n",
    "                                    + avg_min_path * res.params['avg_min_pathXcrowd_pct'])\n",
    "effects_data['total_effect'] = effects_data['predictions'] * (2 * res.params['crowd_pct_2'] * crowd_pct\n",
    "                                                              + effects_data['crowd_pct_param'])\n",
    "        \n",
    "        \n",
    "avg_effect = effects_data['total_effect'].mean()\n",
    "print(avg_effect)"
   ]
  },
  {
   "cell_type": "code",
   "execution_count": null,
   "metadata": {},
   "outputs": [],
   "source": [
    "plt.figure(figsize=(12, 5))\n",
    "\n",
    "marginal_effects = {'crowd_pct': [], 'effect': []}\n",
    "avg_min_path = all_data['avg_min_path']\n",
    "gini_coefficient = all_data['gini_coefficient']\n",
    "avg_clustering = all_data['avg_clustering']\n",
    "\n",
    "\n",
    "for i in range(100):\n",
    "    effects_data = X.copy(deep=True)\n",
    "    crowd_pct = i/100\n",
    "    effects_data['avg_clusteringXcrowd_pct'] = crowd_pct*avg_clustering\n",
    "    effects_data['avg_min_pathXcrowd_pct'] = crowd_pct*avg_min_path\n",
    "    effects_data['gini_coefficientXcrowd_pct'] = crowd_pct*gini_coefficient\n",
    "\n",
    "    effects_data['crowd_pct_2'] = crowd_pct**2\n",
    "\n",
    "    effects_data['predictions'] = res.predict(effects_data)\n",
    "    effects_data['crowd_pct_2_effect'] = effects_data['predictions'] * res.params['crowd_pct_2']\n",
    "    effects_data['crowd_pct_param'] = (avg_clustering * res.params['avg_clusteringXcrowd_pct']\n",
    "                                        + gini_coefficient * res.params['gini_coefficientXcrowd_pct']\n",
    "                                        + avg_min_path * res.params['avg_min_pathXcrowd_pct'])\n",
    "    effects_data['total_effect'] = effects_data['predictions'] * (2 * res.params['crowd_pct_2'] * crowd_pct\n",
    "                                                                    + effects_data['crowd_pct_param'])\n",
    "        \n",
    "        \n",
    "    avg_effect = effects_data['total_effect'].mean()\n",
    "    marginal_effects['crowd_pct'].append(crowd_pct)\n",
    "    marginal_effects['effect'].append(avg_effect)\n",
    "        \n",
    "marginal_effects = pd.DataFrame(marginal_effects)\n",
    "sns.lineplot(y=marginal_effects['effect'], x=marginal_effects['crowd_pct'])\n",
    "\n",
    "plt.legend(bbox_to_anchor=(1.05, 1), loc=2, borderaxespad=0.)\n",
    "plt.title('Marginal Effect', fontsize=18)\n",
    "plt.ylabel('Effect on Issue Volume', fontsize=16)\n",
    "plt.xlabel('Crowd Pct', fontsize=16)"
   ]
  },
  {
   "cell_type": "code",
   "execution_count": null,
   "metadata": {},
   "outputs": [],
   "source": [
    "plt.figure(figsize=(12, 5))\n",
    "\n",
    "for avg_clustering in [0.4, 0.5, 0.6, 0.7, 0.8]:\n",
    "    marginal_effects = {'crowd_pct': [], 'effect': []}\n",
    "    label = 'Avg Clustering: {} '.format(avg_clustering)\n",
    "    avg_min_path = all_data['avg_min_path']\n",
    "    gini_coefficient = all_data['gini_coefficient']\n",
    "\n",
    "    for i in range(100):\n",
    "        effects_data = X.copy(deep=True)\n",
    "        crowd_pct = i/100\n",
    "        effects_data['avg_clusteringXcrowd_pct'] = crowd_pct*avg_clustering\n",
    "        effects_data['avg_min_pathXcrowd_pct'] = crowd_pct*avg_min_path\n",
    "        effects_data['gini_coefficientXcrowd_pct'] = crowd_pct*gini_coefficient\n",
    "\n",
    "        effects_data['crowd_pct_2'] = crowd_pct**2\n",
    "\n",
    "        effects_data['predictions'] = res.predict(effects_data)\n",
    "        effects_data['crowd_pct_2_effect'] = effects_data['predictions'] * res.params['crowd_pct_2']\n",
    "        effects_data['crowd_pct_param'] = (avg_clustering * res.params['avg_clusteringXcrowd_pct']\n",
    "                                           + gini_coefficient * res.params['gini_coefficientXcrowd_pct']\n",
    "                                           + avg_min_path * res.params['avg_min_pathXcrowd_pct'])\n",
    "        effects_data['total_effect'] = effects_data['predictions'] * (2 * res.params['crowd_pct_2'] * crowd_pct\n",
    "                                                                      + effects_data['crowd_pct_param'])\n",
    "        \n",
    "        \n",
    "        avg_effect = effects_data['total_effect'].mean()\n",
    "        marginal_effects['crowd_pct'].append(crowd_pct)\n",
    "        marginal_effects['effect'].append(avg_effect)\n",
    "        \n",
    "    marginal_effects = pd.DataFrame(marginal_effects)\n",
    "    sns.lineplot(y=marginal_effects['effect'], x=marginal_effects['crowd_pct'], label=label)\n",
    "\n",
    "plt.legend(bbox_to_anchor=(1.05, 1), loc=2, borderaxespad=0.)\n",
    "plt.title('Marginal Effect', fontsize=18)\n",
    "plt.ylabel('Effect on Issue Volume', fontsize=16)\n",
    "plt.xlabel('Marginal Effect', fontsize=16)"
   ]
  },
  {
   "cell_type": "code",
   "execution_count": null,
   "metadata": {},
   "outputs": [],
   "source": [
    "plt.figure(figsize=(12, 5))\n",
    "\n",
    "for avg_min_path in [2, 2.25, 2.5, 2.75, 3]:\n",
    "    marginal_effects = {'crowd_pct': [], 'effect': []}\n",
    "    label = 'Avg Min Path: {} '.format(avg_min_path)\n",
    "    avg_clustering = all_data['avg_clustering']\n",
    "    gini_coefficient = all_data['gini_coefficient']\n",
    "\n",
    "    for i in range(100):\n",
    "        effects_data = X.copy(deep=True)\n",
    "        crowd_pct = i/100\n",
    "        effects_data['avg_clusteringXcrowd_pct'] = crowd_pct*avg_clustering\n",
    "        effects_data['avg_min_pathXcrowd_pct'] = crowd_pct*avg_min_path\n",
    "        effects_data['gini_coefficientXcrowd_pct'] = crowd_pct*gini_coefficient\n",
    "\n",
    "        effects_data['crowd_pct_2'] = crowd_pct**2\n",
    "\n",
    "        effects_data['predictions'] = res.predict(effects_data)\n",
    "        effects_data['crowd_pct_2_effect'] = effects_data['predictions'] * res.params['crowd_pct_2']\n",
    "        effects_data['crowd_pct_param'] = (avg_clustering * res.params['avg_clusteringXcrowd_pct']\n",
    "                                           + gini_coefficient * res.params['gini_coefficientXcrowd_pct']\n",
    "                                           + avg_min_path * res.params['avg_min_pathXcrowd_pct'])\n",
    "        effects_data['total_effect'] = effects_data['predictions'] * (2 * res.params['crowd_pct_2'] * crowd_pct\n",
    "                                                                      + effects_data['crowd_pct_param'])\n",
    "        \n",
    "        \n",
    "        avg_effect = effects_data['total_effect'].mean()\n",
    "        marginal_effects['crowd_pct'].append(crowd_pct)\n",
    "        marginal_effects['effect'].append(avg_effect)\n",
    "        \n",
    "    marginal_effects = pd.DataFrame(marginal_effects)\n",
    "    sns.lineplot(y=marginal_effects['effect'], x=marginal_effects['crowd_pct'], label=label)\n",
    "\n",
    "plt.legend(bbox_to_anchor=(1.05, 1), loc=2, borderaxespad=0.)\n",
    "plt.title('Marginal Effect', fontsize=18)\n",
    "plt.ylabel('Effect on Issue Volume', fontsize=16)\n",
    "plt.xlabel('Marginal Effect', fontsize=16)"
   ]
  },
  {
   "cell_type": "code",
   "execution_count": null,
   "metadata": {},
   "outputs": [],
   "source": [
    "plt.figure(figsize=(12, 5))\n",
    "\n",
    "for gini_coefficient in [0.4, 0.5, 0.6, 0.7]:\n",
    "    marginal_effects = {'crowd_pct': [], 'effect': []}\n",
    "    label = 'Gini Coefficient: {} '.format(gini_coefficient)\n",
    "    avg_clustering = all_data['avg_clustering']\n",
    "    avg_min_path = all_data['avg_min_path']\n",
    "\n",
    "    for i in range(100):\n",
    "        effects_data = X.copy(deep=True)\n",
    "        crowd_pct = i/100\n",
    "        effects_data['avg_clusteringXcrowd_pct'] = crowd_pct*avg_clustering\n",
    "        effects_data['avg_min_pathXcrowd_pct'] = crowd_pct*avg_min_path\n",
    "        effects_data['gini_coefficientXcrowd_pct'] = crowd_pct*gini_coefficient\n",
    "\n",
    "        effects_data['crowd_pct_2'] = crowd_pct**2\n",
    "\n",
    "        effects_data['predictions'] = res.predict(effects_data)\n",
    "        effects_data['crowd_pct_2_effect'] = effects_data['predictions'] * res.params['crowd_pct_2']\n",
    "        effects_data['crowd_pct_param'] = (avg_clustering * res.params['avg_clusteringXcrowd_pct']\n",
    "                                           + gini_coefficient * res.params['gini_coefficientXcrowd_pct']\n",
    "                                           + avg_min_path * res.params['avg_min_pathXcrowd_pct'])\n",
    "        effects_data['total_effect'] = effects_data['predictions'] * (2 * res.params['crowd_pct_2'] * crowd_pct\n",
    "                                                                      + effects_data['crowd_pct_param'])\n",
    "        \n",
    "        \n",
    "        avg_effect = effects_data['total_effect'].mean()\n",
    "        marginal_effects['crowd_pct'].append(crowd_pct)\n",
    "        marginal_effects['effect'].append(avg_effect)\n",
    "        \n",
    "    marginal_effects = pd.DataFrame(marginal_effects)\n",
    "    sns.lineplot(y=marginal_effects['effect'], x=marginal_effects['crowd_pct'], label=label)\n",
    "\n",
    "plt.legend(bbox_to_anchor=(1.05, 1), loc=2, borderaxespad=0.)\n",
    "plt.title('Marginal Effect', fontsize=18)\n",
    "plt.ylabel('Effect on Issue Volume', fontsize=16)\n",
    "plt.xlabel('Marginal Effect', fontsize=16)"
   ]
  },
  {
   "cell_type": "markdown",
   "metadata": {},
   "source": [
    "### Pct Closed out under 30"
   ]
  },
  {
   "cell_type": "code",
   "execution_count": null,
   "metadata": {},
   "outputs": [],
   "source": [
    "plt.figure(figsize=(12, 5))\n",
    "sns.distplot(all_data['pct_under_30'], kde=False, color='blue', bins=50)\n",
    "plt.title('Close Out Time for Requirements', fontsize=18)\n",
    "plt.xlabel('Percentage of Requirements Closed in 30 Days', fontsize=16)\n",
    "plt.ylabel('Count', fontsize=16)\n",
    "plt.xlim([0,1])"
   ]
  },
  {
   "cell_type": "code",
   "execution_count": null,
   "metadata": {},
   "outputs": [],
   "source": [
    "all_data['pct_under_30'].describe()"
   ]
  },
  {
   "cell_type": "code",
   "execution_count": null,
   "metadata": {},
   "outputs": [],
   "source": [
    "y, X = dmatrices('pct_under_30 ~ ' + base_features,\n",
    "                 data=all_data, return_type='dataframe')\n",
    "mod = sm.OLS(y, X)\n",
    "res = mod.fit()\n",
    "yhat = res.predict(X)\n",
    "print(res.summary())"
   ]
  },
  {
   "cell_type": "code",
   "execution_count": null,
   "metadata": {},
   "outputs": [],
   "source": [
    "formula = \"\"\"\n",
    " pct_under_30 ~ crowd_pct_2 + avg_clustering + gini_coefficient + \n",
    "    avg_min_pathXcrowd_pct + project_age + topic_0 + topic_1 + \n",
    "    topic_2 + topic_3 + topic_4 + topic_5 + topic_6 + topic_7 + \n",
    "    topic_8 + topic_9 + topic_10 + topic_11 + topic_12 + topic_13 + \n",
    "    topic_14 + topic_15 + topic_16 + topic_17 + topic_18 + topic_19 + \n",
    "    topic_20 + topic_21 + topic_22 + topic_23 + topic_0:topic_6 + \n",
    "    topic_0:topic_7 + topic_0:topic_8 + topic_0:topic_18 + topic_0:topic_20 + \n",
    "    topic_0:topic_22 + topic_0:topic_23 + topic_1:topic_10 + \n",
    "    topic_1:topic_11 + topic_1:topic_13 + topic_1:topic_14 + \n",
    "    topic_1:topic_17 + topic_1:topic_20 + topic_1:topic_22 + \n",
    "    topic_2:topic_4 + topic_2:topic_10 + topic_2:topic_16 + topic_2:topic_17 + \n",
    "    topic_2:topic_18 + topic_2:topic_22 + topic_3:topic_4 + topic_3:topic_9 + \n",
    "    topic_3:topic_10 + topic_3:topic_13 + topic_3:topic_15 + \n",
    "    topic_3:topic_16 + topic_3:topic_21 + topic_3:topic_22 + \n",
    "    topic_4:topic_6 + topic_4:topic_9 + topic_4:topic_10 + topic_4:topic_12 + \n",
    "    topic_4:topic_14 + topic_4:topic_19 + topic_4:topic_23 + \n",
    "    topic_5:topic_6 + topic_5:topic_9 + topic_5:topic_15 + topic_5:topic_18 + \n",
    "    topic_5:topic_19 + topic_5:topic_23 + topic_6:topic_10 + \n",
    "    topic_6:topic_17 + topic_6:topic_22 + topic_7:topic_8 + topic_7:topic_9 + \n",
    "    topic_7:topic_10 + topic_7:topic_12 + topic_7:topic_14 + \n",
    "    topic_7:topic_15 + topic_7:topic_16 + topic_7:topic_20 + \n",
    "    topic_8:topic_9 + topic_8:topic_12 + topic_8:topic_14 + topic_8:topic_17 + \n",
    "    topic_8:topic_18 + topic_9:topic_13 + topic_9:topic_15 + \n",
    "    topic_9:topic_17 + topic_9:topic_19 + topic_9:topic_22 + \n",
    "    topic_9:topic_23 + topic_10:topic_15 + topic_10:topic_16 + \n",
    "    topic_10:topic_18 + topic_10:topic_19 + topic_10:topic_21 + \n",
    "    topic_11:topic_15 + topic_11:topic_17 + topic_12:topic_18 + \n",
    "    topic_12:topic_19 + topic_12:topic_20 + topic_13:topic_14 + \n",
    "    topic_13:topic_16 + topic_13:topic_19 + topic_13:topic_22 + \n",
    "    topic_13:topic_23 + topic_14:topic_18 + topic_14:topic_19 + \n",
    "    topic_14:topic_22 + topic_15:topic_20 + topic_15:topic_21 + \n",
    "    topic_15:topic_23 + topic_16:topic_18 + topic_16:topic_23 + \n",
    "    topic_17:topic_19 + topic_17:topic_23 + topic_18:topic_21 + \n",
    "    topic_18:topic_22 + topic_18:topic_23 + topic_19:topic_20 + \n",
    "    topic_20:topic_22 + topic_21:topic_23 + topic_2:topic_19 + \n",
    "    topic_0:topic_10 + topic_1:topic_3\n",
    "\"\"\"\n",
    "y, X = dmatrices(formula,\n",
    "                 data=all_data, return_type='dataframe')\n",
    "mod = sm.OLS(y, X)\n",
    "res = mod.fit()\n",
    "print(res.summary())"
   ]
  },
  {
   "cell_type": "code",
   "execution_count": null,
   "metadata": {},
   "outputs": [],
   "source": [
    "plt.figure(figsize=(12, 5))\n",
    "sns.distplot(res.resid, kde=False, color='blue', bins=50)\n",
    "plt.title('OLS Residuals', fontsize=18)\n",
    "plt.xlabel('Residuals', fontsize=16)\n",
    "plt.ylabel('Count', fontsize=16)"
   ]
  },
  {
   "cell_type": "code",
   "execution_count": null,
   "metadata": {},
   "outputs": [],
   "source": [
    "plt.figure(figsize=(12, 5))\n",
    "sns.scatterplot(x=res.resid, y=all_data['issues_over_time'], color='blue')\n",
    "plt.title('Residuals vs Actuals', fontsize=18)\n",
    "plt.xlabel('Residuals', fontsize=16)\n",
    "plt.ylabel('Issues over Time', fontsize=16)\n",
    "plt.ylim([0, 20])\n",
    "plt.xlim([-0.2, 0.2])"
   ]
  },
  {
   "cell_type": "code",
   "execution_count": null,
   "metadata": {},
   "outputs": [],
   "source": [
    "params = {'crowd_pct_2': 1.45256931291647,\n",
    "          'avg_min_pathXcrowd_pct': -1.0979488383932,\n",
    "          'avg_clustering': -1.94602300853525,\n",
    "          'gini_coefficient': 1.99828032440915}"
   ]
  },
  {
   "cell_type": "code",
   "execution_count": null,
   "metadata": {},
   "outputs": [],
   "source": [
    "for x in params:\n",
    "    print('{}: {}'.format(x, np.exp(params[x])))"
   ]
  },
  {
   "cell_type": "code",
   "execution_count": null,
   "metadata": {},
   "outputs": [],
   "source": [
    "np.exp(np.mean(all_data['crowd_pct']*params['avg_min_pathXcrowd_pct']))"
   ]
  },
  {
   "cell_type": "code",
   "execution_count": null,
   "metadata": {},
   "outputs": [],
   "source": [
    "plt.figure(figsize=(12, 5))\n",
    "\n",
    "marginal_effects = {'crowd_pct': [], 'effect': []}\n",
    "avg_min_path = all_data['avg_min_path']\n",
    "crowd_pct = all_data['crowd_pct']\n",
    "\n",
    "effects_data = X.copy(deep=True)\n",
    "\n",
    "effects_data['avg_min_pathXcrowd_pct'] = crowd_pct*avg_min_path\n",
    "effects_data['crowd_pct_2'] = crowd_pct**2\n",
    "        \n",
    "effects_data['crowd_pct_param'] = avg_min_path * res.params['avg_min_pathXcrowd_pct']\n",
    "effects_data['total_effect'] = np.exp(2 * params['crowd_pct_2'] * crowd_pct\n",
    "                                      + effects_data['crowd_pct_param'])\n",
    "        \n",
    "        \n",
    "avg_effect = effects_data['total_effect'].mean()\n",
    "print(avg_effect)"
   ]
  },
  {
   "cell_type": "code",
   "execution_count": null,
   "metadata": {},
   "outputs": [],
   "source": [
    "plt.figure(figsize=(12, 5))\n",
    "\n",
    "marginal_effects = {'crowd_pct': [], 'effect': []}\n",
    "avg_min_path = all_data['avg_min_path']\n",
    "\n",
    "for i in range(100):\n",
    "    effects_data = X.copy(deep=True)\n",
    "    crowd_pct = i/100\n",
    "    effects_data['avg_min_pathXcrowd_pct'] = crowd_pct*avg_min_path\n",
    "    effects_data['crowd_pct_2'] = crowd_pct**2\n",
    "        \n",
    "    effects_data['crowd_pct_param'] = avg_min_path * res.params['avg_min_pathXcrowd_pct']\n",
    "    effects_data['total_effect'] = np.exp(2 * params['crowd_pct_2'] * crowd_pct\n",
    "                                            + effects_data['crowd_pct_param'])\n",
    "        \n",
    "        \n",
    "    avg_effect = effects_data['total_effect'].mean()\n",
    "    marginal_effects['crowd_pct'].append(crowd_pct)\n",
    "    marginal_effects['effect'].append(avg_effect)\n",
    "        \n",
    "marginal_effects = pd.DataFrame(marginal_effects)\n",
    "sns.lineplot(y=marginal_effects['effect'], x=marginal_effects['crowd_pct'])\n",
    "\n",
    "plt.legend(bbox_to_anchor=(1.05, 1), loc=2, borderaxespad=0.)\n",
    "plt.title('Marginal Effect', fontsize=18)\n",
    "plt.ylabel('Effect on Issue Volume', fontsize=16)\n",
    "plt.xlabel('Marginal Effect', fontsize=16)"
   ]
  },
  {
   "cell_type": "code",
   "execution_count": null,
   "metadata": {},
   "outputs": [],
   "source": [
    "plt.figure(figsize=(12, 5))\n",
    "\n",
    "for avg_min_path in [2, 2.25, 2.5, 2.75, 3]:\n",
    "    marginal_effects = {'crowd_pct': [], 'effect': []}\n",
    "    label = 'Avg Min Path: {} '.format(avg_min_path)\n",
    "\n",
    "    for i in range(100):\n",
    "        effects_data = X.copy(deep=True)\n",
    "        crowd_pct = i/100\n",
    "        effects_data['avg_min_pathXcrowd_pct'] = crowd_pct*avg_min_path\n",
    "        effects_data['crowd_pct_2'] = crowd_pct**2\n",
    "        \n",
    "        effects_data['crowd_pct_param'] = avg_min_path * res.params['avg_min_pathXcrowd_pct']\n",
    "        effects_data['total_effect'] = np.exp(2 * params['crowd_pct_2'] * crowd_pct\n",
    "                                              + effects_data['crowd_pct_param'])\n",
    "        \n",
    "        \n",
    "        avg_effect = effects_data['total_effect'].mean()\n",
    "        marginal_effects['crowd_pct'].append(crowd_pct)\n",
    "        marginal_effects['effect'].append(avg_effect)\n",
    "        \n",
    "    marginal_effects = pd.DataFrame(marginal_effects)\n",
    "    sns.lineplot(y=marginal_effects['effect'], x=marginal_effects['crowd_pct'], label=label)\n",
    "\n",
    "plt.legend(bbox_to_anchor=(1.05, 1), loc=2, borderaxespad=0.)\n",
    "plt.title('Marginal Effect', fontsize=18)\n",
    "plt.ylabel('Effect on Issue Volume', fontsize=16)\n",
    "plt.xlabel('Marginal Effect', fontsize=16)"
   ]
  },
  {
   "cell_type": "markdown",
   "metadata": {},
   "source": [
    "### Avg First Comment Time"
   ]
  },
  {
   "cell_type": "code",
   "execution_count": null,
   "metadata": {},
   "outputs": [],
   "source": [
    "all_data['avg_first_comment'].describe()"
   ]
  },
  {
   "cell_type": "code",
   "execution_count": null,
   "metadata": {},
   "outputs": [],
   "source": [
    "plt.figure(figsize=(12, 5))\n",
    "sns.distplot(all_data['avg_first_comment'], kde=False, color='blue', bins=100)\n",
    "plt.title('Initial Response to Issues', fontsize=18)\n",
    "plt.xlabel('Avg. Initial Response (Days)', fontsize=16)\n",
    "plt.ylabel('Count', fontsize=16)\n",
    "plt.xlim([0, 150])"
   ]
  },
  {
   "cell_type": "code",
   "execution_count": null,
   "metadata": {},
   "outputs": [],
   "source": [
    "y, X = dmatrices('avg_first_comment ~ ' + base_features,\n",
    "                 data=all_data, return_type='dataframe')\n",
    "mod = sm.OLS(y, X)\n",
    "res = mod.fit()\n",
    "yhat = res.predict(X)\n",
    "print(res.summary())"
   ]
  },
  {
   "cell_type": "code",
   "execution_count": null,
   "metadata": {},
   "outputs": [],
   "source": [
    "formula = \"\"\"\n",
    "avg_first_comment ~ crowd_pct + crowd_pct_2 + avg_clustering + \n",
    "    avg_min_path + gini_coefficient + avg_clusteringXcrowd_pct + \n",
    "    total_contributors + project_age + topic_0 + topic_1 + topic_2 + \n",
    "    topic_3 + topic_4 + topic_5 + topic_6 + topic_7 + topic_8 + \n",
    "    topic_9 + topic_10 + topic_11 + topic_12 + topic_13 + topic_14 + \n",
    "    topic_15 + topic_16 + topic_17 + topic_18 + topic_19 + topic_20 + \n",
    "    topic_21 + topic_22 + topic_23 + topic_0:topic_5 + topic_0:topic_11 + \n",
    "    topic_0:topic_12 + topic_0:topic_13 + topic_0:topic_15 + \n",
    "    topic_0:topic_21 + topic_1:topic_3 + topic_1:topic_4 + topic_1:topic_7 + \n",
    "    topic_1:topic_8 + topic_1:topic_11 + topic_1:topic_12 + topic_1:topic_17 + \n",
    "    topic_1:topic_19 + topic_1:topic_21 + topic_1:topic_22 + \n",
    "    topic_2:topic_6 + topic_2:topic_7 + topic_2:topic_12 + topic_2:topic_13 + \n",
    "    topic_2:topic_14 + topic_2:topic_15 + topic_2:topic_18 + \n",
    "    topic_2:topic_20 + topic_2:topic_22 + topic_3:topic_6 + topic_3:topic_11 + \n",
    "    topic_3:topic_13 + topic_3:topic_14 + topic_3:topic_15 + \n",
    "    topic_3:topic_16 + topic_3:topic_19 + topic_3:topic_21 + \n",
    "    topic_3:topic_22 + topic_4:topic_5 + topic_4:topic_7 + topic_4:topic_8 + \n",
    "    topic_4:topic_9 + topic_4:topic_12 + topic_4:topic_14 + topic_4:topic_18 + \n",
    "    topic_4:topic_22 + topic_5:topic_11 + topic_5:topic_12 + \n",
    "    topic_5:topic_22 + topic_6:topic_7 + topic_6:topic_9 + topic_6:topic_13 + \n",
    "    topic_6:topic_17 + topic_6:topic_18 + topic_6:topic_19 + \n",
    "    topic_6:topic_21 + topic_6:topic_22 + topic_7:topic_9 + topic_7:topic_12 + \n",
    "    topic_7:topic_22 + topic_8:topic_11 + topic_8:topic_12 + \n",
    "    topic_8:topic_13 + topic_8:topic_14 + topic_8:topic_15 + \n",
    "    topic_8:topic_18 + topic_8:topic_21 + topic_9:topic_12 + \n",
    "    topic_9:topic_14 + topic_9:topic_18 + topic_9:topic_20 + \n",
    "    topic_9:topic_21 + topic_9:topic_22 + topic_10:topic_12 + \n",
    "    topic_10:topic_20 + topic_10:topic_21 + topic_11:topic_14 + \n",
    "    topic_11:topic_15 + topic_11:topic_17 + topic_11:topic_19 + \n",
    "    topic_11:topic_20 + topic_11:topic_22 + topic_12:topic_14 + \n",
    "    topic_12:topic_17 + topic_12:topic_19 + topic_12:topic_20 + \n",
    "    topic_12:topic_21 + topic_13:topic_15 + topic_13:topic_18 + \n",
    "    topic_13:topic_19 + topic_14:topic_15 + topic_14:topic_16 + \n",
    "    topic_14:topic_18 + topic_14:topic_20 + topic_14:topic_21 + \n",
    "    topic_15:topic_16 + topic_15:topic_17 + topic_15:topic_20 + \n",
    "    topic_16:topic_19 + topic_17:topic_18 + topic_17:topic_22 + \n",
    "    topic_18:topic_22 + topic_18:topic_23 + topic_19:topic_20 + \n",
    "    topic_21:topic_23 + topic_0:topic_1 + topic_1:topic_10 + \n",
    "    topic_9:topic_19\n",
    "\"\"\"\n",
    "y, X = dmatrices(formula,\n",
    "                 data=all_data, return_type='dataframe')\n",
    "mod = sm.OLS(y, X)\n",
    "res = mod.fit()\n",
    "print(len(res.params))\n",
    "print(res.summary())"
   ]
  },
  {
   "cell_type": "code",
   "execution_count": null,
   "metadata": {},
   "outputs": [],
   "source": [
    "all_data['p_avg_first_comment'] = res.predict(X)"
   ]
  },
  {
   "cell_type": "code",
   "execution_count": null,
   "metadata": {},
   "outputs": [],
   "source": [
    "plt.figure(figsize=(12, 5))\n",
    "sns.distplot(res.resid, kde=False, color='blue', bins=50)\n",
    "plt.title('OLS Residuals', fontsize=18)\n",
    "plt.xlabel('Residuals', fontsize=16)\n",
    "plt.ylabel('Count', fontsize=16)"
   ]
  },
  {
   "cell_type": "code",
   "execution_count": null,
   "metadata": {},
   "outputs": [],
   "source": [
    "plt.figure(figsize=(12, 5))\n",
    "sns.scatterplot(x=res.resid, y=all_data['issues_over_time'], color='blue')\n",
    "plt.title('Residuals vs Actuals', fontsize=18)\n",
    "plt.xlabel('Residuals', fontsize=16)\n",
    "plt.ylabel('Issues over Time', fontsize=16)\n",
    "#plt.ylim([0, 20])\n",
    "#plt.xlim([-0.2, 0.2])"
   ]
  },
  {
   "cell_type": "code",
   "execution_count": null,
   "metadata": {},
   "outputs": [],
   "source": [
    "mod = sm.GLM(y, X, family=sm.families.Gamma(link=sm.families.links.log))\n",
    "res = mod.fit()\n",
    "print(1 - (res.deviance/res.null_deviance))\n",
    "print(len(res.params))\n",
    "print(res.summary())"
   ]
  },
  {
   "cell_type": "code",
   "execution_count": null,
   "metadata": {},
   "outputs": [],
   "source": [
    "glm_marginal_effect('avg_clustering', res, X, all_data)"
   ]
  },
  {
   "cell_type": "code",
   "execution_count": null,
   "metadata": {},
   "outputs": [],
   "source": [
    "glm_marginal_effect('avg_min_path', res, X, all_data)"
   ]
  },
  {
   "cell_type": "code",
   "execution_count": null,
   "metadata": {},
   "outputs": [],
   "source": [
    "glm_marginal_effect('gini_coefficient', res, X, all_data)"
   ]
  },
  {
   "cell_type": "code",
   "execution_count": null,
   "metadata": {},
   "outputs": [],
   "source": [
    "marginal_effects = {'crowd_pct': [], 'effect': []}\n",
    "avg_clustering = all_data['avg_clustering']\n",
    "crowd_pct = all_data['crowd_pct']\n",
    "\n",
    "effects_data = X.copy(deep=True)\n",
    "effects_data['avg_clusteringXcrowd_pct'] = crowd_pct*avg_clustering\n",
    "\n",
    "\n",
    "effects_data['crowd_pct'] = crowd_pct\n",
    "effects_data['crowd_pct_2'] = crowd_pct**2\n",
    "\n",
    "\n",
    "effects_data['predictions'] = res.predict(effects_data)\n",
    "effects_data['crowd_pct_2_effect'] = effects_data['predictions'] * res.params['crowd_pct_2']\n",
    "effects_data['crowd_pct_param'] = (res.params['crowd_pct']\n",
    "                                    + avg_clustering * res.params['avg_clusteringXcrowd_pct'])\n",
    "effects_data['total_effect'] = effects_data['predictions'] * (2 * res.params['crowd_pct_2'] * crowd_pct\n",
    "                                                                + effects_data['crowd_pct_param'])\n",
    "        \n",
    "        \n",
    "avg_effect = effects_data['total_effect'].mean()\n",
    "print(avg_effect)"
   ]
  },
  {
   "cell_type": "code",
   "execution_count": null,
   "metadata": {},
   "outputs": [],
   "source": [
    "plt.figure(figsize=(12, 5))\n",
    "\n",
    "marginal_effects = {'crowd_pct': [], 'effect': []}\n",
    "avg_clustering = all_data['avg_clustering']\n",
    "\n",
    "\n",
    "for i in range(100):\n",
    "    effects_data = X.copy(deep=True)\n",
    "    crowd_pct = i/100\n",
    "    effects_data['avg_clusteringXcrowd_pct'] = crowd_pct*avg_clustering\n",
    "\n",
    "\n",
    "    effects_data['crowd_pct'] = crowd_pct\n",
    "    effects_data['crowd_pct_2'] = crowd_pct**2\n",
    "\n",
    "\n",
    "    effects_data['predictions'] = res.predict(effects_data)\n",
    "    effects_data['crowd_pct_2_effect'] = effects_data['predictions'] * res.params['crowd_pct_2']\n",
    "    effects_data['crowd_pct_param'] = (res.params['crowd_pct']\n",
    "                                        + avg_clustering * res.params['avg_clusteringXcrowd_pct'])\n",
    "    effects_data['total_effect'] = effects_data['predictions'] * (2 * res.params['crowd_pct_2'] * crowd_pct\n",
    "                                                                    + effects_data['crowd_pct_param'])\n",
    "        \n",
    "        \n",
    "    avg_effect = effects_data['total_effect'].mean()\n",
    "    marginal_effects['crowd_pct'].append(crowd_pct)\n",
    "    marginal_effects['effect'].append(avg_effect)\n",
    "        \n",
    "marginal_effects = pd.DataFrame(marginal_effects)\n",
    "sns.lineplot(y=marginal_effects['effect'], x=marginal_effects['crowd_pct'])\n",
    "\n",
    "plt.legend(bbox_to_anchor=(1.05, 1), loc=2, borderaxespad=0.)\n",
    "plt.title('Marginal Effect', fontsize=18)\n",
    "plt.ylabel('Effect on First Comment', fontsize=16)\n",
    "plt.xlabel('Crowd Pct', fontsize=16)"
   ]
  },
  {
   "cell_type": "code",
   "execution_count": null,
   "metadata": {},
   "outputs": [],
   "source": [
    "plt.figure(figsize=(12, 5))\n",
    "\n",
    "for avg_clustering in [0.4, 0.5, 0.6, 0.7, 0.8]:\n",
    "    marginal_effects = {'crowd_pct': [], 'effect': []}\n",
    "    label = 'Avg Clustering: {} '.format(avg_clustering)\n",
    "\n",
    "    for i in range(100):\n",
    "        effects_data = X.copy(deep=True)\n",
    "        crowd_pct = i/100\n",
    "        effects_data['avg_clusteringXcrowd_pct'] = crowd_pct*avg_clustering\n",
    "\n",
    "        effects_data['crowd_pct'] = crowd_pct\n",
    "        effects_data['crowd_pct_2'] = crowd_pct**2\n",
    "\n",
    "\n",
    "        effects_data['predictions'] = res.predict(effects_data)\n",
    "        effects_data['crowd_pct_2_effect'] = effects_data['predictions'] * res.params['crowd_pct_2']\n",
    "        effects_data['crowd_pct_param'] = (res.params['crowd_pct']\n",
    "                                           + avg_clustering * res.params['avg_clusteringXcrowd_pct'])\n",
    "        effects_data['total_effect'] = effects_data['predictions'] * (2 * res.params['crowd_pct_2'] * crowd_pct\n",
    "                                                                      + effects_data['crowd_pct_param'])\n",
    "        \n",
    "        \n",
    "        avg_effect = effects_data['total_effect'].mean()\n",
    "        marginal_effects['crowd_pct'].append(crowd_pct)\n",
    "        marginal_effects['effect'].append(avg_effect)\n",
    "        \n",
    "    marginal_effects = pd.DataFrame(marginal_effects)\n",
    "    sns.lineplot(y=marginal_effects['effect'], x=marginal_effects['crowd_pct'], label=label)\n",
    "\n",
    "plt.legend(bbox_to_anchor=(1.05, 1), loc=2, borderaxespad=0.)\n",
    "plt.title('Marginal Effect', fontsize=18)\n",
    "plt.ylabel('Effect on First Comment', fontsize=16)\n",
    "plt.xlabel('Marginal Effect', fontsize=16)"
   ]
  },
  {
   "cell_type": "markdown",
   "metadata": {},
   "source": [
    "### Percentage of One Time Users"
   ]
  },
  {
   "cell_type": "code",
   "execution_count": null,
   "metadata": {},
   "outputs": [],
   "source": [
    "all_data['issues_per_user'].describe()"
   ]
  },
  {
   "cell_type": "code",
   "execution_count": null,
   "metadata": {},
   "outputs": [],
   "source": [
    "plt.figure(figsize=(12, 5))\n",
    "sns.distplot(all_data['issues_per_user'], kde=False, color='blue', bins=100)\n",
    "plt.title('Issues Per User', fontsize=18)\n",
    "plt.xlabel('Issues Per User', fontsize=16)\n",
    "plt.ylabel('Count', fontsize=16)\n",
    "plt.xlim([0, 40])"
   ]
  },
  {
   "cell_type": "code",
   "execution_count": null,
   "metadata": {},
   "outputs": [],
   "source": [
    "y, X = dmatrices('issues_per_user ~ ' + base_features,\n",
    "                 data=all_data, return_type='dataframe')\n",
    "mod = sm.OLS(y, X)\n",
    "res = mod.fit()\n",
    "yhat = res.predict(X)\n",
    "print(res.summary())"
   ]
  },
  {
   "cell_type": "code",
   "execution_count": null,
   "metadata": {},
   "outputs": [],
   "source": [
    "formula = \"\"\"\n",
    "issues_per_user ~ crowd_pct + crowd_pct_2 + avg_clustering + \n",
    "    avg_min_path + gini_coefficient + avg_clusteringXcrowd_pct + \n",
    "    gini_coefficientXcrowd_pct + topic_0 + topic_1 + topic_2 + \n",
    "    topic_3 + topic_4 + topic_5 + topic_6 + topic_7 + topic_8 + \n",
    "    topic_9 + topic_10 + topic_11 + topic_12 + topic_13 + topic_14 + \n",
    "    topic_15 + topic_16 + topic_17 + topic_18 + topic_19 + topic_20 + \n",
    "    topic_21 + topic_22 + topic_23 + topic_0:topic_2 + topic_0:topic_7 + \n",
    "    topic_0:topic_15 + topic_1:topic_4 + topic_1:topic_7 + topic_1:topic_13 + \n",
    "    topic_1:topic_14 + topic_1:topic_17 + topic_2:topic_3 + topic_2:topic_8 + \n",
    "    topic_2:topic_9 + topic_2:topic_12 + topic_3:topic_4 + topic_3:topic_7 + \n",
    "    topic_3:topic_14 + topic_3:topic_18 + topic_4:topic_5 + topic_4:topic_9 + \n",
    "    topic_4:topic_11 + topic_4:topic_13 + topic_4:topic_15 + \n",
    "    topic_4:topic_17 + topic_4:topic_18 + topic_4:topic_19 + \n",
    "    topic_5:topic_9 + topic_5:topic_10 + topic_5:topic_12 + topic_5:topic_17 + \n",
    "    topic_6:topic_12 + topic_7:topic_10 + topic_7:topic_17 + \n",
    "    topic_7:topic_20 + topic_7:topic_21 + topic_7:topic_23 + \n",
    "    topic_8:topic_10 + topic_8:topic_12 + topic_8:topic_17 + \n",
    "    topic_8:topic_18 + topic_8:topic_19 + topic_8:topic_20 + \n",
    "    topic_9:topic_14 + topic_9:topic_16 + topic_9:topic_18 + \n",
    "    topic_10:topic_11 + topic_10:topic_12 + topic_10:topic_15 + \n",
    "    topic_10:topic_18 + topic_10:topic_20 + topic_12:topic_20 + \n",
    "    topic_13:topic_14 + topic_13:topic_15 + topic_13:topic_17 + \n",
    "    topic_13:topic_18 + topic_14:topic_16 + topic_15:topic_17 + \n",
    "    topic_15:topic_21 + topic_16:topic_22 + topic_17:topic_20 + \n",
    "    topic_17:topic_21 + topic_18:topic_20 + topic_18:topic_23 + \n",
    "    topic_7:topic_19 + topic_8:topic_11 + topic_7:topic_22 + \n",
    "    topic_1:topic_6 + topic_11:topic_22 + topic_0:topic_22 + \n",
    "    topic_2:topic_20\n",
    "\"\"\""
   ]
  },
  {
   "cell_type": "code",
   "execution_count": null,
   "metadata": {},
   "outputs": [],
   "source": [
    "y, X = dmatrices(formula,\n",
    "                 data=all_data, return_type='dataframe')\n",
    "mod = sm.OLS(y, X)\n",
    "res = mod.fit()\n",
    "print(len(res.params))\n",
    "print(res.summary())"
   ]
  },
  {
   "cell_type": "code",
   "execution_count": null,
   "metadata": {},
   "outputs": [],
   "source": [
    "plt.figure(figsize=(12, 5))\n",
    "sns.distplot(res.resid, kde=False, color='blue', bins=50)\n",
    "plt.title('OLS Residuals', fontsize=18)\n",
    "plt.xlabel('Residuals', fontsize=16)\n",
    "plt.ylabel('Count', fontsize=16)"
   ]
  },
  {
   "cell_type": "code",
   "execution_count": null,
   "metadata": {},
   "outputs": [],
   "source": [
    "plt.figure(figsize=(12, 5))\n",
    "sns.scatterplot(x=res.resid, y=all_data['issues_over_time'], color='blue')\n",
    "plt.title('Residuals vs Actuals', fontsize=18)\n",
    "plt.xlabel('Residuals', fontsize=16)\n",
    "plt.ylabel('Issues over Time', fontsize=16)\n",
    "#plt.ylim([0, 20])\n",
    "#plt.xlim([-0.2, 0.2])"
   ]
  },
  {
   "cell_type": "code",
   "execution_count": null,
   "metadata": {},
   "outputs": [],
   "source": [
    "mod = sm.GLM(y, X, family=sm.families.Gamma(link=sm.families.links.log))\n",
    "res = mod.fit()\n",
    "print(1 - (res.deviance/res.null_deviance))\n",
    "print(len(res.params))\n",
    "print(res.summary())"
   ]
  },
  {
   "cell_type": "code",
   "execution_count": null,
   "metadata": {},
   "outputs": [],
   "source": [
    "glm_marginal_effect('avg_clustering', res, X, all_data)"
   ]
  },
  {
   "cell_type": "code",
   "execution_count": null,
   "metadata": {},
   "outputs": [],
   "source": [
    "glm_marginal_effect('avg_min_path', res, X, all_data)"
   ]
  },
  {
   "cell_type": "code",
   "execution_count": null,
   "metadata": {},
   "outputs": [],
   "source": [
    "glm_marginal_effect('gini_coefficient', res, X, all_data)"
   ]
  },
  {
   "cell_type": "code",
   "execution_count": null,
   "metadata": {},
   "outputs": [],
   "source": [
    "marginal_effects = {'crowd_pct': [], 'effect': []}\n",
    "avg_clustering = all_data['avg_clustering']\n",
    "gini_coefficient = all_data['gini_coefficient']\n",
    "crowd_pct = all_data['crowd_pct']\n",
    "\n",
    "effects_data = X.copy(deep=True)\n",
    "effects_data['avg_clusteringXcrowd_pct'] = crowd_pct*avg_clustering\n",
    "\n",
    "\n",
    "effects_data['crowd_pct'] = crowd_pct\n",
    "effects_data['crowd_pct_2'] = crowd_pct**2\n",
    "\n",
    "\n",
    "effects_data['predictions'] = res.predict(effects_data)\n",
    "effects_data['crowd_pct_2_effect'] = effects_data['predictions'] * res.params['crowd_pct_2']\n",
    "effects_data['crowd_pct_param'] = (res.params['crowd_pct']\n",
    "                                   + gini_coefficient * res.params['gini_coefficientXcrowd_pct']\n",
    "                                    + avg_clustering * res.params['avg_clusteringXcrowd_pct'])\n",
    "effects_data['total_effect'] = effects_data['predictions'] * (2 * res.params['crowd_pct_2'] * crowd_pct\n",
    "                                                                + effects_data['crowd_pct_param'])\n",
    "        \n",
    "        \n",
    "avg_effect = effects_data['total_effect'].mean()\n",
    "print(avg_effect)"
   ]
  },
  {
   "cell_type": "code",
   "execution_count": null,
   "metadata": {},
   "outputs": [],
   "source": [
    "plt.figure(figsize=(12, 5))\n",
    "\n",
    "marginal_effects = {'crowd_pct': [], 'effect': []}\n",
    "avg_min_path = all_data['avg_min_path']\n",
    "gini_coefficient = all_data['gini_coefficient']\n",
    "avg_clustering = all_data['avg_clustering']\n",
    "\n",
    "\n",
    "for i in range(100):\n",
    "    effects_data = X.copy(deep=True)\n",
    "    crowd_pct = i/100\n",
    "    effects_data['avg_clusteringXcrowd_pct'] = crowd_pct*avg_clustering\n",
    "    effects_data['gini_coefficientXcrowd_pct'] = crowd_pct*gini_coefficient\n",
    "\n",
    "    effects_data['crowd_pct'] = crowd_pct\n",
    "    effects_data['crowd_pct_2'] = crowd_pct**2\n",
    "\n",
    "\n",
    "    effects_data['predictions'] = res.predict(effects_data)\n",
    "    effects_data['crowd_pct_2_effect'] = effects_data['predictions'] * res.params['crowd_pct_2']\n",
    "    effects_data['crowd_pct_param'] = (res.params['crowd_pct']\n",
    "                                        + avg_clustering * res.params['avg_clusteringXcrowd_pct']\n",
    "                                        + gini_coefficient * res.params['gini_coefficientXcrowd_pct'])\n",
    "    effects_data['total_effect'] = effects_data['predictions'] * (2 * res.params['crowd_pct_2'] * crowd_pct\n",
    "                                                                    + effects_data['crowd_pct_param'])\n",
    "        \n",
    "        \n",
    "    avg_effect = effects_data['total_effect'].mean()\n",
    "    marginal_effects['crowd_pct'].append(crowd_pct)\n",
    "    marginal_effects['effect'].append(avg_effect)\n",
    "        \n",
    "marginal_effects = pd.DataFrame(marginal_effects)\n",
    "sns.lineplot(y=marginal_effects['effect'], x=marginal_effects['crowd_pct'])\n",
    "\n",
    "plt.legend(bbox_to_anchor=(1.05, 1), loc=2, borderaxespad=0.)\n",
    "plt.title('Marginal Effect', fontsize=18)\n",
    "plt.ylabel('Effect on Comment Activity', fontsize=16)\n",
    "plt.xlabel('Crowd Pct', fontsize=16)"
   ]
  },
  {
   "cell_type": "code",
   "execution_count": null,
   "metadata": {},
   "outputs": [],
   "source": [
    "plt.figure(figsize=(12, 5))\n",
    "\n",
    "for avg_clustering in [0.4, 0.5, 0.6, 0.7, 0.8]:\n",
    "    marginal_effects = {'crowd_pct': [], 'effect': []}\n",
    "    label = 'Avg Clustering: {} '.format(avg_clustering)\n",
    "    avg_min_path = all_data['avg_min_path']\n",
    "    gini_coefficient = all_data['gini_coefficient']\n",
    "\n",
    "    for i in range(100):\n",
    "        effects_data = X.copy(deep=True)\n",
    "        crowd_pct = i/100\n",
    "        effects_data['avg_clusteringXcrowd_pct'] = crowd_pct*avg_clustering\n",
    "        effects_data['gini_coefficientXcrowd_pct'] = crowd_pct*gini_coefficient\n",
    "\n",
    "        effects_data['crowd_pct'] = crowd_pct\n",
    "        effects_data['crowd_pct_2'] = crowd_pct**2\n",
    "\n",
    "\n",
    "        effects_data['predictions'] = res.predict(effects_data)\n",
    "        effects_data['crowd_pct_2_effect'] = effects_data['predictions'] * res.params['crowd_pct_2']\n",
    "        effects_data['crowd_pct_param'] = (res.params['crowd_pct']\n",
    "                                           + avg_clustering * res.params['avg_clusteringXcrowd_pct']\n",
    "                                           + gini_coefficient * res.params['gini_coefficientXcrowd_pct'])\n",
    "        effects_data['total_effect'] = effects_data['predictions'] * (2 * res.params['crowd_pct_2'] * crowd_pct\n",
    "                                                                      + effects_data['crowd_pct_param'])\n",
    "        \n",
    "        \n",
    "        avg_effect = effects_data['total_effect'].mean()\n",
    "        marginal_effects['crowd_pct'].append(crowd_pct)\n",
    "        marginal_effects['effect'].append(avg_effect)\n",
    "        \n",
    "    marginal_effects = pd.DataFrame(marginal_effects)\n",
    "    sns.lineplot(y=marginal_effects['effect'], x=marginal_effects['crowd_pct'], label=label)\n",
    "\n",
    "plt.legend(bbox_to_anchor=(1.05, 1), loc=2, borderaxespad=0.)\n",
    "plt.title('Marginal Effect', fontsize=18)\n",
    "plt.ylabel('Effect on Comment Activity', fontsize=16)\n",
    "plt.xlabel('Marginal Effect', fontsize=16)"
   ]
  },
  {
   "cell_type": "code",
   "execution_count": null,
   "metadata": {},
   "outputs": [],
   "source": [
    "plt.figure(figsize=(12, 5))\n",
    "\n",
    "for gini_coefficient in [0.4, 0.5, 0.6, 0.7]:\n",
    "    marginal_effects = {'crowd_pct': [], 'effect': []}\n",
    "    label = 'Gini Coefficient: {} '.format(gini_coefficient)\n",
    "    avg_clustering = all_data['avg_clustering']\n",
    "    avg_min_path = all_data['avg_min_path']\n",
    "\n",
    "    for i in range(100):\n",
    "        effects_data = X.copy(deep=True)\n",
    "        crowd_pct = i/100\n",
    "        effects_data['avg_clusteringXcrowd_pct'] = crowd_pct*avg_clustering\n",
    "        effects_data['gini_coefficientXcrowd_pct'] = crowd_pct*gini_coefficient\n",
    "\n",
    "        effects_data['crowd_pct'] = crowd_pct\n",
    "        effects_data['crowd_pct_2'] = crowd_pct**2\n",
    "\n",
    "\n",
    "        effects_data['predictions'] = res.predict(effects_data)\n",
    "        effects_data['crowd_pct_2_effect'] = effects_data['predictions'] * res.params['crowd_pct_2']\n",
    "        effects_data['crowd_pct_param'] = (res.params['crowd_pct']\n",
    "                                           + avg_clustering * res.params['avg_clusteringXcrowd_pct']\n",
    "                                           + gini_coefficient * res.params['gini_coefficientXcrowd_pct'])\n",
    "        effects_data['total_effect'] = effects_data['predictions'] * (2 * res.params['crowd_pct_2'] * crowd_pct\n",
    "                                                                      + effects_data['crowd_pct_param'])\n",
    "        \n",
    "        \n",
    "        avg_effect = effects_data['total_effect'].mean()\n",
    "        marginal_effects['crowd_pct'].append(crowd_pct)\n",
    "        marginal_effects['effect'].append(avg_effect)\n",
    "        \n",
    "    marginal_effects = pd.DataFrame(marginal_effects)\n",
    "    sns.lineplot(y=marginal_effects['effect'], x=marginal_effects['crowd_pct'], label=label)\n",
    "\n",
    "plt.legend(bbox_to_anchor=(1.05, 1), loc=2, borderaxespad=0.)\n",
    "plt.title('Marginal Effect', fontsize=18)\n",
    "plt.ylabel('Effect on Comment Activity', fontsize=16)\n",
    "plt.xlabel('Marginal Effect', fontsize=16)"
   ]
  },
  {
   "cell_type": "code",
   "execution_count": null,
   "metadata": {},
   "outputs": [],
   "source": []
  },
  {
   "cell_type": "code",
   "execution_count": null,
   "metadata": {},
   "outputs": [],
   "source": []
  },
  {
   "cell_type": "markdown",
   "metadata": {},
   "source": [
    "### DEA Analysis"
   ]
  },
  {
   "cell_type": "code",
   "execution_count": null,
   "metadata": {},
   "outputs": [],
   "source": [
    "all_data['lhs'] = 1"
   ]
  },
  {
   "cell_type": "code",
   "execution_count": null,
   "metadata": {},
   "outputs": [],
   "source": [
    "all_data['pct_under_30_pct'] = pd.qcut(all_data.pct_under_30, 100, labels=False)\n",
    "all_data['avg_comments_pct'] = pd.qcut(all_data.avg_comments, 100, labels=False)\n",
    "all_data['issues_over_time_pct'] = pd.qcut(all_data.issues_over_time, 100, labels=False)\n",
    "all_data['issues_per_user_pct'] = pd.qcut(all_data.issues_per_user, 100, labels=False)\n",
    "all_data['avg_first_comment_pct'] = 100 - pd.qcut(all_data.issues_over_time, 100, labels=False)"
   ]
  },
  {
   "cell_type": "code",
   "execution_count": null,
   "metadata": {},
   "outputs": [],
   "source": [
    "inputs = all_data[['lhs']]\n",
    "outputs = all_data[['pct_under_30_pct', 'avg_comments_pct', 'issues_over_time_pct',\n",
    "                    'avg_first_comment_pct', 'issues_per_user_pct']]"
   ]
  },
  {
   "cell_type": "code",
   "execution_count": null,
   "metadata": {},
   "outputs": [],
   "source": [
    "dea = DEA(inputs=inputs, outputs=outputs, model = 'ccr')"
   ]
  },
  {
   "cell_type": "code",
   "execution_count": null,
   "metadata": {},
   "outputs": [],
   "source": [
    "dea.solve()"
   ]
  },
  {
   "cell_type": "code",
   "execution_count": null,
   "metadata": {},
   "outputs": [],
   "source": [
    "dea.eff_scores"
   ]
  },
  {
   "cell_type": "code",
   "execution_count": null,
   "metadata": {},
   "outputs": [],
   "source": [
    "all_data['eff_scores'] = dea.eff_scores"
   ]
  },
  {
   "cell_type": "code",
   "execution_count": null,
   "metadata": {},
   "outputs": [],
   "source": [
    "all_data['eff_scores'].describe()"
   ]
  },
  {
   "cell_type": "code",
   "execution_count": null,
   "metadata": {},
   "outputs": [],
   "source": [
    "all_data[all_data['eff_scores'] == 1][['package',\n",
    "                                       'organization',\n",
    "                                       'gini_coefficient',\n",
    "                                       'avg_clustering',\n",
    "                                       'avg_min_path',\n",
    "                                       'crowd_pct']].sort_values('crowd_pct')"
   ]
  },
  {
   "cell_type": "code",
   "execution_count": null,
   "metadata": {},
   "outputs": [],
   "source": [
    "y, X = dmatrices('eff_scores ~ ' + base_features,\n",
    "                 data=all_data, return_type='dataframe')\n",
    "mod = sm.OLS(y, X)\n",
    "res = mod.fit()\n",
    "yhat = res.predict(X)\n",
    "print(res.summary())"
   ]
  },
  {
   "cell_type": "code",
   "execution_count": null,
   "metadata": {},
   "outputs": [],
   "source": [
    "mod = sm.GLM(y, X, family=sm.families.Gamma(link=sm.families.links.log))\n",
    "res = mod.fit()\n",
    "print(1 - (res.deviance/res.null_deviance))\n",
    "print(len(res.params))\n",
    "print(res.summary())"
   ]
  },
  {
   "cell_type": "code",
   "execution_count": null,
   "metadata": {},
   "outputs": [],
   "source": [
    "glm_marginal_effect('avg_clustering', res, X, all_data)"
   ]
  },
  {
   "cell_type": "code",
   "execution_count": null,
   "metadata": {},
   "outputs": [],
   "source": [
    "glm_marginal_effect('avg_min_path', res, X, all_data)"
   ]
  },
  {
   "cell_type": "code",
   "execution_count": null,
   "metadata": {},
   "outputs": [],
   "source": [
    "glm_marginal_effect('gini_coefficient', res, X, all_data)"
   ]
  },
  {
   "cell_type": "code",
   "execution_count": null,
   "metadata": {},
   "outputs": [],
   "source": [
    "marginal_effects = {'crowd_pct': [], 'effect': []}\n",
    "avg_clustering = all_data['avg_clustering']\n",
    "gini_coefficient = all_data['gini_coefficient']\n",
    "avg_min_path = all_data['avg_min_path']\n",
    "crowd_pct = all_data['crowd_pct']\n",
    "\n",
    "effects_data = X.copy(deep=True)\n",
    "effects_data['avg_clusteringXcrowd_pct'] = crowd_pct*avg_clustering\n",
    "\n",
    "\n",
    "effects_data['crowd_pct'] = crowd_pct\n",
    "effects_data['crowd_pct_2'] = crowd_pct**2\n",
    "\n",
    "\n",
    "effects_data['predictions'] = res.predict(effects_data)\n",
    "effects_data['crowd_pct_2_effect'] = effects_data['predictions'] * res.params['crowd_pct_2']\n",
    "effects_data['crowd_pct_param'] = (res.params['crowd_pct']\n",
    "                                   + gini_coefficient * res.params['gini_coefficientXcrowd_pct']\n",
    "                                   + avg_min_path * res.params['avg_min_pathXcrowd_pct']\n",
    "                                   + avg_clustering * res.params['avg_clusteringXcrowd_pct'])\n",
    "effects_data['total_effect'] = effects_data['predictions'] * (2 * res.params['crowd_pct_2'] * crowd_pct\n",
    "                                                                + effects_data['crowd_pct_param'])\n",
    "        \n",
    "        \n",
    "avg_effect = effects_data['total_effect'].mean()\n",
    "print(avg_effect)"
   ]
  },
  {
   "cell_type": "code",
   "execution_count": null,
   "metadata": {},
   "outputs": [],
   "source": []
  }
 ],
 "metadata": {
  "kernelspec": {
   "display_name": "Python 3",
   "language": "python",
   "name": "python3"
  },
  "language_info": {
   "codemirror_mode": {
    "name": "ipython",
    "version": 3
   },
   "file_extension": ".py",
   "mimetype": "text/x-python",
   "name": "python",
   "nbconvert_exporter": "python",
   "pygments_lexer": "ipython3",
   "version": "3.5.2"
  }
 },
 "nbformat": 4,
 "nbformat_minor": 2
}
