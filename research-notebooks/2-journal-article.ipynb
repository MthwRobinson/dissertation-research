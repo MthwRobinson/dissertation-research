{
 "cells": [
  {
   "cell_type": "code",
   "execution_count": 1,
   "metadata": {},
   "outputs": [],
   "source": [
    "import matplotlib.pyplot as plt\n",
    "import numpy as np\n",
    "import pandas as pd\n",
    "from patsy import dmatrices\n",
    "import seaborn as sns\n",
    "import scipy.stats as stats\n",
    "import statsmodels.api as sm\n",
    "import statsmodels.stats.api as sms\n",
    "import statsmodels.stats.diagnostic as diag\n",
    "from statsmodels.stats.outliers_influence import variance_inflation_factor\n",
    "\n",
    "from research_utils.database.database import Database\n",
    "from research_utils.analytics.beta_regression import Beta\n",
    "from research_utils.analytics.lda import TopicModel"
   ]
  },
  {
   "cell_type": "code",
   "execution_count": 2,
   "metadata": {},
   "outputs": [],
   "source": [
    "database = Database()"
   ]
  },
  {
   "cell_type": "code",
   "execution_count": 3,
   "metadata": {},
   "outputs": [],
   "source": [
    "sql = \"\"\"\n",
    "SELECT a.package_id, a.package, a.organization,\n",
    "\t   a.duration_median, a.duration_mean, a.duration_variance, a.project_age,\n",
    "\t   b.crowd_pct, b.crowd, b.total as total_issues,\n",
    "\t   c.gini_coefficient, c.avg_clustering, c.avg_min_path,\n",
    "\t   d.total_contributors, e.diversity_10, e.diversity_25, e.diversity_50, e.diversity_100,\n",
    "       e.distributed, e.one_center, e.two_centers, e.multiple_centers, e.other,\n",
    "       f.avg_comments\n",
    "FROM(\n",
    "\tSELECT package_id, package, organization,\n",
    "\t\t   PERCENTILE_DISC(0.5) WITHIN GROUP (ORDER BY duration) AS duration_median,\n",
    "\t\t   AVG(duration) AS duration_mean,\n",
    "\t\t   VARIANCE(duration) AS duration_variance,\n",
    "\t\t   EXTRACT(DAY FROM NOW() - MIN(created_at)) AS project_age\n",
    "\tFROM(\n",
    "\t\tSELECT package_id, organization, package, created_at,\n",
    "\t\t\t   EXTRACT(DAY FROM closed_at - created_at) as duration\n",
    "               FROM open_source.issues\n",
    "               WHERE closed_at IS NOT NULL AND pull_request IS FALSE\n",
    "               AND created_at < '2019-01-01'\n",
    "                AND ('bug' = ANY(lower(labels::text)::text[])\n",
    "                OR 'feature' = ANY(lower(labels::text)::text[])\n",
    "            OR 'feature request' = ANY(lower(labels::text)::text[])\n",
    "            OR 'change' = ANY(lower(labels::text)::text[])\n",
    "            OR 'suggestion' = ANY(lower(labels::text)::text[])\n",
    "            OR 'enhancement' = ANY(lower(labels::text)::text[]))\n",
    "\t\t\n",
    "\t) z\n",
    "\tGROUP BY package_id, organization, package\n",
    ") a\n",
    "INNER JOIN open_source.crowd_percentage b\n",
    "ON a.package_id = b.package_id\n",
    "INNER JOIN (\n",
    "\tSELECT organization, package, gini_coefficient, avg_clustering, avg_min_path, crowd_pct\n",
    "\tFROM open_source.stakeholder_networks\n",
    ") c\n",
    "ON (a.package = c.package AND a.organization = c.organization)\n",
    "INNER JOIN (\n",
    "\tSELECT COUNT(DISTINCT user_id) as total_contributors, package_id\n",
    "\tFROM open_source.issue_contributors\n",
    "    WHERE commit_pct > 0\n",
    "\tGROUP BY package_id\n",
    ") d\n",
    "ON a.package_id = d.package_id\n",
    "INNER JOIN open_source.packages e\n",
    "ON a.package_id = e.id\n",
    "INNER JOIN (\n",
    "    SELECT AVG(num_comments) as avg_comments, package, organization\n",
    "    FROM (\n",
    "        SELECT COUNT(DISTINCT comment_id) as num_comments, issue_id, package, organization\n",
    "        FROM open_source.issue_comments\n",
    "        GROUP BY issue_id, package, organization\n",
    "    ) x\n",
    "    GROUP BY package, organization\n",
    ") f\n",
    "ON (a.package = f.package AND a.organization = f.organization)\n",
    "\"\"\"\n",
    "data = pd.read_sql(sql, database.connection)"
   ]
  },
  {
   "cell_type": "code",
   "execution_count": 4,
   "metadata": {},
   "outputs": [],
   "source": [
    "tm = TopicModel(25, load=True)"
   ]
  },
  {
   "cell_type": "code",
   "execution_count": 5,
   "metadata": {},
   "outputs": [],
   "source": [
    "df = tm.load_topic_model_results()"
   ]
  },
  {
   "cell_type": "code",
   "execution_count": 6,
   "metadata": {},
   "outputs": [
    {
     "data": {
      "text/html": [
       "<div>\n",
       "<style scoped>\n",
       "    .dataframe tbody tr th:only-of-type {\n",
       "        vertical-align: middle;\n",
       "    }\n",
       "\n",
       "    .dataframe tbody tr th {\n",
       "        vertical-align: top;\n",
       "    }\n",
       "\n",
       "    .dataframe thead th {\n",
       "        text-align: right;\n",
       "    }\n",
       "</style>\n",
       "<table border=\"1\" class=\"dataframe\">\n",
       "  <thead>\n",
       "    <tr style=\"text-align: right;\">\n",
       "      <th></th>\n",
       "      <th>issue_time</th>\n",
       "      <th>issue_id</th>\n",
       "      <th>title</th>\n",
       "      <th>body</th>\n",
       "      <th>organization</th>\n",
       "      <th>package</th>\n",
       "      <th>issue_number</th>\n",
       "      <th>all_content</th>\n",
       "      <th>topics</th>\n",
       "    </tr>\n",
       "  </thead>\n",
       "  <tbody>\n",
       "    <tr>\n",
       "      <th>0</th>\n",
       "      <td>2018-05-03 11:33:46</td>\n",
       "      <td>319883485</td>\n",
       "      <td>Help command line arguments (-h, --help) are i...</td>\n",
       "      <td>The help arguments implicitly defined by the a...</td>\n",
       "      <td>actor-framework</td>\n",
       "      <td>actor-framework</td>\n",
       "      <td>688</td>\n",
       "      <td>Help command line arguments (-h, --help) are i...</td>\n",
       "      <td>[0.009083141572773457, 0.009083141572773457, 0...</td>\n",
       "    </tr>\n",
       "    <tr>\n",
       "      <th>1</th>\n",
       "      <td>2015-02-24 20:11:09</td>\n",
       "      <td>58796753</td>\n",
       "      <td>Remove match expr</td>\n",
       "      <td>The main objective of this change is to make C...</td>\n",
       "      <td>actor-framework</td>\n",
       "      <td>actor-framework</td>\n",
       "      <td>242</td>\n",
       "      <td>Remove match expr The main objective of this c...</td>\n",
       "      <td>[0.006975634954869747, 0.006975634954869747, 0...</td>\n",
       "    </tr>\n",
       "    <tr>\n",
       "      <th>2</th>\n",
       "      <td>2014-12-18 16:09:28</td>\n",
       "      <td>52381894</td>\n",
       "      <td>Enable actor publishing at random high-level port</td>\n",
       "      <td>With this patch, using 0 as port parameter to ...</td>\n",
       "      <td>actor-framework</td>\n",
       "      <td>actor-framework</td>\n",
       "      <td>218</td>\n",
       "      <td>Enable actor publishing at random high-level p...</td>\n",
       "      <td>[0.008186651393771172, 0.008186651393771172, 0...</td>\n",
       "    </tr>\n",
       "    <tr>\n",
       "      <th>3</th>\n",
       "      <td>2018-01-08 17:03:43</td>\n",
       "      <td>286813990</td>\n",
       "      <td>The udp basp autoconnection test has a leak</td>\n",
       "      <td>According to asan, there is a leak in the unit...</td>\n",
       "      <td>actor-framework</td>\n",
       "      <td>actor-framework</td>\n",
       "      <td>647</td>\n",
       "      <td>The udp basp autoconnection test has a leak Ac...</td>\n",
       "      <td>[0.010533114895224571, 0.3219645917415619, 0.0...</td>\n",
       "    </tr>\n",
       "    <tr>\n",
       "      <th>4</th>\n",
       "      <td>2014-12-17 11:32:12</td>\n",
       "      <td>52229707</td>\n",
       "      <td>Topic/pullrequest</td>\n",
       "      <td>More tests for the jenkins PR builder.\\n</td>\n",
       "      <td>actor-framework</td>\n",
       "      <td>actor-framework</td>\n",
       "      <td>216</td>\n",
       "      <td>Topic/pullrequest More tests for the jenkins P...</td>\n",
       "      <td>[0.013114626519382, 0.013114626519382, 0.01311...</td>\n",
       "    </tr>\n",
       "  </tbody>\n",
       "</table>\n",
       "</div>"
      ],
      "text/plain": [
       "           issue_time   issue_id  \\\n",
       "0 2018-05-03 11:33:46  319883485   \n",
       "1 2015-02-24 20:11:09   58796753   \n",
       "2 2014-12-18 16:09:28   52381894   \n",
       "3 2018-01-08 17:03:43  286813990   \n",
       "4 2014-12-17 11:32:12   52229707   \n",
       "\n",
       "                                               title  \\\n",
       "0  Help command line arguments (-h, --help) are i...   \n",
       "1                                  Remove match expr   \n",
       "2  Enable actor publishing at random high-level port   \n",
       "3        The udp basp autoconnection test has a leak   \n",
       "4                                  Topic/pullrequest   \n",
       "\n",
       "                                                body     organization  \\\n",
       "0  The help arguments implicitly defined by the a...  actor-framework   \n",
       "1  The main objective of this change is to make C...  actor-framework   \n",
       "2  With this patch, using 0 as port parameter to ...  actor-framework   \n",
       "3  According to asan, there is a leak in the unit...  actor-framework   \n",
       "4           More tests for the jenkins PR builder.\\n  actor-framework   \n",
       "\n",
       "           package  issue_number  \\\n",
       "0  actor-framework           688   \n",
       "1  actor-framework           242   \n",
       "2  actor-framework           218   \n",
       "3  actor-framework           647   \n",
       "4  actor-framework           216   \n",
       "\n",
       "                                         all_content  \\\n",
       "0  Help command line arguments (-h, --help) are i...   \n",
       "1  Remove match expr The main objective of this c...   \n",
       "2  Enable actor publishing at random high-level p...   \n",
       "3  The udp basp autoconnection test has a leak Ac...   \n",
       "4  Topic/pullrequest More tests for the jenkins P...   \n",
       "\n",
       "                                              topics  \n",
       "0  [0.009083141572773457, 0.009083141572773457, 0...  \n",
       "1  [0.006975634954869747, 0.006975634954869747, 0...  \n",
       "2  [0.008186651393771172, 0.008186651393771172, 0...  \n",
       "3  [0.010533114895224571, 0.3219645917415619, 0.0...  \n",
       "4  [0.013114626519382, 0.013114626519382, 0.01311...  "
      ]
     },
     "execution_count": 6,
     "metadata": {},
     "output_type": "execute_result"
    }
   ],
   "source": [
    "df.head()"
   ]
  },
  {
   "cell_type": "code",
   "execution_count": 7,
   "metadata": {},
   "outputs": [],
   "source": [
    "for i in range(tm.num_topics):\n",
    "    df['topic_{}'.format(i)] = [x[i] if x else np.nan for x in df['topics']]\n",
    "    df['topic_{}_2'.format(i)] = df['topic_{}'.format(i)]**2"
   ]
  },
  {
   "cell_type": "code",
   "execution_count": 8,
   "metadata": {},
   "outputs": [],
   "source": [
    "all_topics = []\n",
    "reg_topics = []\n",
    "for i in range(tm.num_topics-1):    \n",
    "    all_topics.append('topic_{}'.format(i))\n",
    "    all_topics.append('topic_{}_2'.format(i))\n",
    "    for j in range(tm.num_topics-1):\n",
    "        reg_topics.append(\"topic_{}*topic_{}\".format(i, j))\n",
    "        reg_topics.append(\"topic_{}_2\".format(i, j))"
   ]
  },
  {
   "cell_type": "code",
   "execution_count": 9,
   "metadata": {},
   "outputs": [],
   "source": [
    "mean_topics = df.groupby(['organization', 'package']).mean()[all_topics]"
   ]
  },
  {
   "cell_type": "code",
   "execution_count": 10,
   "metadata": {},
   "outputs": [],
   "source": [
    "all_data = mean_topics.merge(data, on=['package', 'organization'])"
   ]
  },
  {
   "cell_type": "code",
   "execution_count": 11,
   "metadata": {},
   "outputs": [],
   "source": [
    "all_data['crowd_pct_sq'] = np.sqrt(all_data['crowd_pct'])\n",
    "all_data['crowd_pct_2'] = all_data['crowd_pct']**2\n",
    "all_data['issues_over_time'] = (all_data['total_issues'] / all_data['project_age'])*7\n",
    "all_data['avg_clusteringXcrowd_pct'] = all_data['avg_clustering'] * all_data['crowd_pct']\n",
    "all_data['avg_min_pathXcrowd_pct'] = all_data['avg_min_path'] * all_data['crowd_pct']\n",
    "all_data['gini_coefficientXcrowd_pct'] = all_data['gini_coefficient'] * all_data['crowd_pct']"
   ]
  },
  {
   "cell_type": "code",
   "execution_count": 12,
   "metadata": {},
   "outputs": [],
   "source": [
    "base_columns = ['crowd_pct', 'crowd_pct_2',\n",
    "                'avg_clustering', 'avg_min_path', 'gini_coefficient',\n",
    "                'avg_clusteringXcrowd_pct', 'avg_min_pathXcrowd_pct', 'gini_coefficientXcrowd_pct',\n",
    "                'total_contributors', 'project_age']\n",
    "base_features = ' + '.join(base_columns)"
   ]
  },
  {
   "cell_type": "code",
   "execution_count": 13,
   "metadata": {},
   "outputs": [],
   "source": [
    "def select_features(X, y, threshold, model_type='ols'):\n",
    "    cols = list(X.columns)\n",
    "    pmax = 1\n",
    "    while (len(cols)>0):\n",
    "        p= []\n",
    "        X_1 = X[cols]\n",
    "        if model_type == 'ols':\n",
    "            model = sm.OLS(y,X_1).fit()\n",
    "        elif model_type == 'poisson':\n",
    "            model = sm.GLM(y, X_1, family=sm.families.Poisson()).fit()\n",
    "        elif model_type == 'negative_binomial':\n",
    "            model = sm.GLM(y, X_1, family=sm.families.NegativeBinomial()).fit()\n",
    "        elif model_type == 'gamma':\n",
    "            model = sm.GLM(y, X_1, family=sm.families.Gamma(link=sm.families.links.log)).fit()\n",
    "        p = pd.Series(model.pvalues.values,index = cols)      \n",
    "        pmax = max(p)\n",
    "        feature_with_p_max = p.idxmax()\n",
    "        if(pmax>threshold):\n",
    "            cols.remove(feature_with_p_max)\n",
    "        else:\n",
    "            break\n",
    "    features = ' + '.join(cols[1:])\n",
    "    return features"
   ]
  },
  {
   "cell_type": "markdown",
   "metadata": {},
   "source": [
    "### Regression on Average Comments"
   ]
  },
  {
   "cell_type": "code",
   "execution_count": 14,
   "metadata": {},
   "outputs": [
    {
     "name": "stdout",
     "output_type": "stream",
     "text": [
      "                            OLS Regression Results                            \n",
      "==============================================================================\n",
      "Dep. Variable:           avg_comments   R-squared:                       0.283\n",
      "Model:                            OLS   Adj. R-squared:                  0.270\n",
      "Method:                 Least Squares   F-statistic:                     21.78\n",
      "Date:                Sat, 23 Nov 2019   Prob (F-statistic):           2.32e-34\n",
      "Time:                        15:15:16   Log-Likelihood:                -746.16\n",
      "No. Observations:                 562   AIC:                             1514.\n",
      "Df Residuals:                     551   BIC:                             1562.\n",
      "Df Model:                          10                                         \n",
      "Covariance Type:            nonrobust                                         \n",
      "==============================================================================================\n",
      "                                 coef    std err          t      P>|t|      [0.025      0.975]\n",
      "----------------------------------------------------------------------------------------------\n",
      "Intercept                      3.8278      1.006      3.804      0.000       1.851       5.805\n",
      "crowd_pct                      0.6954      2.002      0.347      0.728      -3.237       4.628\n",
      "crowd_pct_2                   -2.1977      0.711     -3.090      0.002      -3.595      -0.801\n",
      "avg_clustering                 4.7590      0.530      8.984      0.000       3.719       5.799\n",
      "avg_min_path                  -3.0389      0.505     -6.020      0.000      -4.030      -2.047\n",
      "gini_coefficient               6.0186      1.693      3.555      0.000       2.693       9.344\n",
      "avg_clusteringXcrowd_pct      -4.5123      1.103     -4.092      0.000      -6.678      -2.346\n",
      "avg_min_pathXcrowd_pct         2.5614      0.797      3.214      0.001       0.996       4.127\n",
      "gini_coefficientXcrowd_pct    -2.2297      3.157     -0.706      0.480      -8.431       3.971\n",
      "total_contributors             0.0040      0.004      0.950      0.343      -0.004       0.012\n",
      "project_age                   -0.0001    5.6e-05     -1.797      0.073      -0.000    9.35e-06\n",
      "==============================================================================\n",
      "Omnibus:                      519.190   Durbin-Watson:                   1.942\n",
      "Prob(Omnibus):                  0.000   Jarque-Bera (JB):            34020.580\n",
      "Skew:                           3.750   Prob(JB):                         0.00\n",
      "Kurtosis:                      40.371   Cond. No.                     2.00e+05\n",
      "==============================================================================\n",
      "\n",
      "Warnings:\n",
      "[1] Standard Errors assume that the covariance matrix of the errors is correctly specified.\n",
      "[2] The condition number is large,  2e+05. This might indicate that there are\n",
      "strong multicollinearity or other numerical problems.\n"
     ]
    }
   ],
   "source": [
    "y, X = dmatrices('avg_comments ~ ' + base_features,\n",
    "                 data=all_data, return_type='dataframe')\n",
    "mod = sm.OLS(y, X)\n",
    "res = mod.fit()\n",
    "yhat = res.predict(X)\n",
    "print(res.summary())"
   ]
  },
  {
   "cell_type": "code",
   "execution_count": 15,
   "metadata": {},
   "outputs": [
    {
     "name": "stdout",
     "output_type": "stream",
     "text": [
      "                            OLS Regression Results                            \n",
      "==============================================================================\n",
      "Dep. Variable:           avg_comments   R-squared:                       0.422\n",
      "Model:                            OLS   Adj. R-squared:                  0.379\n",
      "Method:                 Least Squares   F-statistic:                     9.776\n",
      "Date:                Sat, 23 Nov 2019   Prob (F-statistic):           3.30e-41\n",
      "Time:                        15:15:34   Log-Likelihood:                -685.68\n",
      "No. Observations:                 562   AIC:                             1451.\n",
      "Df Residuals:                     522   BIC:                             1625.\n",
      "Df Model:                          39                                         \n",
      "Covariance Type:            nonrobust                                         \n",
      "============================================================================================\n",
      "                               coef    std err          t      P>|t|      [0.025      0.975]\n",
      "--------------------------------------------------------------------------------------------\n",
      "Intercept                    4.2704      0.726      5.883      0.000       2.844       5.696\n",
      "crowd_pct_2                 -2.8931      0.660     -4.382      0.000      -4.190      -1.596\n",
      "avg_clustering               5.1887      0.501     10.360      0.000       4.205       6.173\n",
      "avg_min_path                -3.0799      0.298    -10.349      0.000      -3.665      -2.495\n",
      "gini_coefficient             5.2621      0.827      6.361      0.000       3.637       6.887\n",
      "avg_clusteringXcrowd_pct    -5.4568      1.058     -5.158      0.000      -7.535      -3.379\n",
      "avg_min_pathXcrowd_pct       2.8815      0.414      6.955      0.000       2.068       3.695\n",
      "topic_0                    -23.9935      8.661     -2.770      0.006     -41.008      -6.979\n",
      "topic_0_2                   42.2302     16.913      2.497      0.013       9.004      75.457\n",
      "topic_1                     -8.3907      2.324     -3.610      0.000     -12.957      -3.824\n",
      "topic_6                      1.9909      0.872      2.283      0.023       0.277       3.704\n",
      "topic_0:topic_7            101.5263     28.188      3.602      0.000      46.150     156.903\n",
      "topic_9                     25.1812      5.625      4.477      0.000      14.130      36.232\n",
      "topic_12                    36.2930     14.407      2.519      0.012       7.990      64.596\n",
      "topic_14                   -14.8155      2.879     -5.147      0.000     -20.471      -9.160\n",
      "topic_17                    -6.5060      2.210     -2.944      0.003     -10.848      -2.164\n",
      "topic_1:topic_14           101.2037     27.479      3.683      0.000      47.220     155.187\n",
      "topic_1:topic_21            59.0327     27.704      2.131      0.034       4.609     113.457\n",
      "topic_3:topic_5             42.6445     18.676      2.283      0.023       5.955      79.334\n",
      "topic_4:topic_8           -267.9329     74.245     -3.609      0.000    -413.789    -122.077\n",
      "topic_5:topic_9            -86.2129     33.643     -2.563      0.011    -152.305     -20.121\n",
      "topic_5:topic_17            48.0173     18.889      2.542      0.011      10.910      85.125\n",
      "topic_6:topic_18           -79.9163     21.214     -3.767      0.000    -121.593     -38.240\n",
      "topic_7:topic_16          -101.0414     27.360     -3.693      0.000    -154.790     -47.293\n",
      "topic_8:topic_9           -182.3976     67.264     -2.712      0.007    -314.539     -50.256\n",
      "topic_8:topic_14            77.2685     30.703      2.517      0.012      16.953     137.584\n",
      "topic_8:topic_15           223.9989     79.818      2.806      0.005      67.195     380.803\n",
      "topic_9:topic_10           -76.6699     23.027     -3.330      0.001    -121.907     -31.432\n",
      "topic_9:topic_12          -353.3146    135.483     -2.608      0.009    -619.474     -87.155\n",
      "topic_9:topic_20          -127.6201     34.204     -3.731      0.000    -194.815     -60.425\n",
      "topic_11:topic_14           70.9167     17.674      4.012      0.000      36.195     105.638\n",
      "topic_11:topic_15         -145.9642     47.023     -3.104      0.002    -238.342     -53.586\n",
      "topic_12_2                 -59.9153     26.932     -2.225      0.027    -112.823      -7.008\n",
      "topic_13:topic_19         -130.8284     52.315     -2.501      0.013    -233.603     -28.054\n",
      "topic_14:topic_16          133.6303     42.117      3.173      0.002      50.891     216.370\n",
      "topic_14:topic_17           72.6236     31.164      2.330      0.020      11.402     133.845\n",
      "topic_14:topic_20           48.9554     24.021      2.038      0.042       1.766      96.145\n",
      "topic_14:topic_22          -63.9408     22.813     -2.803      0.005    -108.758     -19.123\n",
      "topic_16:topic_21          -83.7964     39.061     -2.145      0.032    -160.533      -7.060\n",
      "topic_19:topic_20          122.6141     51.753      2.369      0.018      20.945     224.283\n",
      "==============================================================================\n",
      "Omnibus:                      520.259   Durbin-Watson:                   1.916\n",
      "Prob(Omnibus):                  0.000   Jarque-Bera (JB):            39136.260\n",
      "Skew:                           3.706   Prob(JB):                         0.00\n",
      "Kurtosis:                      43.204   Cond. No.                     1.09e+04\n",
      "==============================================================================\n",
      "\n",
      "Warnings:\n",
      "[1] Standard Errors assume that the covariance matrix of the errors is correctly specified.\n",
      "[2] The condition number is large, 1.09e+04. This might indicate that there are\n",
      "strong multicollinearity or other numerical problems.\n"
     ]
    }
   ],
   "source": [
    "y, X = dmatrices('avg_comments ~ ' + base_features + ' + ' + ' + '.join(reg_topics),\n",
    "                 data=all_data, return_type='dataframe')\n",
    "features = select_features(X, y, .05)\n",
    "y, X = dmatrices('avg_comments ~ ' + features,\n",
    "                 data=all_data, return_type='dataframe')\n",
    "mod = sm.OLS(y, X)\n",
    "res = mod.fit()\n",
    "yhat = res.predict(X)\n",
    "print(res.summary())"
   ]
  },
  {
   "cell_type": "code",
   "execution_count": 16,
   "metadata": {},
   "outputs": [
    {
     "data": {
      "text/plain": [
       "(-2.0, 2.0)"
      ]
     },
     "execution_count": 16,
     "metadata": {},
     "output_type": "execute_result"
    },
    {
     "data": {
      "image/png": "[encoded data removed]",
      "text/plain": [
       "<Figure size 864x360 with 1 Axes>"
      ]
     },
     "metadata": {
      "needs_background": "light"
     },
     "output_type": "display_data"
    }
   ],
   "source": [
    "plt.figure(figsize=(12, 5))\n",
    "sns.distplot(res.resid, kde=False, color='blue', bins=50)\n",
    "plt.title('OLS Residuals', fontsize=18)\n",
    "plt.xlabel('Residuals', fontsize=16)\n",
    "plt.ylabel('Count', fontsize=16)\n",
    "plt.xlim([-2.0, 2.0])"
   ]
  },
  {
   "cell_type": "code",
   "execution_count": 17,
   "metadata": {},
   "outputs": [
    {
     "data": {
      "text/plain": [
       "(-2.0, 2.0)"
      ]
     },
     "execution_count": 17,
     "metadata": {},
     "output_type": "execute_result"
    },
    {
     "data": {
      "image/png": "[encoded data removed]",
      "text/plain": [
       "<Figure size 864x360 with 1 Axes>"
      ]
     },
     "metadata": {
      "needs_background": "light"
     },
     "output_type": "display_data"
    }
   ],
   "source": [
    "plt.figure(figsize=(12, 5))\n",
    "sns.scatterplot(x=res.resid, y=all_data['avg_comments'], color='blue')\n",
    "plt.title('Residuals vs Actuals', fontsize=18)\n",
    "plt.xlabel('Residuals', fontsize=16)\n",
    "plt.ylabel('Comment Activity', fontsize=16)\n",
    "plt.ylim([0, 8])\n",
    "plt.xlim([-2.0, 2.0])"
   ]
  },
  {
   "cell_type": "code",
   "execution_count": 18,
   "metadata": {},
   "outputs": [
    {
     "name": "stderr",
     "output_type": "stream",
     "text": [
      "2019-11-23 15:15:35,306 [8467] WARNING  py.warnings: /home/matt/venv/phd/lib/python3.5/site-packages/ipykernel_launcher.py:1: DeprecationWarning: Calling Family(..) with a link class as argument is deprecated.\n",
      "Use an instance of a link class instead.\n",
      "  \"\"\"Entry point for launching an IPython kernel.\n",
      "\n"
     ]
    },
    {
     "name": "stdout",
     "output_type": "stream",
     "text": [
      "0.5024091203156327\n",
      "                 Generalized Linear Model Regression Results                  \n",
      "==============================================================================\n",
      "Dep. Variable:           avg_comments   No. Observations:                  562\n",
      "Model:                            GLM   Df Residuals:                      522\n",
      "Model Family:                   Gamma   Df Model:                           39\n",
      "Link Function:                    log   Scale:                        0.039572\n",
      "Method:                          IRLS   Log-Likelihood:                -575.73\n",
      "Date:                Sat, 23 Nov 2019   Deviance:                       18.892\n",
      "Time:                        15:15:35   Pearson chi2:                     20.7\n",
      "No. Iterations:                    13                                         \n",
      "Covariance Type:            nonrobust                                         \n",
      "============================================================================================\n",
      "                               coef    std err          z      P>|z|      [0.025      0.975]\n",
      "--------------------------------------------------------------------------------------------\n",
      "Intercept                    1.3778      0.170      8.116      0.000       1.045       1.711\n",
      "crowd_pct_2                 -0.7942      0.154     -5.143      0.000      -1.097      -0.492\n",
      "avg_clustering               1.3686      0.117     11.683      0.000       1.139       1.598\n",
      "avg_min_path                -0.8150      0.070    -11.708      0.000      -0.951      -0.679\n",
      "gini_coefficient             1.4950      0.193      7.726      0.000       1.116       1.874\n",
      "avg_clusteringXcrowd_pct    -1.4842      0.247     -5.999      0.000      -1.969      -0.999\n",
      "avg_min_pathXcrowd_pct       0.7948      0.097      8.202      0.000       0.605       0.985\n",
      "topic_0                     -6.0908      2.026     -3.007      0.003     -10.061      -2.120\n",
      "topic_0_2                   10.8323      3.956      2.738      0.006       3.079      18.586\n",
      "topic_1                     -1.8156      0.544     -3.340      0.001      -2.881      -0.750\n",
      "topic_6                      0.5877      0.204      2.881      0.004       0.188       0.987\n",
      "topic_0:topic_7             24.3109      6.593      3.687      0.000      11.388      37.233\n",
      "topic_9                      6.1945      1.316      4.708      0.000       3.616       8.773\n",
      "topic_12                     9.9665      3.370      2.958      0.003       3.362      16.571\n",
      "topic_14                    -3.3791      0.673     -5.019      0.000      -4.699      -2.059\n",
      "topic_17                    -1.5704      0.517     -3.038      0.002      -2.584      -0.557\n",
      "topic_1:topic_14            23.1554      6.427      3.603      0.000      10.558      35.753\n",
      "topic_1:topic_21            10.3080      6.480      1.591      0.112      -2.392      23.008\n",
      "topic_3:topic_5              9.1761      4.368      2.101      0.036       0.614      17.738\n",
      "topic_4:topic_8            -67.9647     17.366     -3.914      0.000    -102.001     -33.928\n",
      "topic_5:topic_9            -20.6545      7.869     -2.625      0.009     -36.078      -5.232\n",
      "topic_5:topic_17            11.1241      4.418      2.518      0.012       2.465      19.783\n",
      "topic_6:topic_18           -22.0240      4.962     -4.439      0.000     -31.749     -12.299\n",
      "topic_7:topic_16           -25.9683      6.399     -4.058      0.000     -38.511     -13.426\n",
      "topic_8:topic_9            -38.4138     15.733     -2.442      0.015     -69.250      -7.578\n",
      "topic_8:topic_14             9.5840      7.181      1.335      0.182      -4.491      23.659\n",
      "topic_8:topic_15            51.7915     18.669      2.774      0.006      15.200      88.383\n",
      "topic_9:topic_10           -20.6155      5.386     -3.828      0.000     -31.172     -10.059\n",
      "topic_9:topic_12           -94.5661     31.689     -2.984      0.003    -156.676     -32.456\n",
      "topic_9:topic_20           -29.9162      8.000     -3.739      0.000     -45.597     -14.236\n",
      "topic_11:topic_14           14.9576      4.134      3.618      0.000       6.855      23.060\n",
      "topic_11:topic_15          -37.9985     10.999     -3.455      0.001     -59.555     -16.442\n",
      "topic_12_2                 -16.8381      6.299     -2.673      0.008     -29.184      -4.492\n",
      "topic_13:topic_19          -34.5666     12.236     -2.825      0.005     -58.550     -10.584\n",
      "topic_14:topic_16           32.1998      9.851      3.269      0.001      12.892      51.508\n",
      "topic_14:topic_17           18.1176      7.289      2.486      0.013       3.831      32.404\n",
      "topic_14:topic_20           11.2601      5.618      2.004      0.045       0.248      22.272\n",
      "topic_14:topic_22          -15.7981      5.336     -2.961      0.003     -26.256      -5.340\n",
      "topic_16:topic_21          -21.1217      9.136     -2.312      0.021     -39.029      -3.215\n",
      "topic_19:topic_20           26.2974     12.105      2.172      0.030       2.572      50.022\n",
      "============================================================================================\n"
     ]
    }
   ],
   "source": [
    "mod = sm.GLM(y, X, family=sm.families.Gamma(link=sm.families.links.log))\n",
    "res = mod.fit()\n",
    "print(1 - (res.deviance/res.null_deviance))\n",
    "print(res.summary())"
   ]
  },
  {
   "cell_type": "code",
   "execution_count": 19,
   "metadata": {},
   "outputs": [
    {
     "data": {
      "text/plain": [
       "(0, 1.5)"
      ]
     },
     "execution_count": 19,
     "metadata": {},
     "output_type": "execute_result"
    },
    {
     "data": {
      "image/png": "[encoded data removed]",
      "text/plain": [
       "<Figure size 864x360 with 1 Axes>"
      ]
     },
     "metadata": {
      "needs_background": "light"
     },
     "output_type": "display_data"
    }
   ],
   "source": [
    "plt.figure(figsize=(12, 5))\n",
    "sns.scatterplot(x=abs(yhat - all_data['avg_comments']), y=all_data['avg_comments'], color='blue')\n",
    "plt.title('Residuals vs Actuals', fontsize=18)\n",
    "plt.xlabel('Residuals', fontsize=16)\n",
    "plt.ylabel('Comment Activity', fontsize=16)\n",
    "plt.ylim([0, 8])\n",
    "plt.xlim([0, 1.5])"
   ]
  },
  {
   "cell_type": "markdown",
   "metadata": {},
   "source": [
    "### Regression on Mean Requirement Duration"
   ]
  },
  {
   "cell_type": "code",
   "execution_count": 20,
   "metadata": {},
   "outputs": [
    {
     "name": "stdout",
     "output_type": "stream",
     "text": [
      "                            OLS Regression Results                            \n",
      "==============================================================================\n",
      "Dep. Variable:          duration_mean   R-squared:                       0.311\n",
      "Model:                            OLS   Adj. R-squared:                  0.298\n",
      "Method:                 Least Squares   F-statistic:                     22.62\n",
      "Date:                Sat, 23 Nov 2019   Prob (F-statistic):           2.75e-38\n",
      "Time:                        15:15:36   Log-Likelihood:                -3524.3\n",
      "No. Observations:                 562   AIC:                             7073.\n",
      "Df Residuals:                     550   BIC:                             7125.\n",
      "Df Model:                          11                                         \n",
      "Covariance Type:            nonrobust                                         \n",
      "==============================================================================================\n",
      "                                 coef    std err          t      P>|t|      [0.025      0.975]\n",
      "----------------------------------------------------------------------------------------------\n",
      "Intercept                   -329.6898    141.265     -2.334      0.020    -607.175     -52.205\n",
      "crowd_pct                     13.2941    282.493      0.047      0.962    -541.602     568.191\n",
      "crowd_pct_2                  214.3582    104.356      2.054      0.040       9.374     419.342\n",
      "avg_clustering                -4.2253     75.237     -0.056      0.955    -152.012     143.561\n",
      "avg_min_path                   4.2116     70.860      0.059      0.953    -134.977     143.400\n",
      "gini_coefficient             589.4542    239.163      2.465      0.014     119.669    1059.240\n",
      "avg_clusteringXcrowd_pct     488.8037    155.490      3.144      0.002     183.376     794.232\n",
      "avg_min_pathXcrowd_pct        39.1145    111.887      0.350      0.727    -180.664     258.893\n",
      "gini_coefficientXcrowd_pct  -963.8903    443.321     -2.174      0.030   -1834.700     -93.081\n",
      "total_contributors            -0.4152      0.783     -0.530      0.596      -1.954       1.123\n",
      "project_age                    0.0915      0.008     11.639      0.000       0.076       0.107\n",
      "total_issues                  -0.0911      0.061     -1.497      0.135      -0.211       0.028\n",
      "==============================================================================\n",
      "Omnibus:                      306.218   Durbin-Watson:                   1.857\n",
      "Prob(Omnibus):                  0.000   Jarque-Bera (JB):             3138.522\n",
      "Skew:                           2.193   Prob(JB):                         0.00\n",
      "Kurtosis:                      13.715   Cond. No.                     2.01e+05\n",
      "==============================================================================\n",
      "\n",
      "Warnings:\n",
      "[1] Standard Errors assume that the covariance matrix of the errors is correctly specified.\n",
      "[2] The condition number is large, 2.01e+05. This might indicate that there are\n",
      "strong multicollinearity or other numerical problems.\n"
     ]
    }
   ],
   "source": [
    "y, X = dmatrices('duration_mean ~ ' + base_features + ' + total_issues ',\n",
    "                 data=all_data, return_type='dataframe')\n",
    "mod = sm.OLS(y, X)\n",
    "res = mod.fit()\n",
    "yhat = res.predict(X)\n",
    "print(res.summary())"
   ]
  },
  {
   "cell_type": "code",
   "execution_count": 21,
   "metadata": {},
   "outputs": [
    {
     "name": "stdout",
     "output_type": "stream",
     "text": [
      "                            OLS Regression Results                            \n",
      "==============================================================================\n",
      "Dep. Variable:          duration_mean   R-squared:                       0.554\n",
      "Model:                            OLS   Adj. R-squared:                  0.483\n",
      "Method:                 Least Squares   F-statistic:                     7.796\n",
      "Date:                Sat, 23 Nov 2019   Prob (F-statistic):           2.27e-48\n",
      "Time:                        15:16:03   Log-Likelihood:                -3402.6\n",
      "No. Observations:                 562   AIC:                             6961.\n",
      "Df Residuals:                     484   BIC:                             7299.\n",
      "Df Model:                          77                                         \n",
      "Covariance Type:            nonrobust                                         \n",
      "============================================================================================\n",
      "                               coef    std err          t      P>|t|      [0.025      0.975]\n",
      "--------------------------------------------------------------------------------------------\n",
      "Intercept                    3.2502     74.895      0.043      0.965    -143.909     150.410\n",
      "crowd_pct                 -210.2318     55.132     -3.813      0.000    -318.560    -101.903\n",
      "avg_clusteringXcrowd_pct   523.2473     78.074      6.702      0.000     369.841     676.653\n",
      "total_contributors          -1.4656      0.496     -2.954      0.003      -2.441      -0.491\n",
      "project_age                  0.0890      0.008     11.820      0.000       0.074       0.104\n",
      "topic_4                   1100.5592    584.389      1.883      0.060     -47.694    2248.813\n",
      "topic_6                   1875.5978    357.311      5.249      0.000    1173.525    2577.671\n",
      "topic_12                 -5766.8713   1745.383     -3.304      0.001   -9196.335   -2337.408\n",
      "topic_14                  1418.6517    483.512      2.934      0.004     468.610    2368.693\n",
      "topic_15                 -4972.9882    834.124     -5.962      0.000   -6611.939   -3334.037\n",
      "topic_16                 -3529.8978    725.221     -4.867      0.000   -4954.869   -2104.927\n",
      "topic_17                 -3399.8654   1029.155     -3.304      0.001   -5422.028   -1377.702\n",
      "topic_20                  -753.1569    252.908     -2.978      0.003   -1250.091    -256.223\n",
      "topic_21                  1140.6053    434.969      2.622      0.009     285.944    1995.267\n",
      "topic_23                 -2822.3164   1003.806     -2.812      0.005   -4794.673    -849.960\n",
      "topic_0:topic_23          8236.3376   2316.514      3.555      0.000    3684.672    1.28e+04\n",
      "topic_1:topic_6           7975.7029   3931.834      2.028      0.043     250.131    1.57e+04\n",
      "topic_1:topic_16           2.51e+04   6917.786      3.628      0.000    1.15e+04    3.87e+04\n",
      "topic_1:topic_21         -1.049e+04   3664.909     -2.861      0.004   -1.77e+04   -3285.989\n",
      "topic_2:topic_4          -4.716e+04    1.6e+04     -2.948      0.003   -7.86e+04   -1.57e+04\n",
      "topic_2:topic_6          -8170.2315   4522.927     -1.806      0.071   -1.71e+04     716.766\n",
      "topic_2:topic_12          4.832e+04   1.57e+04      3.085      0.002    1.75e+04    7.91e+04\n",
      "topic_2:topic_16          1.386e+04   5205.196      2.663      0.008    3635.411    2.41e+04\n",
      "topic_3:topic_8           7.509e+04    2.1e+04      3.581      0.000    3.39e+04    1.16e+05\n",
      "topic_3:topic_10         -1.041e+04   4580.495     -2.273      0.023   -1.94e+04   -1412.850\n",
      "topic_3:topic_16          6.568e+04   1.54e+04      4.268      0.000    3.54e+04    9.59e+04\n",
      "topic_3:topic_19         -1.025e+05   2.17e+04     -4.724      0.000   -1.45e+05   -5.99e+04\n",
      "topic_3:topic_22         -1.202e+04   3347.701     -3.591      0.000   -1.86e+04   -5444.052\n",
      "topic_4:topic_9           3.648e+04    1.3e+04      2.810      0.005     1.1e+04     6.2e+04\n",
      "topic_4:topic_18          -3.63e+04   1.48e+04     -2.456      0.014   -6.53e+04   -7255.942\n",
      "topic_5:topic_11          6140.1104   3211.274      1.912      0.056    -169.650    1.24e+04\n",
      "topic_5:topic_16         -1.497e+04   5227.795     -2.864      0.004   -2.52e+04   -4701.441\n",
      "topic_5:topic_17          5739.3200   2576.585      2.227      0.026     676.647    1.08e+04\n",
      "topic_6:topic_7           6495.2667   2845.696      2.282      0.023     903.823    1.21e+04\n",
      "topic_6:topic_8           -1.03e+04   5052.242     -2.039      0.042   -2.02e+04    -372.303\n",
      "topic_6:topic_9          -2.939e+04   5956.042     -4.934      0.000   -4.11e+04   -1.77e+04\n",
      "topic_6:topic_11          5588.3375   2493.063      2.242      0.025     689.773    1.05e+04\n",
      "topic_6:topic_17         -8093.7376   2610.065     -3.101      0.002   -1.32e+04   -2965.280\n",
      "topic_6:topic_18          1.431e+04   3902.897      3.667      0.000    6642.867     2.2e+04\n",
      "topic_6:topic_21         -1.681e+04   4106.362     -4.093      0.000   -2.49e+04   -8737.769\n",
      "topic_6:topic_22         -4357.2594   1517.839     -2.871      0.004   -7339.628   -1374.891\n",
      "topic_7:topic_12          2.437e+04   6841.617      3.562      0.000    1.09e+04    3.78e+04\n",
      "topic_7:topic_15         -2.108e+04   6596.422     -3.196      0.001    -3.4e+04   -8120.344\n",
      "topic_8:topic_11         -1.191e+04   5229.356     -2.278      0.023   -2.22e+04   -1637.058\n",
      "topic_8:topic_12         -9.575e+04   2.84e+04     -3.368      0.001   -1.52e+05   -3.99e+04\n",
      "topic_8:topic_18          2.245e+04   9508.955      2.361      0.019    3768.586    4.11e+04\n",
      "topic_8:topic_21          1.842e+04   1.11e+04      1.658      0.098   -3411.021    4.02e+04\n",
      "topic_9:topic_13          1.615e+04   7248.615      2.228      0.026    1906.242    3.04e+04\n",
      "topic_9:topic_14         -1.526e+04   5973.443     -2.555      0.011    -2.7e+04   -3523.772\n",
      "topic_9:topic_20          9376.4847   3881.787      2.416      0.016    1749.249     1.7e+04\n",
      "topic_10:topic_16         1.703e+04   4680.517      3.639      0.000    7836.923    2.62e+04\n",
      "topic_10:topic_17         1.063e+04   2612.744      4.068      0.000    5494.249    1.58e+04\n",
      "topic_10:topic_18        -9499.7922   3924.588     -2.421      0.016   -1.72e+04   -1788.458\n",
      "topic_10:topic_20        -5154.8228   2080.682     -2.477      0.014   -9243.108   -1066.538\n",
      "topic_11:topic_14        -6540.3116   2303.660     -2.839      0.005   -1.11e+04   -2013.901\n",
      "topic_11:topic_15         3.206e+04   1.07e+04      3.004      0.003    1.11e+04     5.3e+04\n",
      "topic_11:topic_16        -6389.4700   2522.792     -2.533      0.012   -1.13e+04   -1432.493\n",
      "topic_11:topic_20         9340.7524   2647.002      3.529      0.000    4139.718    1.45e+04\n",
      "topic_11:topic_21        -5792.6684   2997.383     -1.933      0.054   -1.17e+04      96.822\n",
      "topic_12:topic_14        -4.402e+04   1.48e+04     -2.979      0.003   -7.31e+04    -1.5e+04\n",
      "topic_12:topic_15         6.176e+04   2.86e+04      2.162      0.031    5621.820    1.18e+05\n",
      "topic_12:topic_17         1.868e+04   8081.543      2.312      0.021    2803.542    3.46e+04\n",
      "topic_12:topic_19         2.062e+05   4.24e+04      4.866      0.000    1.23e+05    2.89e+05\n",
      "topic_12:topic_20         1.477e+04   5778.684      2.556      0.011    3418.053    2.61e+04\n",
      "topic_13:topic_22        -5779.3379   2665.541     -2.168      0.031    -1.1e+04    -541.877\n",
      "topic_14:topic_16        -2.054e+04   8105.595     -2.534      0.012   -3.65e+04   -4611.023\n",
      "topic_14:topic_18          3.03e+04   6954.183      4.358      0.000    1.66e+04     4.4e+04\n",
      "topic_15:topic_16         6.102e+04   2.02e+04      3.022      0.003    2.13e+04    1.01e+05\n",
      "topic_15:topic_17         5.616e+04   1.15e+04      4.865      0.000    3.35e+04    7.88e+04\n",
      "topic_16:topic_17         8057.9021   4227.052      1.906      0.057    -247.737    1.64e+04\n",
      "topic_16:topic_23          1.37e+04   4519.297      3.030      0.003    4815.434    2.26e+04\n",
      "topic_17_2                3242.2409   1373.681      2.360      0.019     543.126    5941.356\n",
      "topic_17:topic_18        -1.138e+04   4301.657     -2.646      0.008   -1.98e+04   -2927.866\n",
      "topic_17:topic_19        -4.281e+04   1.32e+04     -3.244      0.001   -6.87e+04   -1.69e+04\n",
      "topic_17:topic_20         8185.9606   3440.258      2.379      0.018    1426.275    1.49e+04\n",
      "topic_17:topic_22         5947.7109   3580.675      1.661      0.097   -1087.876     1.3e+04\n",
      "topic_22_2                 901.8543    346.549      2.602      0.010     220.929    1582.780\n",
      "topic_23_2                3444.8992   1588.000      2.169      0.031     324.673    6565.125\n",
      "==============================================================================\n",
      "Omnibus:                      169.045   Durbin-Watson:                   1.957\n",
      "Prob(Omnibus):                  0.000   Jarque-Bera (JB):              775.085\n",
      "Skew:                           1.275   Prob(JB):                    4.93e-169\n",
      "Kurtosis:                       8.157   Cond. No.                     2.14e+07\n",
      "==============================================================================\n",
      "\n",
      "Warnings:\n",
      "[1] Standard Errors assume that the covariance matrix of the errors is correctly specified.\n",
      "[2] The condition number is large, 2.14e+07. This might indicate that there are\n",
      "strong multicollinearity or other numerical problems.\n"
     ]
    }
   ],
   "source": [
    "y, X = dmatrices('duration_mean ~ ' + base_features + ' + total_issues + ' + ' + '.join(reg_topics),\n",
    "                 data=all_data, return_type='dataframe')\n",
    "features = select_features(X, y, .10)\n",
    "y, X = dmatrices('duration_mean ~ crowd_pct + avg_clusteringXcrowd_pct - avg_clustering ' + features ,\n",
    "                 data=all_data, return_type='dataframe')\n",
    "mod = sm.OLS(y, X)\n",
    "res = mod.fit()\n",
    "yhat = res.predict(X)\n",
    "print(res.summary())"
   ]
  },
  {
   "cell_type": "code",
   "execution_count": 22,
   "metadata": {},
   "outputs": [
    {
     "data": {
      "text/plain": [
       "(-250, 250)"
      ]
     },
     "execution_count": 22,
     "metadata": {},
     "output_type": "execute_result"
    },
    {
     "data": {
      "image/png": "[encoded data removed]",
      "text/plain": [
       "<Figure size 864x360 with 1 Axes>"
      ]
     },
     "metadata": {
      "needs_background": "light"
     },
     "output_type": "display_data"
    }
   ],
   "source": [
    "plt.figure(figsize=(12, 5))\n",
    "sns.distplot(res.resid, kde=False, color='blue', bins=50)\n",
    "plt.title('OLS Residuals', fontsize=18)\n",
    "plt.xlabel('Residuals', fontsize=16)\n",
    "plt.ylabel('Count', fontsize=16)\n",
    "plt.xlim([-250, 250])"
   ]
  },
  {
   "cell_type": "code",
   "execution_count": 23,
   "metadata": {},
   "outputs": [
    {
     "data": {
      "text/plain": [
       "(-200, 200)"
      ]
     },
     "execution_count": 23,
     "metadata": {},
     "output_type": "execute_result"
    },
    {
     "data": {
      "image/png": "[encoded data removed]",
      "text/plain": [
       "<Figure size 864x360 with 1 Axes>"
      ]
     },
     "metadata": {
      "needs_background": "light"
     },
     "output_type": "display_data"
    }
   ],
   "source": [
    "plt.figure(figsize=(12, 5))\n",
    "sns.scatterplot(x=res.resid, y=all_data['duration_mean'], color='blue')\n",
    "plt.title('Residuals vs Actuals', fontsize=18)\n",
    "plt.xlabel('Residuals', fontsize=16)\n",
    "plt.ylabel('Requirement Duration', fontsize=16)\n",
    "plt.ylim([0, 400])\n",
    "plt.xlim([-200, 200])"
   ]
  },
  {
   "cell_type": "code",
   "execution_count": 24,
   "metadata": {},
   "outputs": [
    {
     "name": "stderr",
     "output_type": "stream",
     "text": [
      "2019-11-23 15:16:04,237 [8467] WARNING  py.warnings: /home/matt/venv/phd/lib/python3.5/site-packages/ipykernel_launcher.py:1: DeprecationWarning: Calling Family(..) with a link class as argument is deprecated.\n",
      "Use an instance of a link class instead.\n",
      "  \"\"\"Entry point for launching an IPython kernel.\n",
      "\n"
     ]
    },
    {
     "name": "stdout",
     "output_type": "stream",
     "text": [
      "0.509924230048675\n",
      "                 Generalized Linear Model Regression Results                  \n",
      "==============================================================================\n",
      "Dep. Variable:          duration_mean   No. Observations:                  562\n",
      "Model:                            GLM   Df Residuals:                      484\n",
      "Model Family:                   Gamma   Df Model:                           77\n",
      "Link Function:                    log   Scale:                         0.39643\n",
      "Method:                          IRLS   Log-Likelihood:                -3194.3\n",
      "Date:                Sat, 23 Nov 2019   Deviance:                       219.90\n",
      "Time:                        15:16:04   Pearson chi2:                     192.\n",
      "No. Iterations:                    33                                         \n",
      "Covariance Type:            nonrobust                                         \n",
      "============================================================================================\n",
      "                               coef    std err          z      P>|z|      [0.025      0.975]\n",
      "--------------------------------------------------------------------------------------------\n",
      "Intercept                    4.5317      0.425     10.674      0.000       3.700       5.364\n",
      "crowd_pct                   -0.9760      0.313     -3.123      0.002      -1.589      -0.363\n",
      "avg_clusteringXcrowd_pct     2.7366      0.443      6.183      0.000       1.869       3.604\n",
      "total_contributors          -0.0051      0.003     -1.822      0.069      -0.011       0.000\n",
      "project_age                  0.0006   4.27e-05     13.417      0.000       0.000       0.001\n",
      "topic_4                      8.0857      3.313      2.441      0.015       1.593      14.579\n",
      "topic_6                      7.4629      2.025      3.685      0.000       3.493      11.433\n",
      "topic_12                   -42.9964      9.894     -4.346      0.000     -62.388     -23.605\n",
      "topic_14                     4.7305      2.741      1.726      0.084      -0.642      10.102\n",
      "topic_15                   -29.7469      4.728     -6.291      0.000     -39.014     -20.479\n",
      "topic_16                   -18.4362      4.111     -4.485      0.000     -26.494     -10.379\n",
      "topic_17                   -17.2524      5.834     -2.957      0.003     -28.687      -5.818\n",
      "topic_20                    -4.3719      1.434     -3.049      0.002      -7.182      -1.562\n",
      "topic_21                     5.4756      2.466      2.221      0.026       0.643      10.308\n",
      "topic_23                    -8.7842      5.690     -1.544      0.123     -19.937       2.368\n",
      "topic_0:topic_23            32.2695     13.132      2.457      0.014       6.532      58.007\n",
      "topic_1:topic_6             10.9067     22.288      0.489      0.625     -32.777      54.591\n",
      "topic_1:topic_16           160.0715     39.215      4.082      0.000      83.212     236.931\n",
      "topic_1:topic_21           -72.5134     20.775     -3.490      0.000    -113.232     -31.795\n",
      "topic_2:topic_4           -334.5886     90.670     -3.690      0.000    -512.298    -156.879\n",
      "topic_2:topic_6            -29.7716     25.639     -1.161      0.246     -80.023      20.480\n",
      "topic_2:topic_12           279.8912     88.802      3.152      0.002     105.842     453.940\n",
      "topic_2:topic_16            71.8079     29.507      2.434      0.015      13.976     129.640\n",
      "topic_3:topic_8            271.0465    118.856      2.280      0.023      38.094     503.999\n",
      "topic_3:topic_10           -49.6744     25.965     -1.913      0.056    -100.565       1.217\n",
      "topic_3:topic_16           407.0335     87.224      4.667      0.000     236.077     577.990\n",
      "topic_3:topic_19          -561.7104    123.044     -4.565      0.000    -802.872    -320.549\n",
      "topic_3:topic_22           -60.6217     18.977     -3.194      0.001     -97.816     -23.427\n",
      "topic_4:topic_9            124.6328     73.574      1.694      0.090     -19.570     268.835\n",
      "topic_4:topic_18          -173.0423     83.786     -2.065      0.039    -337.261      -8.824\n",
      "topic_5:topic_11            34.6005     18.204      1.901      0.057      -1.078      70.279\n",
      "topic_5:topic_16          -104.5071     29.635     -3.527      0.000    -162.590     -46.424\n",
      "topic_5:topic_17            35.0226     14.606      2.398      0.016       6.396      63.649\n",
      "topic_6:topic_7              8.1939     16.131      0.508      0.611     -23.423      39.811\n",
      "topic_6:topic_8            -30.3499     28.639     -1.060      0.289     -86.482      25.782\n",
      "topic_6:topic_9            -96.0509     33.763     -2.845      0.004    -162.225     -29.877\n",
      "topic_6:topic_11             6.5331     14.132      0.462      0.644     -21.166      34.232\n",
      "topic_6:topic_17           -36.0349     14.796     -2.436      0.015     -65.034      -7.036\n",
      "topic_6:topic_18            53.2742     22.124      2.408      0.016       9.912      96.637\n",
      "topic_6:topic_21           -60.4503     23.278     -2.597      0.009    -106.074     -14.827\n",
      "topic_6:topic_22           -17.3556      8.604     -2.017      0.044     -34.219      -0.492\n",
      "topic_7:topic_12            85.2577     38.783      2.198      0.028       9.245     161.271\n",
      "topic_7:topic_15          -101.3946     37.393     -2.712      0.007    -174.683     -28.106\n",
      "topic_8:topic_11           -50.3435     29.643     -1.698      0.089    -108.444       7.757\n",
      "topic_8:topic_12          -308.5550    161.175     -1.914      0.056    -624.451       7.341\n",
      "topic_8:topic_18            84.1412     53.903      1.561      0.119     -21.507     189.789\n",
      "topic_8:topic_21            41.1365     62.981      0.653      0.514     -82.303     164.576\n",
      "topic_9:topic_13            53.3843     41.090      1.299      0.194     -27.151     133.919\n",
      "topic_9:topic_14           -70.4910     33.861     -2.082      0.037    -136.858      -4.124\n",
      "topic_9:topic_20            43.0086     22.005      1.955      0.051      -0.120      86.137\n",
      "topic_10:topic_16           50.8486     26.532      1.916      0.055      -1.154     102.851\n",
      "topic_10:topic_17           59.9699     14.811      4.049      0.000      30.941      88.999\n",
      "topic_10:topic_18          -49.3108     22.247     -2.216      0.027     -92.914      -5.707\n",
      "topic_10:topic_20          -28.2231     11.795     -2.393      0.017     -51.340      -5.106\n",
      "topic_11:topic_14          -29.8430     13.059     -2.285      0.022     -55.438      -4.248\n",
      "topic_11:topic_15          176.5114     60.501      2.917      0.004      57.931     295.092\n",
      "topic_11:topic_16          -50.7201     14.301     -3.547      0.000     -78.749     -22.691\n",
      "topic_11:topic_20           16.9224     15.005      1.128      0.259     -12.487      46.332\n",
      "topic_11:topic_21          -24.4824     16.991     -1.441      0.150     -57.784       8.820\n",
      "topic_12:topic_14         -215.1456     83.764     -2.568      0.010    -379.320     -50.971\n",
      "topic_12:topic_15          354.3870    161.952      2.188      0.029      36.967     671.807\n",
      "topic_12:topic_17          136.1691     45.812      2.972      0.003      46.380     225.958\n",
      "topic_12:topic_19         1283.5677    240.159      5.345      0.000     812.866    1754.270\n",
      "topic_12:topic_20           93.4942     32.757      2.854      0.004      29.291     157.698\n",
      "topic_13:topic_22          -24.6342     15.110     -1.630      0.103     -54.249       4.981\n",
      "topic_14:topic_16         -165.6309     45.948     -3.605      0.000    -255.687     -75.575\n",
      "topic_14:topic_18          221.8681     39.421      5.628      0.000     144.604     299.132\n",
      "topic_15:topic_16          398.5916    114.441      3.483      0.000     174.291     622.893\n",
      "topic_15:topic_17          307.4294     65.428      4.699      0.000     179.193     435.665\n",
      "topic_16:topic_17           52.1743     23.962      2.177      0.029       5.210      99.138\n",
      "topic_16:topic_23           54.6479     25.618      2.133      0.033       4.437     104.859\n",
      "topic_17_2                  15.3161      7.787      1.967      0.049       0.054      30.578\n",
      "topic_17:topic_18          -82.3973     24.385     -3.379      0.001    -130.190     -34.604\n",
      "topic_17:topic_19         -350.1445     74.812     -4.680      0.000    -496.773    -203.516\n",
      "topic_17:topic_20           45.6267     19.502      2.340      0.019       7.404      83.849\n",
      "topic_17:topic_22           37.5969     20.298      1.852      0.064      -2.186      77.380\n",
      "topic_22_2                   1.9712      1.964      1.003      0.316      -1.879       5.821\n",
      "topic_23_2                   7.1312      9.002      0.792      0.428     -10.512      24.775\n",
      "============================================================================================\n"
     ]
    }
   ],
   "source": [
    "mod = sm.GLM(y, X, family=sm.families.Gamma(link=sm.families.links.log))\n",
    "res = mod.fit()\n",
    "print(1 - (res.deviance/res.null_deviance))\n",
    "print(res.summary())\n",
    "yhat = res.predict(X)"
   ]
  },
  {
   "cell_type": "code",
   "execution_count": 25,
   "metadata": {},
   "outputs": [
    {
     "data": {
      "text/plain": [
       "(0, 200)"
      ]
     },
     "execution_count": 25,
     "metadata": {},
     "output_type": "execute_result"
    },
    {
     "data": {
      "image/png": "[encoded data removed]",
      "text/plain": [
       "<Figure size 864x360 with 1 Axes>"
      ]
     },
     "metadata": {
      "needs_background": "light"
     },
     "output_type": "display_data"
    }
   ],
   "source": [
    "plt.figure(figsize=(12, 5))\n",
    "sns.scatterplot(x=abs(yhat - all_data['duration_mean']), y=all_data['duration_mean'], color='blue')\n",
    "plt.title('Residuals vs Actuals', fontsize=18)\n",
    "plt.xlabel('Residuals', fontsize=16)\n",
    "plt.ylabel('Requirement Duration', fontsize=16)\n",
    "plt.ylim([0, 400])\n",
    "plt.xlim([0, 200])"
   ]
  },
  {
   "cell_type": "markdown",
   "metadata": {},
   "source": [
    "### Regression on Issues Submitted Over Time"
   ]
  },
  {
   "cell_type": "code",
   "execution_count": 26,
   "metadata": {},
   "outputs": [
    {
     "name": "stdout",
     "output_type": "stream",
     "text": [
      "                            OLS Regression Results                            \n",
      "==============================================================================\n",
      "Dep. Variable:       issues_over_time   R-squared:                       0.454\n",
      "Model:                            OLS   Adj. R-squared:                  0.444\n",
      "Method:                 Least Squares   F-statistic:                     45.75\n",
      "Date:                Sat, 23 Nov 2019   Prob (F-statistic):           5.09e-66\n",
      "Time:                        15:16:05   Log-Likelihood:                -433.09\n",
      "No. Observations:                 562   AIC:                             888.2\n",
      "Df Residuals:                     551   BIC:                             935.8\n",
      "Df Model:                          10                                         \n",
      "Covariance Type:            nonrobust                                         \n",
      "==============================================================================================\n",
      "                                 coef    std err          t      P>|t|      [0.025      0.975]\n",
      "----------------------------------------------------------------------------------------------\n",
      "Intercept                     -0.6443      0.577     -1.118      0.264      -1.777       0.488\n",
      "crowd_pct                     -0.4060      1.147     -0.354      0.723      -2.659       1.847\n",
      "crowd_pct_2                    2.6655      0.407      6.542      0.000       1.865       3.466\n",
      "avg_clustering                -0.7199      0.303     -2.372      0.018      -1.316      -0.124\n",
      "avg_min_path                   0.3998      0.289      1.383      0.167      -0.168       0.968\n",
      "gini_coefficient               3.1417      0.970      3.239      0.001       1.237       5.047\n",
      "avg_clusteringXcrowd_pct       1.0833      0.632      1.715      0.087      -0.158       2.324\n",
      "avg_min_pathXcrowd_pct        -0.6929      0.457     -1.518      0.130      -1.590       0.204\n",
      "gini_coefficientXcrowd_pct    -2.9799      1.809     -1.648      0.100      -6.532       0.573\n",
      "total_contributors             0.0320      0.002     13.296      0.000       0.027       0.037\n",
      "project_age                   -0.0004   3.21e-05    -12.147      0.000      -0.000      -0.000\n",
      "==============================================================================\n",
      "Omnibus:                      542.899   Durbin-Watson:                   2.056\n",
      "Prob(Omnibus):                  0.000   Jarque-Bera (JB):            24285.339\n",
      "Skew:                           4.221   Prob(JB):                         0.00\n",
      "Kurtosis:                      34.078   Cond. No.                     2.00e+05\n",
      "==============================================================================\n",
      "\n",
      "Warnings:\n",
      "[1] Standard Errors assume that the covariance matrix of the errors is correctly specified.\n",
      "[2] The condition number is large,  2e+05. This might indicate that there are\n",
      "strong multicollinearity or other numerical problems.\n"
     ]
    }
   ],
   "source": [
    "y, X = dmatrices('issues_over_time ~ ' + base_features,\n",
    "                 data=all_data, return_type='dataframe')\n",
    "mod = sm.OLS(y, X)\n",
    "res = mod.fit()\n",
    "yhat = res.predict(X)\n",
    "print(res.summary())"
   ]
  },
  {
   "cell_type": "code",
   "execution_count": 27,
   "metadata": {},
   "outputs": [
    {
     "name": "stdout",
     "output_type": "stream",
     "text": [
      "                            OLS Regression Results                            \n",
      "==============================================================================\n",
      "Dep. Variable:       issues_over_time   R-squared:                       0.775\n",
      "Model:                            OLS   Adj. R-squared:                  0.743\n",
      "Method:                 Least Squares   F-statistic:                     23.83\n",
      "Date:                Sat, 23 Nov 2019   Prob (F-statistic):          3.31e-119\n",
      "Time:                        15:16:22   Log-Likelihood:                -183.28\n",
      "No. Observations:                 562   AIC:                             510.6\n",
      "Df Residuals:                     490   BIC:                             822.4\n",
      "Df Model:                          71                                         \n",
      "Covariance Type:            nonrobust                                         \n",
      "==============================================================================================\n",
      "                                 coef    std err          t      P>|t|      [0.025      0.975]\n",
      "----------------------------------------------------------------------------------------------\n",
      "Intercept                     -1.3878      0.324     -4.287      0.000      -2.024      -0.752\n",
      "crowd_pct_2                    2.2016      0.286      7.699      0.000       1.640       2.763\n",
      "avg_clustering                -0.6652      0.213     -3.130      0.002      -1.083      -0.248\n",
      "gini_coefficient               3.2785      0.517      6.337      0.000       2.262       4.295\n",
      "avg_clusteringXcrowd_pct       1.4136      0.457      3.095      0.002       0.516       2.311\n",
      "avg_min_pathXcrowd_pct        -0.4179      0.134     -3.128      0.002      -0.680      -0.155\n",
      "gini_coefficientXcrowd_pct    -4.2134      0.635     -6.633      0.000      -5.462      -2.965\n",
      "total_contributors             0.0300      0.002     16.880      0.000       0.027       0.034\n",
      "project_age                   -0.0003   2.45e-05    -11.737      0.000      -0.000      -0.000\n",
      "topic_0                       19.4080      2.791      6.953      0.000      13.923      24.893\n",
      "topic_3                       12.7150      2.117      6.005      0.000       8.555      16.875\n",
      "topic_0:topic_3             -234.8984     47.098     -4.987      0.000    -327.438    -142.359\n",
      "topic_11                       2.0787      0.434      4.786      0.000       1.225       2.932\n",
      "topic_0:topic_15             178.2714     36.685      4.859      0.000     106.191     250.352\n",
      "topic_0:topic_16            -165.5237     45.370     -3.648      0.000    -254.668     -76.380\n",
      "topic_17                      64.2098      3.691     17.395      0.000      56.957      71.462\n",
      "topic_0:topic_17            -193.0708     31.764     -6.078      0.000    -255.482    -130.660\n",
      "topic_18                      33.9585      4.607      7.371      0.000      24.907      43.010\n",
      "topic_0:topic_18            -170.2800     39.779     -4.281      0.000    -248.438     -92.122\n",
      "topic_0:topic_20             -70.0044     11.184     -6.260      0.000     -91.978     -48.031\n",
      "topic_21                       2.7119      1.153      2.352      0.019       0.446       4.978\n",
      "topic_0:topic_22             106.8517     16.457      6.493      0.000      74.517     139.186\n",
      "topic_1:topic_16             -66.0026     23.325     -2.830      0.005    -111.831     -20.174\n",
      "topic_1:topic_17            -121.6771     14.850     -8.194      0.000    -150.854     -92.500\n",
      "topic_1:topic_18             126.9930     26.228      4.842      0.000      75.459     178.527\n",
      "topic_1:topic_20              19.8175      8.016      2.472      0.014       4.068      35.567\n",
      "topic_2:topic_15              66.4072     30.462      2.180      0.030       6.556     126.259\n",
      "topic_2:topic_16             -52.0777     15.046     -3.461      0.001     -81.641     -22.515\n",
      "topic_2:topic_17             -74.4907     15.814     -4.710      0.000    -105.562     -43.420\n",
      "topic_3:topic_7              -42.7965     11.008     -3.888      0.000     -64.425     -21.168\n",
      "topic_3:topic_17             -95.6392     15.461     -6.186      0.000    -126.017     -65.261\n",
      "topic_3:topic_22             -57.2029     12.955     -4.415      0.000     -82.658     -31.748\n",
      "topic_4:topic_14              58.4490     17.909      3.264      0.001      23.262      93.636\n",
      "topic_4:topic_18            -196.1252     38.745     -5.062      0.000    -272.251    -119.999\n",
      "topic_5:topic_14             -32.0185      9.930     -3.224      0.001     -51.530     -12.507\n",
      "topic_5:topic_16              52.9918     17.874      2.965      0.003      17.872      88.112\n",
      "topic_5:topic_17             -45.9331     12.086     -3.801      0.000     -69.679     -22.187\n",
      "topic_6:topic_11              21.6760      7.301      2.969      0.003       7.331      36.021\n",
      "topic_6:topic_15              24.1543      7.213      3.349      0.001       9.983      38.326\n",
      "topic_6:topic_16              36.1000     11.531      3.131      0.002      13.444      58.756\n",
      "topic_6:topic_17            -100.3132      8.430    -11.900      0.000    -116.876     -83.750\n",
      "topic_6:topic_20              11.7024      3.818      3.065      0.002       4.200      19.204\n",
      "topic_6:topic_22             -11.0457      4.433     -2.492      0.013     -19.755      -2.336\n",
      "topic_7_2                      3.7641      0.882      4.266      0.000       2.030       5.498\n",
      "topic_7:topic_17             -99.9461     10.626     -9.405      0.000    -120.825     -79.067\n",
      "topic_7:topic_20              12.5703      3.374      3.726      0.000       5.941      19.199\n",
      "topic_7:topic_22             -28.6138     13.829     -2.069      0.039     -55.785      -1.442\n",
      "topic_8:topic_18            -149.7003     19.931     -7.511      0.000    -188.861    -110.539\n",
      "topic_9:topic_18            -116.7229     25.895     -4.508      0.000    -167.602     -65.844\n",
      "topic_10:topic_15             64.1868     13.832      4.640      0.000      37.009      91.364\n",
      "topic_10:topic_17            -87.4436      8.315    -10.517      0.000    -103.781     -71.106\n",
      "topic_11:topic_17           -126.7201      9.786    -12.950      0.000    -145.947    -107.493\n",
      "topic_12_2                   -14.1661      2.232     -6.346      0.000     -18.552      -9.780\n",
      "topic_12:topic_13             44.5172     21.713      2.050      0.041       1.855      87.179\n",
      "topic_13:topic_19           -185.0834     46.728     -3.961      0.000    -276.896     -93.271\n",
      "topic_14_2                     5.6805      1.964      2.892      0.004       1.822       9.540\n",
      "topic_14:topic_16            111.0915     25.806      4.305      0.000      60.388     161.795\n",
      "topic_14:topic_17            -62.5668     14.679     -4.262      0.000     -91.408     -33.726\n",
      "topic_14:topic_18           -196.5893     24.721     -7.952      0.000    -245.162    -148.016\n",
      "topic_15_2                   -21.5411      6.046     -3.563      0.000     -33.421      -9.661\n",
      "topic_15:topic_16           -181.8862     67.150     -2.709      0.007    -313.823     -49.949\n",
      "topic_15:topic_17           -145.9825     51.384     -2.841      0.005    -246.942     -45.023\n",
      "topic_15:topic_21             72.1558      9.758      7.395      0.000      52.983      91.328\n",
      "topic_16_2                    10.3714      2.573      4.031      0.000       5.317      15.426\n",
      "topic_16:topic_17            -89.6626     13.580     -6.603      0.000    -116.344     -62.981\n",
      "topic_17:topic_19           -257.2706     53.277     -4.829      0.000    -361.950    -152.591\n",
      "topic_17:topic_20            -58.1787     10.700     -5.437      0.000     -79.202     -37.156\n",
      "topic_17:topic_21           -146.5614     22.095     -6.633      0.000    -189.973    -103.149\n",
      "topic_17:topic_23            -68.6566      9.405     -7.300      0.000     -87.137     -50.177\n",
      "topic_18_2                   -37.6688      5.433     -6.933      0.000     -48.344     -26.994\n",
      "topic_18:topic_19            401.8321     84.218      4.771      0.000     236.359     567.306\n",
      "topic_21:topic_22            -29.5906     12.186     -2.428      0.016     -53.534      -5.647\n",
      "==============================================================================\n",
      "Omnibus:                      132.692   Durbin-Watson:                   2.072\n",
      "Prob(Omnibus):                  0.000   Jarque-Bera (JB):              458.448\n",
      "Skew:                           1.071   Prob(JB):                    2.81e-100\n",
      "Kurtosis:                       6.872   Cond. No.                     1.34e+07\n",
      "==============================================================================\n",
      "\n",
      "Warnings:\n",
      "[1] Standard Errors assume that the covariance matrix of the errors is correctly specified.\n",
      "[2] The condition number is large, 1.34e+07. This might indicate that there are\n",
      "strong multicollinearity or other numerical problems.\n"
     ]
    }
   ],
   "source": [
    "y, X = dmatrices('issues_over_time ~ ' + base_features + ' + ' + ' + '.join(reg_topics),\n",
    "                 data=all_data, return_type='dataframe')\n",
    "features = select_features(X, y, .05)\n",
    "y, X = dmatrices('issues_over_time ~ ' + features,\n",
    "                 data=all_data, return_type='dataframe')\n",
    "mod = sm.OLS(y, X)\n",
    "res = mod.fit()\n",
    "yhat = res.predict(X)\n",
    "print(res.summary())"
   ]
  },
  {
   "cell_type": "code",
   "execution_count": 28,
   "metadata": {},
   "outputs": [
    {
     "data": {
      "text/plain": [
       "(-1.0, 1.0)"
      ]
     },
     "execution_count": 28,
     "metadata": {},
     "output_type": "execute_result"
    },
    {
     "data": {
      "image/png": "[encoded data removed]",
      "text/plain": [
       "<Figure size 864x360 with 1 Axes>"
      ]
     },
     "metadata": {
      "needs_background": "light"
     },
     "output_type": "display_data"
    }
   ],
   "source": [
    "plt.figure(figsize=(12, 5))\n",
    "sns.distplot(res.resid, kde=False, color='blue', bins=50)\n",
    "plt.title('OLS Residuals', fontsize=18)\n",
    "plt.xlabel('Residuals', fontsize=16)\n",
    "plt.ylabel('Count', fontsize=16)\n",
    "plt.xlim([-1.0, 1.0])"
   ]
  },
  {
   "cell_type": "code",
   "execution_count": 29,
   "metadata": {},
   "outputs": [
    {
     "data": {
      "text/plain": [
       "(-0.75, 0.75)"
      ]
     },
     "execution_count": 29,
     "metadata": {},
     "output_type": "execute_result"
    },
    {
     "data": {
      "image/png": "[encoded data removed]",
      "text/plain": [
       "<Figure size 864x360 with 1 Axes>"
      ]
     },
     "metadata": {
      "needs_background": "light"
     },
     "output_type": "display_data"
    }
   ],
   "source": [
    "plt.figure(figsize=(12, 5))\n",
    "sns.scatterplot(x=res.resid, y=all_data['issues_over_time'], color='blue')\n",
    "plt.title('Residuals vs Actuals', fontsize=18)\n",
    "plt.xlabel('Residuals', fontsize=16)\n",
    "plt.ylabel('Issues over Time', fontsize=16)\n",
    "plt.ylim([0, 2.5])\n",
    "plt.xlim([-0.75, .75])"
   ]
  },
  {
   "cell_type": "code",
   "execution_count": null,
   "metadata": {},
   "outputs": [],
   "source": []
  }
 ],
 "metadata": {
  "kernelspec": {
   "display_name": "Python 3",
   "language": "python",
   "name": "python3"
  },
  "language_info": {
   "codemirror_mode": {
    "name": "ipython",
    "version": 3
   },
   "file_extension": ".py",
   "mimetype": "text/x-python",
   "name": "python",
   "nbconvert_exporter": "python",
   "pygments_lexer": "ipython3",
   "version": "3.5.2"
  }
 },
 "nbformat": 4,
 "nbformat_minor": 2
}
