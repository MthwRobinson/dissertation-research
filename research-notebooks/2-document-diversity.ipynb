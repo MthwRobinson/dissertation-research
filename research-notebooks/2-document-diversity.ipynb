{
 "cells": [
  {
   "cell_type": "code",
   "execution_count": 1,
   "metadata": {},
   "outputs": [],
   "source": [
    "import matplotlib.pyplot as plt\n",
    "import numpy as np\n",
    "import pandas as pd\n",
    "from patsy import dmatrices\n",
    "import seaborn as sns\n",
    "import scipy.stats as stats\n",
    "import statsmodels.api as sm\n",
    "import statsmodels.stats.api as sms\n",
    "import statsmodels.stats.diagnostic as diag\n",
    "from statsmodels.stats.outliers_influence import variance_inflation_factor\n",
    "\n",
    "from research_utils.database.database import Database\n",
    "from research_utils.analytics.beta_regression import Beta\n",
    "from research_utils.analytics.lda import TopicModel"
   ]
  },
  {
   "cell_type": "code",
   "execution_count": 2,
   "metadata": {},
   "outputs": [],
   "source": [
    "database = Database()"
   ]
  },
  {
   "cell_type": "code",
   "execution_count": 3,
   "metadata": {},
   "outputs": [],
   "source": [
    "sql = \"\"\"\n",
    "SELECT a.package_id, a.package, a.organization,\n",
    "\t   a.duration_median, a.duration_mean, a.duration_variance, a.project_age,\n",
    "\t   b.crowd_pct, b.crowd, b.total as total_issues,\n",
    "\t   c.gini_coefficient, c.avg_clustering, c.avg_min_path,\n",
    "\t   d.total_contributors, e.diversity_10, e.diversity_25, e.diversity_50, e.diversity_100,\n",
    "       e.distributed, e.one_center, e.two_centers, e.multiple_centers, e.other,\n",
    "       f.avg_comments\n",
    "FROM(\n",
    "\tSELECT package_id, package, organization,\n",
    "\t\t   PERCENTILE_DISC(0.5) WITHIN GROUP (ORDER BY duration) AS duration_median,\n",
    "\t\t   AVG(duration) AS duration_mean,\n",
    "\t\t   VARIANCE(duration) AS duration_variance,\n",
    "\t\t   EXTRACT(DAY FROM NOW() - MIN(created_at)) AS project_age\n",
    "\tFROM(\n",
    "\t\tSELECT package_id, organization, package, created_at,\n",
    "\t\t\t   EXTRACT(DAY FROM closed_at - created_at) as duration\n",
    "               FROM open_source.issues\n",
    "               WHERE closed_at IS NOT NULL AND pull_request IS FALSE\n",
    "               AND created_at < '2019-01-01'\n",
    "                AND ('bug' = ANY(lower(labels::text)::text[])\n",
    "                OR 'feature' = ANY(lower(labels::text)::text[])\n",
    "            OR 'feature request' = ANY(lower(labels::text)::text[])\n",
    "            OR 'change' = ANY(lower(labels::text)::text[])\n",
    "            OR 'suggestion' = ANY(lower(labels::text)::text[])\n",
    "            OR 'enhancement' = ANY(lower(labels::text)::text[]))\n",
    "\t\t\n",
    "\t) z\n",
    "\tGROUP BY package_id, organization, package\n",
    ") a\n",
    "INNER JOIN open_source.crowd_percentage b\n",
    "ON a.package_id = b.package_id\n",
    "INNER JOIN (\n",
    "\tSELECT organization, package, gini_coefficient, avg_clustering, avg_min_path, crowd_pct\n",
    "\tFROM open_source.stakeholder_networks\n",
    ") c\n",
    "ON (a.package = c.package AND a.organization = c.organization)\n",
    "INNER JOIN (\n",
    "\tSELECT COUNT(DISTINCT user_id) as total_contributors, package_id\n",
    "\tFROM open_source.issue_contributors\n",
    "    WHERE commit_pct > 0\n",
    "\tGROUP BY package_id\n",
    ") d\n",
    "ON a.package_id = d.package_id\n",
    "INNER JOIN open_source.packages e\n",
    "ON a.package_id = e.id\n",
    "INNER JOIN (\n",
    "    SELECT AVG(num_comments) as avg_comments, package, organization\n",
    "    FROM (\n",
    "        SELECT COUNT(DISTINCT comment_id) as num_comments, issue_id, package, organization\n",
    "        FROM open_source.issue_comments\n",
    "        GROUP BY issue_id, package, organization\n",
    "    ) x\n",
    "    GROUP BY package, organization\n",
    ") f\n",
    "ON (a.package = f.package AND a.organization = f.organization)\n",
    "\"\"\"\n",
    "data = pd.read_sql(sql, database.connection)"
   ]
  },
  {
   "cell_type": "code",
   "execution_count": 4,
   "metadata": {},
   "outputs": [],
   "source": [
    "tm = TopicModel(25, load=True)"
   ]
  },
  {
   "cell_type": "code",
   "execution_count": 5,
   "metadata": {},
   "outputs": [],
   "source": [
    "df = tm.load_topic_model_results()"
   ]
  },
  {
   "cell_type": "code",
   "execution_count": 6,
   "metadata": {},
   "outputs": [
    {
     "data": {
      "text/html": [
       "<div>\n",
       "<style scoped>\n",
       "    .dataframe tbody tr th:only-of-type {\n",
       "        vertical-align: middle;\n",
       "    }\n",
       "\n",
       "    .dataframe tbody tr th {\n",
       "        vertical-align: top;\n",
       "    }\n",
       "\n",
       "    .dataframe thead th {\n",
       "        text-align: right;\n",
       "    }\n",
       "</style>\n",
       "<table border=\"1\" class=\"dataframe\">\n",
       "  <thead>\n",
       "    <tr style=\"text-align: right;\">\n",
       "      <th></th>\n",
       "      <th>issue_time</th>\n",
       "      <th>issue_id</th>\n",
       "      <th>title</th>\n",
       "      <th>body</th>\n",
       "      <th>organization</th>\n",
       "      <th>package</th>\n",
       "      <th>issue_number</th>\n",
       "      <th>all_content</th>\n",
       "      <th>topics</th>\n",
       "    </tr>\n",
       "  </thead>\n",
       "  <tbody>\n",
       "    <tr>\n",
       "      <th>0</th>\n",
       "      <td>2018-05-03 11:33:46</td>\n",
       "      <td>319883485</td>\n",
       "      <td>Help command line arguments (-h, --help) are i...</td>\n",
       "      <td>The help arguments implicitly defined by the a...</td>\n",
       "      <td>actor-framework</td>\n",
       "      <td>actor-framework</td>\n",
       "      <td>688</td>\n",
       "      <td>Help command line arguments (-h, --help) are i...</td>\n",
       "      <td>[0.009083141572773457, 0.009083141572773457, 0...</td>\n",
       "    </tr>\n",
       "    <tr>\n",
       "      <th>1</th>\n",
       "      <td>2015-02-24 20:11:09</td>\n",
       "      <td>58796753</td>\n",
       "      <td>Remove match expr</td>\n",
       "      <td>The main objective of this change is to make C...</td>\n",
       "      <td>actor-framework</td>\n",
       "      <td>actor-framework</td>\n",
       "      <td>242</td>\n",
       "      <td>Remove match expr The main objective of this c...</td>\n",
       "      <td>[0.006975634954869747, 0.006975634954869747, 0...</td>\n",
       "    </tr>\n",
       "    <tr>\n",
       "      <th>2</th>\n",
       "      <td>2014-12-18 16:09:28</td>\n",
       "      <td>52381894</td>\n",
       "      <td>Enable actor publishing at random high-level port</td>\n",
       "      <td>With this patch, using 0 as port parameter to ...</td>\n",
       "      <td>actor-framework</td>\n",
       "      <td>actor-framework</td>\n",
       "      <td>218</td>\n",
       "      <td>Enable actor publishing at random high-level p...</td>\n",
       "      <td>[0.008186651393771172, 0.008186651393771172, 0...</td>\n",
       "    </tr>\n",
       "    <tr>\n",
       "      <th>3</th>\n",
       "      <td>2018-01-08 17:03:43</td>\n",
       "      <td>286813990</td>\n",
       "      <td>The udp basp autoconnection test has a leak</td>\n",
       "      <td>According to asan, there is a leak in the unit...</td>\n",
       "      <td>actor-framework</td>\n",
       "      <td>actor-framework</td>\n",
       "      <td>647</td>\n",
       "      <td>The udp basp autoconnection test has a leak Ac...</td>\n",
       "      <td>[0.010533114895224571, 0.3219645917415619, 0.0...</td>\n",
       "    </tr>\n",
       "    <tr>\n",
       "      <th>4</th>\n",
       "      <td>2014-12-17 11:32:12</td>\n",
       "      <td>52229707</td>\n",
       "      <td>Topic/pullrequest</td>\n",
       "      <td>More tests for the jenkins PR builder.\\n</td>\n",
       "      <td>actor-framework</td>\n",
       "      <td>actor-framework</td>\n",
       "      <td>216</td>\n",
       "      <td>Topic/pullrequest More tests for the jenkins P...</td>\n",
       "      <td>[0.013114626519382, 0.013114626519382, 0.01311...</td>\n",
       "    </tr>\n",
       "  </tbody>\n",
       "</table>\n",
       "</div>"
      ],
      "text/plain": [
       "           issue_time   issue_id  \\\n",
       "0 2018-05-03 11:33:46  319883485   \n",
       "1 2015-02-24 20:11:09   58796753   \n",
       "2 2014-12-18 16:09:28   52381894   \n",
       "3 2018-01-08 17:03:43  286813990   \n",
       "4 2014-12-17 11:32:12   52229707   \n",
       "\n",
       "                                               title  \\\n",
       "0  Help command line arguments (-h, --help) are i...   \n",
       "1                                  Remove match expr   \n",
       "2  Enable actor publishing at random high-level port   \n",
       "3        The udp basp autoconnection test has a leak   \n",
       "4                                  Topic/pullrequest   \n",
       "\n",
       "                                                body     organization  \\\n",
       "0  The help arguments implicitly defined by the a...  actor-framework   \n",
       "1  The main objective of this change is to make C...  actor-framework   \n",
       "2  With this patch, using 0 as port parameter to ...  actor-framework   \n",
       "3  According to asan, there is a leak in the unit...  actor-framework   \n",
       "4           More tests for the jenkins PR builder.\\n  actor-framework   \n",
       "\n",
       "           package  issue_number  \\\n",
       "0  actor-framework           688   \n",
       "1  actor-framework           242   \n",
       "2  actor-framework           218   \n",
       "3  actor-framework           647   \n",
       "4  actor-framework           216   \n",
       "\n",
       "                                         all_content  \\\n",
       "0  Help command line arguments (-h, --help) are i...   \n",
       "1  Remove match expr The main objective of this c...   \n",
       "2  Enable actor publishing at random high-level p...   \n",
       "3  The udp basp autoconnection test has a leak Ac...   \n",
       "4  Topic/pullrequest More tests for the jenkins P...   \n",
       "\n",
       "                                              topics  \n",
       "0  [0.009083141572773457, 0.009083141572773457, 0...  \n",
       "1  [0.006975634954869747, 0.006975634954869747, 0...  \n",
       "2  [0.008186651393771172, 0.008186651393771172, 0...  \n",
       "3  [0.010533114895224571, 0.3219645917415619, 0.0...  \n",
       "4  [0.013114626519382, 0.013114626519382, 0.01311...  "
      ]
     },
     "execution_count": 6,
     "metadata": {},
     "output_type": "execute_result"
    }
   ],
   "source": [
    "df.head()"
   ]
  },
  {
   "cell_type": "code",
   "execution_count": 7,
   "metadata": {},
   "outputs": [],
   "source": [
    "for i in range(tm.num_topics):\n",
    "    df['topic_{}'.format(i)] = [x[i] if x else np.nan for x in df['topics']]\n",
    "    df['topic_{}_2'.format(i)] = df['topic_{}'.format(i)]**2"
   ]
  },
  {
   "cell_type": "code",
   "execution_count": 8,
   "metadata": {},
   "outputs": [],
   "source": [
    "all_topics = []\n",
    "reg_topics = []\n",
    "for i in range(tm.num_topics-1):    \n",
    "    all_topics.append('topic_{}'.format(i))\n",
    "    all_topics.append('topic_{}_2'.format(i))\n",
    "    for j in range(tm.num_topics-1):\n",
    "        reg_topics.append(\"topic_{}*topic_{}\".format(i, j))\n",
    "        reg_topics.append(\"topic_{}_2\".format(i, j))"
   ]
  },
  {
   "cell_type": "code",
   "execution_count": 9,
   "metadata": {},
   "outputs": [],
   "source": [
    "mean_topics = df.groupby(['organization', 'package']).mean()[all_topics]"
   ]
  },
  {
   "cell_type": "code",
   "execution_count": 10,
   "metadata": {},
   "outputs": [],
   "source": [
    "all_data = mean_topics.merge(data, on=['package', 'organization'])"
   ]
  },
  {
   "cell_type": "code",
   "execution_count": 11,
   "metadata": {},
   "outputs": [],
   "source": [
    "all_data['crowd_pct_sq'] = np.sqrt(all_data['crowd_pct'])\n",
    "all_data['crowd_pct_2'] = all_data['crowd_pct']**2\n",
    "all_data['issues_over_time'] = (all_data['total_issues'] / all_data['project_age'])*7\n",
    "all_data['avg_clusteringXcrowd_pct'] = all_data['avg_clustering'] * all_data['crowd_pct']\n",
    "all_data['avg_min_pathXcrowd_pct'] = all_data['avg_min_path'] * all_data['crowd_pct']\n",
    "all_data['gini_coefficientXcrowd_pct'] = all_data['gini_coefficient'] * all_data['crowd_pct']"
   ]
  },
  {
   "cell_type": "code",
   "execution_count": 12,
   "metadata": {},
   "outputs": [],
   "source": [
    "base_columns = ['crowd_pct', 'crowd_pct_2',\n",
    "                'avg_clustering', 'avg_min_path', 'gini_coefficient',\n",
    "                'avg_clusteringXcrowd_pct', 'avg_min_pathXcrowd_pct', 'gini_coefficientXcrowd_pct',\n",
    "                'total_contributors', 'project_age']\n",
    "base_features = ' + '.join(base_columns)"
   ]
  },
  {
   "cell_type": "code",
   "execution_count": 13,
   "metadata": {},
   "outputs": [],
   "source": [
    "def select_features(X, y, threshold, model_type='ols'):\n",
    "    cols = list(X.columns)\n",
    "    pmax = 1\n",
    "    while (len(cols)>0):\n",
    "        p= []\n",
    "        X_1 = X[cols]\n",
    "        if model_type == 'ols':\n",
    "            model = sm.OLS(y,X_1).fit()\n",
    "        elif model_type == 'poisson':\n",
    "            model = sm.GLM(y, X_1, family=sm.families.Poisson()).fit()\n",
    "        elif model_type == 'negative_binomial':\n",
    "            model = sm.GLM(y, X_1, family=sm.families.NegativeBinomial()).fit()\n",
    "        elif model_type == 'gamma':\n",
    "            model = sm.GLM(y, X_1, family=sm.families.Gamma(link=sm.families.links.log)).fit()\n",
    "        p = pd.Series(model.pvalues.values,index = cols)      \n",
    "        pmax = max(p)\n",
    "        feature_with_p_max = p.idxmax()\n",
    "        if(pmax>threshold):\n",
    "            cols.remove(feature_with_p_max)\n",
    "        else:\n",
    "            break\n",
    "    features = ' + '.join(cols[1:])\n",
    "    return features"
   ]
  },
  {
   "cell_type": "markdown",
   "metadata": {},
   "source": [
    "### Regression on Average Comments"
   ]
  },
  {
   "cell_type": "code",
   "execution_count": 14,
   "metadata": {},
   "outputs": [
    {
     "name": "stdout",
     "output_type": "stream",
     "text": [
      "                            OLS Regression Results                            \n",
      "==============================================================================\n",
      "Dep. Variable:           avg_comments   R-squared:                       0.283\n",
      "Model:                            OLS   Adj. R-squared:                  0.270\n",
      "Method:                 Least Squares   F-statistic:                     21.78\n",
      "Date:                Sat, 23 Nov 2019   Prob (F-statistic):           2.32e-34\n",
      "Time:                        14:42:46   Log-Likelihood:                -746.16\n",
      "No. Observations:                 562   AIC:                             1514.\n",
      "Df Residuals:                     551   BIC:                             1562.\n",
      "Df Model:                          10                                         \n",
      "Covariance Type:            nonrobust                                         \n",
      "==============================================================================================\n",
      "                                 coef    std err          t      P>|t|      [0.025      0.975]\n",
      "----------------------------------------------------------------------------------------------\n",
      "Intercept                      3.8278      1.006      3.804      0.000       1.851       5.805\n",
      "crowd_pct                      0.6954      2.002      0.347      0.728      -3.237       4.628\n",
      "crowd_pct_2                   -2.1977      0.711     -3.090      0.002      -3.595      -0.801\n",
      "avg_clustering                 4.7590      0.530      8.984      0.000       3.719       5.800\n",
      "avg_min_path                  -3.0389      0.505     -6.020      0.000      -4.030      -2.047\n",
      "gini_coefficient               6.0186      1.693      3.555      0.000       2.693       9.344\n",
      "avg_clusteringXcrowd_pct      -4.5124      1.103     -4.092      0.000      -6.679      -2.346\n",
      "avg_min_pathXcrowd_pct         2.5615      0.797      3.214      0.001       0.996       4.127\n",
      "gini_coefficientXcrowd_pct    -2.2297      3.157     -0.706      0.480      -8.431       3.971\n",
      "total_contributors             0.0040      0.004      0.950      0.343      -0.004       0.012\n",
      "project_age                   -0.0001    5.6e-05     -1.797      0.073      -0.000    9.35e-06\n",
      "==============================================================================\n",
      "Omnibus:                      519.190   Durbin-Watson:                   1.942\n",
      "Prob(Omnibus):                  0.000   Jarque-Bera (JB):            34020.544\n",
      "Skew:                           3.750   Prob(JB):                         0.00\n",
      "Kurtosis:                      40.371   Cond. No.                     2.00e+05\n",
      "==============================================================================\n",
      "\n",
      "Warnings:\n",
      "[1] Standard Errors assume that the covariance matrix of the errors is correctly specified.\n",
      "[2] The condition number is large,  2e+05. This might indicate that there are\n",
      "strong multicollinearity or other numerical problems.\n"
     ]
    }
   ],
   "source": [
    "y, X = dmatrices('avg_comments ~ ' + base_features,\n",
    "                 data=all_data, return_type='dataframe')\n",
    "mod = sm.OLS(y, X)\n",
    "res = mod.fit()\n",
    "yhat = res.predict(X)\n",
    "print(res.summary())"
   ]
  },
  {
   "cell_type": "code",
   "execution_count": 15,
   "metadata": {},
   "outputs": [
    {
     "name": "stdout",
     "output_type": "stream",
     "text": [
      "                            OLS Regression Results                            \n",
      "==============================================================================\n",
      "Dep. Variable:           avg_comments   R-squared:                       0.422\n",
      "Model:                            OLS   Adj. R-squared:                  0.379\n",
      "Method:                 Least Squares   F-statistic:                     9.776\n",
      "Date:                Sat, 23 Nov 2019   Prob (F-statistic):           3.30e-41\n",
      "Time:                        14:43:06   Log-Likelihood:                -685.68\n",
      "No. Observations:                 562   AIC:                             1451.\n",
      "Df Residuals:                     522   BIC:                             1625.\n",
      "Df Model:                          39                                         \n",
      "Covariance Type:            nonrobust                                         \n",
      "============================================================================================\n",
      "                               coef    std err          t      P>|t|      [0.025      0.975]\n",
      "--------------------------------------------------------------------------------------------\n",
      "Intercept                    4.2704      0.726      5.883      0.000       2.844       5.696\n",
      "crowd_pct_2                 -2.8931      0.660     -4.382      0.000      -4.190      -1.596\n",
      "avg_clustering               5.1887      0.501     10.360      0.000       4.205       6.173\n",
      "avg_min_path                -3.0799      0.298    -10.349      0.000      -3.665      -2.495\n",
      "gini_coefficient             5.2621      0.827      6.361      0.000       3.637       6.887\n",
      "avg_clusteringXcrowd_pct    -5.4568      1.058     -5.158      0.000      -7.535      -3.379\n",
      "avg_min_pathXcrowd_pct       2.8815      0.414      6.955      0.000       2.068       3.695\n",
      "topic_0                    -23.9935      8.661     -2.770      0.006     -41.008      -6.979\n",
      "topic_0_2                   42.2302     16.913      2.497      0.013       9.004      75.457\n",
      "topic_1                     -8.3907      2.324     -3.610      0.000     -12.957      -3.824\n",
      "topic_6                      1.9909      0.872      2.283      0.023       0.277       3.704\n",
      "topic_0:topic_7            101.5263     28.188      3.602      0.000      46.150     156.903\n",
      "topic_9                     25.1812      5.625      4.477      0.000      14.130      36.232\n",
      "topic_12                    36.2930     14.407      2.519      0.012       7.990      64.596\n",
      "topic_14                   -14.8155      2.879     -5.147      0.000     -20.471      -9.160\n",
      "topic_17                    -6.5060      2.210     -2.944      0.003     -10.848      -2.164\n",
      "topic_1:topic_14           101.2037     27.479      3.683      0.000      47.220     155.187\n",
      "topic_1:topic_21            59.0327     27.704      2.131      0.034       4.609     113.457\n",
      "topic_3:topic_5             42.6445     18.676      2.283      0.023       5.955      79.334\n",
      "topic_4:topic_8           -267.9329     74.245     -3.609      0.000    -413.789    -122.077\n",
      "topic_5:topic_9            -86.2129     33.643     -2.563      0.011    -152.305     -20.121\n",
      "topic_5:topic_17            48.0173     18.889      2.542      0.011      10.910      85.125\n",
      "topic_6:topic_18           -79.9163     21.214     -3.767      0.000    -121.593     -38.240\n",
      "topic_7:topic_16          -101.0414     27.360     -3.693      0.000    -154.790     -47.293\n",
      "topic_8:topic_9           -182.3976     67.264     -2.712      0.007    -314.539     -50.256\n",
      "topic_8:topic_14            77.2685     30.703      2.517      0.012      16.953     137.584\n",
      "topic_8:topic_15           223.9989     79.818      2.806      0.005      67.195     380.803\n",
      "topic_9:topic_10           -76.6699     23.027     -3.330      0.001    -121.907     -31.432\n",
      "topic_9:topic_12          -353.3146    135.483     -2.608      0.009    -619.474     -87.155\n",
      "topic_9:topic_20          -127.6201     34.204     -3.731      0.000    -194.815     -60.425\n",
      "topic_11:topic_14           70.9167     17.674      4.012      0.000      36.195     105.638\n",
      "topic_11:topic_15         -145.9642     47.023     -3.104      0.002    -238.342     -53.586\n",
      "topic_12_2                 -59.9153     26.932     -2.225      0.027    -112.823      -7.008\n",
      "topic_13:topic_19         -130.8284     52.315     -2.501      0.013    -233.603     -28.054\n",
      "topic_14:topic_16          133.6303     42.117      3.173      0.002      50.891     216.370\n",
      "topic_14:topic_17           72.6236     31.164      2.330      0.020      11.402     133.845\n",
      "topic_14:topic_20           48.9554     24.021      2.038      0.042       1.766      96.145\n",
      "topic_14:topic_22          -63.9408     22.813     -2.803      0.005    -108.758     -19.123\n",
      "topic_16:topic_21          -83.7964     39.061     -2.145      0.032    -160.533      -7.060\n",
      "topic_19:topic_20          122.6141     51.753      2.369      0.018      20.945     224.283\n",
      "==============================================================================\n",
      "Omnibus:                      520.259   Durbin-Watson:                   1.916\n",
      "Prob(Omnibus):                  0.000   Jarque-Bera (JB):            39136.260\n",
      "Skew:                           3.706   Prob(JB):                         0.00\n",
      "Kurtosis:                      43.204   Cond. No.                     1.09e+04\n",
      "==============================================================================\n",
      "\n",
      "Warnings:\n",
      "[1] Standard Errors assume that the covariance matrix of the errors is correctly specified.\n",
      "[2] The condition number is large, 1.09e+04. This might indicate that there are\n",
      "strong multicollinearity or other numerical problems.\n"
     ]
    }
   ],
   "source": [
    "y, X = dmatrices('avg_comments ~ ' + base_features + ' + ' + ' + '.join(reg_topics),\n",
    "                 data=all_data, return_type='dataframe')\n",
    "features = select_features(X, y, .05)\n",
    "y, X = dmatrices('avg_comments ~ ' + features,\n",
    "                 data=all_data, return_type='dataframe')\n",
    "mod = sm.OLS(y, X)\n",
    "res = mod.fit()\n",
    "yhat = res.predict(X)\n",
    "print(res.summary())"
   ]
  },
  {
   "cell_type": "code",
   "execution_count": 16,
   "metadata": {},
   "outputs": [
    {
     "data": {
      "text/plain": [
       "(-2.0, 2.0)"
      ]
     },
     "execution_count": 16,
     "metadata": {},
     "output_type": "execute_result"
    },
    {
     "data": {
      "image/png": "[encoded data removed]",
      "text/plain": [
       "<Figure size 864x360 with 1 Axes>"
      ]
     },
     "metadata": {
      "needs_background": "light"
     },
     "output_type": "display_data"
    }
   ],
   "source": [
    "plt.figure(figsize=(12, 5))\n",
    "sns.distplot(res.resid, kde=False, color='blue', bins=50)\n",
    "plt.title('OLS Residuals', fontsize=18)\n",
    "plt.xlabel('Residuals', fontsize=16)\n",
    "plt.ylabel('Count', fontsize=16)\n",
    "plt.xlim([-2.0, 2.0])"
   ]
  },
  {
   "cell_type": "code",
   "execution_count": 17,
   "metadata": {},
   "outputs": [
    {
     "data": {
      "text/plain": [
       "(-2.0, 2.0)"
      ]
     },
     "execution_count": 17,
     "metadata": {},
     "output_type": "execute_result"
    },
    {
     "data": {
      "image/png": "[encoded data removed]",
      "text/plain": [
       "<Figure size 864x360 with 1 Axes>"
      ]
     },
     "metadata": {
      "needs_background": "light"
     },
     "output_type": "display_data"
    }
   ],
   "source": [
    "plt.figure(figsize=(12, 5))\n",
    "sns.scatterplot(x=res.resid, y=all_data['avg_comments'], color='blue')\n",
    "plt.title('Residuals vs Actuals', fontsize=18)\n",
    "plt.xlabel('Residuals', fontsize=16)\n",
    "plt.ylabel('Comment Activity', fontsize=16)\n",
    "plt.ylim([0, 8])\n",
    "plt.xlim([-2.0, 2.0])"
   ]
  },
  {
   "cell_type": "code",
   "execution_count": 18,
   "metadata": {},
   "outputs": [
    {
     "name": "stderr",
     "output_type": "stream",
     "text": [
      "2019-11-23 14:43:07,615 [8344] WARNING  py.warnings: /home/matt/venv/phd/lib/python3.5/site-packages/ipykernel_launcher.py:1: DeprecationWarning: Calling Family(..) with a link class as argument is deprecated.\n",
      "Use an instance of a link class instead.\n",
      "  \"\"\"Entry point for launching an IPython kernel.\n",
      "\n"
     ]
    },
    {
     "name": "stdout",
     "output_type": "stream",
     "text": [
      "0.5024091203156327\n",
      "                 Generalized Linear Model Regression Results                  \n",
      "==============================================================================\n",
      "Dep. Variable:           avg_comments   No. Observations:                  562\n",
      "Model:                            GLM   Df Residuals:                      522\n",
      "Model Family:                   Gamma   Df Model:                           39\n",
      "Link Function:                    log   Scale:                        0.039572\n",
      "Method:                          IRLS   Log-Likelihood:                -575.73\n",
      "Date:                Sat, 23 Nov 2019   Deviance:                       18.892\n",
      "Time:                        14:43:07   Pearson chi2:                     20.7\n",
      "No. Iterations:                    13                                         \n",
      "Covariance Type:            nonrobust                                         \n",
      "============================================================================================\n",
      "                               coef    std err          z      P>|z|      [0.025      0.975]\n",
      "--------------------------------------------------------------------------------------------\n",
      "Intercept                    1.3778      0.170      8.116      0.000       1.045       1.711\n",
      "crowd_pct_2                 -0.7942      0.154     -5.143      0.000      -1.097      -0.492\n",
      "avg_clustering               1.3686      0.117     11.683      0.000       1.139       1.598\n",
      "avg_min_path                -0.8150      0.070    -11.708      0.000      -0.951      -0.679\n",
      "gini_coefficient             1.4950      0.193      7.726      0.000       1.116       1.874\n",
      "avg_clusteringXcrowd_pct    -1.4842      0.247     -5.999      0.000      -1.969      -0.999\n",
      "avg_min_pathXcrowd_pct       0.7948      0.097      8.202      0.000       0.605       0.985\n",
      "topic_0                     -6.0908      2.026     -3.007      0.003     -10.061      -2.120\n",
      "topic_0_2                   10.8323      3.956      2.738      0.006       3.079      18.586\n",
      "topic_1                     -1.8156      0.544     -3.340      0.001      -2.881      -0.750\n",
      "topic_6                      0.5877      0.204      2.881      0.004       0.188       0.987\n",
      "topic_0:topic_7             24.3109      6.593      3.687      0.000      11.388      37.233\n",
      "topic_9                      6.1945      1.316      4.708      0.000       3.616       8.773\n",
      "topic_12                     9.9665      3.370      2.958      0.003       3.362      16.571\n",
      "topic_14                    -3.3791      0.673     -5.019      0.000      -4.699      -2.059\n",
      "topic_17                    -1.5704      0.517     -3.038      0.002      -2.584      -0.557\n",
      "topic_1:topic_14            23.1554      6.427      3.603      0.000      10.558      35.753\n",
      "topic_1:topic_21            10.3080      6.480      1.591      0.112      -2.392      23.008\n",
      "topic_3:topic_5              9.1761      4.368      2.101      0.036       0.614      17.738\n",
      "topic_4:topic_8            -67.9647     17.366     -3.914      0.000    -102.001     -33.928\n",
      "topic_5:topic_9            -20.6545      7.869     -2.625      0.009     -36.078      -5.232\n",
      "topic_5:topic_17            11.1241      4.418      2.518      0.012       2.465      19.783\n",
      "topic_6:topic_18           -22.0240      4.962     -4.439      0.000     -31.749     -12.299\n",
      "topic_7:topic_16           -25.9683      6.399     -4.058      0.000     -38.511     -13.426\n",
      "topic_8:topic_9            -38.4138     15.733     -2.442      0.015     -69.250      -7.578\n",
      "topic_8:topic_14             9.5840      7.181      1.335      0.182      -4.491      23.659\n",
      "topic_8:topic_15            51.7915     18.669      2.774      0.006      15.200      88.383\n",
      "topic_9:topic_10           -20.6155      5.386     -3.828      0.000     -31.172     -10.059\n",
      "topic_9:topic_12           -94.5661     31.689     -2.984      0.003    -156.676     -32.456\n",
      "topic_9:topic_20           -29.9162      8.000     -3.739      0.000     -45.597     -14.236\n",
      "topic_11:topic_14           14.9576      4.134      3.618      0.000       6.855      23.060\n",
      "topic_11:topic_15          -37.9985     10.999     -3.455      0.001     -59.555     -16.442\n",
      "topic_12_2                 -16.8381      6.299     -2.673      0.008     -29.184      -4.492\n",
      "topic_13:topic_19          -34.5666     12.236     -2.825      0.005     -58.550     -10.584\n",
      "topic_14:topic_16           32.1998      9.851      3.269      0.001      12.892      51.508\n",
      "topic_14:topic_17           18.1176      7.289      2.486      0.013       3.831      32.404\n",
      "topic_14:topic_20           11.2601      5.618      2.004      0.045       0.248      22.272\n",
      "topic_14:topic_22          -15.7981      5.336     -2.961      0.003     -26.256      -5.340\n",
      "topic_16:topic_21          -21.1217      9.136     -2.312      0.021     -39.029      -3.215\n",
      "topic_19:topic_20           26.2974     12.105      2.172      0.030       2.572      50.022\n",
      "============================================================================================\n"
     ]
    }
   ],
   "source": [
    "mod = sm.GLM(y, X, family=sm.families.Gamma(link=sm.families.links.log))\n",
    "res = mod.fit()\n",
    "print(1 - (res.deviance/res.null_deviance))\n",
    "print(res.summary())"
   ]
  },
  {
   "cell_type": "code",
   "execution_count": 19,
   "metadata": {},
   "outputs": [
    {
     "data": {
      "text/plain": [
       "(-2.0, 2.0)"
      ]
     },
     "execution_count": 19,
     "metadata": {},
     "output_type": "execute_result"
    },
    {
     "data": {
      "image/png": "[encoded data removed]",
      "text/plain": [
       "<Figure size 864x360 with 1 Axes>"
      ]
     },
     "metadata": {
      "needs_background": "light"
     },
     "output_type": "display_data"
    }
   ],
   "source": [
    "plt.figure(figsize=(12, 5))\n",
    "sns.scatterplot(x=abs(yhat - all_data['duration_mean']), y=all_data['avg_comments'], color='blue')\n",
    "plt.title('Residuals vs Actuals', fontsize=18)\n",
    "plt.xlabel('Residuals', fontsize=16)\n",
    "plt.ylabel('Comment Activity', fontsize=16)\n",
    "plt.ylim([0, 8])\n",
    "plt.xlim([-2.0, 2.0])"
   ]
  },
  {
   "cell_type": "markdown",
   "metadata": {},
   "source": [
    "### Regression on Mean Requirement Duration"
   ]
  },
  {
   "cell_type": "code",
   "execution_count": 20,
   "metadata": {},
   "outputs": [
    {
     "name": "stdout",
     "output_type": "stream",
     "text": [
      "                            OLS Regression Results                            \n",
      "==============================================================================\n",
      "Dep. Variable:          duration_mean   R-squared:                       0.309\n",
      "Model:                            OLS   Adj. R-squared:                  0.296\n",
      "Method:                 Least Squares   F-statistic:                     24.60\n",
      "Date:                Sat, 23 Nov 2019   Prob (F-statistic):           1.58e-38\n",
      "Time:                        14:43:08   Log-Likelihood:                -3525.5\n",
      "No. Observations:                 562   AIC:                             7073.\n",
      "Df Residuals:                     551   BIC:                             7121.\n",
      "Df Model:                          10                                         \n",
      "Covariance Type:            nonrobust                                         \n",
      "==============================================================================================\n",
      "                                 coef    std err          t      P>|t|      [0.025      0.975]\n",
      "----------------------------------------------------------------------------------------------\n",
      "Intercept                   -328.4799    141.421     -2.323      0.021    -606.271     -50.689\n",
      "crowd_pct                     56.5239    281.328      0.201      0.841    -496.083     609.130\n",
      "crowd_pct_2                  168.8614     99.941      1.690      0.092     -27.451     365.174\n",
      "avg_clustering                12.9455     74.438      0.174      0.862    -133.272     159.163\n",
      "avg_min_path                   3.9384     70.939      0.056      0.956    -135.406     143.282\n",
      "gini_coefficient             549.3208    237.922      2.309      0.021      81.976    1016.665\n",
      "avg_clusteringXcrowd_pct     466.8936    154.970      3.013      0.003     162.489     771.298\n",
      "avg_min_pathXcrowd_pct        42.9599    111.983      0.384      0.701    -177.007     262.927\n",
      "gini_coefficientXcrowd_pct  -944.9348    443.638     -2.130      0.034   -1816.363     -73.507\n",
      "total_contributors            -1.1865      0.590     -2.010      0.045      -2.346      -0.027\n",
      "project_age                    0.0913      0.008     11.609      0.000       0.076       0.107\n",
      "==============================================================================\n",
      "Omnibus:                      307.912   Durbin-Watson:                   1.850\n",
      "Prob(Omnibus):                  0.000   Jarque-Bera (JB):             3183.717\n",
      "Skew:                           2.205   Prob(JB):                         0.00\n",
      "Kurtosis:                      13.794   Cond. No.                     2.00e+05\n",
      "==============================================================================\n",
      "\n",
      "Warnings:\n",
      "[1] Standard Errors assume that the covariance matrix of the errors is correctly specified.\n",
      "[2] The condition number is large,  2e+05. This might indicate that there are\n",
      "strong multicollinearity or other numerical problems.\n"
     ]
    }
   ],
   "source": [
    "y, X = dmatrices('duration_mean ~ ' + base_features,\n",
    "                 data=all_data, return_type='dataframe')\n",
    "mod = sm.OLS(y, X)\n",
    "res = mod.fit()\n",
    "yhat = res.predict(X)\n",
    "print(res.summary())"
   ]
  },
  {
   "cell_type": "code",
   "execution_count": 21,
   "metadata": {},
   "outputs": [
    {
     "name": "stdout",
     "output_type": "stream",
     "text": [
      "                            OLS Regression Results                            \n",
      "==============================================================================\n",
      "Dep. Variable:          duration_mean   R-squared:                       0.537\n",
      "Model:                            OLS   Adj. R-squared:                  0.467\n",
      "Method:                 Least Squares   F-statistic:                     7.743\n",
      "Date:                Sat, 23 Nov 2019   Prob (F-statistic):           1.00e-46\n",
      "Time:                        14:43:34   Log-Likelihood:                -3413.0\n",
      "No. Observations:                 562   AIC:                             6974.\n",
      "Df Residuals:                     488   BIC:                             7295.\n",
      "Df Model:                          73                                         \n",
      "Covariance Type:            nonrobust                                         \n",
      "============================================================================================\n",
      "                               coef    std err          t      P>|t|      [0.025      0.975]\n",
      "--------------------------------------------------------------------------------------------\n",
      "Intercept                   17.0970     88.810      0.193      0.847    -157.400     191.594\n",
      "crowd_pct                 -150.4933     56.995     -2.640      0.009    -262.478     -38.508\n",
      "avg_clusteringXcrowd_pct   383.3813     87.063      4.404      0.000     212.317     554.446\n",
      "avg_min_path                55.5428     28.194      1.970      0.049       0.146     110.940\n",
      "total_contributors          -1.5672      0.504     -3.108      0.002      -2.558      -0.576\n",
      "project_age                  0.0934      0.008     12.139      0.000       0.078       0.109\n",
      "topic_2                   2237.5499    721.355      3.102      0.002     820.205    3654.895\n",
      "topic_3                  -1979.4057    468.299     -4.227      0.000   -2899.537   -1059.274\n",
      "topic_4                   1221.3126    660.886      1.848      0.065     -77.221    2519.847\n",
      "topic_6                   2044.4122    338.378      6.042      0.000    1379.555    2709.269\n",
      "topic_9                  -2627.9224    824.408     -3.188      0.002   -4247.749   -1008.096\n",
      "topic_12                 -2218.9205    824.041     -2.693      0.007   -3838.027    -599.814\n",
      "topic_15                 -5854.1894   1556.366     -3.761      0.000   -8912.194   -2796.184\n",
      "topic_16                 -6666.5983   1482.978     -4.495      0.000   -9580.408   -3752.789\n",
      "topic_18                 -4780.3335   1722.158     -2.776      0.006   -8164.093   -1396.574\n",
      "topic_20                 -1161.4929    278.418     -4.172      0.000   -1708.538    -614.448\n",
      "topic_21                  1015.2215    569.197      1.784      0.075    -103.157    2133.600\n",
      "topic_23                 -3650.6034   1022.047     -3.572      0.000   -5658.759   -1642.448\n",
      "topic_0:topic_23          8447.1351   2318.909      3.643      0.000    3890.856     1.3e+04\n",
      "topic_1:topic_16          1.124e+04   4248.205      2.645      0.008    2889.410    1.96e+04\n",
      "topic_2:topic_4          -5.104e+04      2e+04     -2.556      0.011   -9.03e+04   -1.18e+04\n",
      "topic_2:topic_8          -3.597e+04   2.65e+04     -1.360      0.175    -8.8e+04     1.6e+04\n",
      "topic_2:topic_15         -2.901e+04   8955.073     -3.240      0.001   -4.66e+04   -1.14e+04\n",
      "topic_2:topic_16          1.493e+04   5607.947      2.662      0.008    3909.555    2.59e+04\n",
      "topic_3:topic_5           6740.0688   3678.601      1.832      0.068    -487.783     1.4e+04\n",
      "topic_3:topic_16          3.796e+04   1.37e+04      2.771      0.006     1.1e+04    6.49e+04\n",
      "topic_3:topic_18          2.015e+04   8193.271      2.459      0.014    4046.669    3.62e+04\n",
      "topic_4:topic_9           3.798e+04   1.52e+04      2.501      0.013    8145.556    6.78e+04\n",
      "topic_4:topic_18         -4.197e+04    1.7e+04     -2.474      0.014   -7.53e+04   -8637.437\n",
      "topic_5:topic_9            1.37e+04   4808.508      2.850      0.005    4254.585    2.32e+04\n",
      "topic_5:topic_10         -3804.3359   1562.614     -2.435      0.015   -6874.618    -734.054\n",
      "topic_5:topic_21         -6818.9962   3409.470     -2.000      0.046   -1.35e+04    -119.943\n",
      "topic_6:topic_7           9218.8396   2849.085      3.236      0.001    3620.852    1.48e+04\n",
      "topic_6:topic_8          -1.318e+04   5145.358     -2.562      0.011   -2.33e+04   -3075.140\n",
      "topic_6:topic_9          -2.479e+04   6411.995     -3.866      0.000   -3.74e+04   -1.22e+04\n",
      "topic_6:topic_11          5179.1067   2444.786      2.118      0.035     375.500    9982.713\n",
      "topic_6:topic_17         -5787.1718   2552.950     -2.267      0.024   -1.08e+04    -771.041\n",
      "topic_6:topic_21         -1.713e+04   4244.219     -4.036      0.000   -2.55e+04   -8789.620\n",
      "topic_6:topic_22         -3259.6221   1501.596     -2.171      0.030   -6210.014    -309.230\n",
      "topic_7:topic_15         -1.342e+04   5999.588     -2.236      0.026   -2.52e+04   -1629.520\n",
      "topic_7:topic_17          5698.7031   2392.186      2.382      0.018     998.448    1.04e+04\n",
      "topic_8:topic_9           3.647e+04   1.35e+04      2.698      0.007    9910.050     6.3e+04\n",
      "topic_8:topic_12         -6.185e+04   2.33e+04     -2.658      0.008   -1.08e+05   -1.61e+04\n",
      "topic_8:topic_20          8323.6563   3723.572      2.235      0.026    1007.444    1.56e+04\n",
      "topic_8:topic_21          2.399e+04    1.2e+04      1.993      0.047     334.523    4.77e+04\n",
      "topic_9:topic_13          1.842e+04   7319.179      2.517      0.012    4039.058    3.28e+04\n",
      "topic_9:topic_20          1.198e+04   4410.438      2.717      0.007    3316.906    2.06e+04\n",
      "topic_10:topic_16         1.161e+04   3966.804      2.926      0.004    3813.640    1.94e+04\n",
      "topic_10:topic_17         5661.8926   2217.388      2.553      0.011    1305.087       1e+04\n",
      "topic_10:topic_20        -6277.7522   1988.949     -3.156      0.002   -1.02e+04   -2369.792\n",
      "topic_11:topic_14        -4605.7350   2220.270     -2.074      0.039   -8968.203    -243.267\n",
      "topic_11:topic_18         1.407e+04   5734.462      2.454      0.014    2805.813    2.53e+04\n",
      "topic_11:topic_20         9317.6795   2587.245      3.601      0.000    4234.165    1.44e+04\n",
      "topic_11:topic_21        -7942.6532   3229.879     -2.459      0.014   -1.43e+04   -1596.468\n",
      "topic_12:topic_15          5.43e+04    2.8e+04      1.941      0.053    -670.773    1.09e+05\n",
      "topic_12:topic_19         7.271e+04   2.61e+04      2.781      0.006    2.13e+04    1.24e+05\n",
      "topic_12:topic_20         1.549e+04   4826.017      3.210      0.001    6007.951     2.5e+04\n",
      "topic_12:topic_22         1.733e+04   8469.755      2.046      0.041     691.535     3.4e+04\n",
      "topic_13:topic_22        -6966.3417   3023.370     -2.304      0.022   -1.29e+04   -1025.911\n",
      "topic_14:topic_18         3.185e+04   6496.272      4.904      0.000    1.91e+04    4.46e+04\n",
      "topic_14:topic_21        -1.262e+04   4802.691     -2.627      0.009   -2.21e+04   -3182.171\n",
      "topic_15_2                5419.5654   2852.126      1.900      0.058    -184.398     1.1e+04\n",
      "topic_15:topic_16         6.208e+04   1.81e+04      3.426      0.001    2.65e+04    9.77e+04\n",
      "topic_15:topic_17         3.222e+04   1.26e+04      2.553      0.011    7425.900     5.7e+04\n",
      "topic_15:topic_18         2.504e+04   6955.127      3.601      0.000    1.14e+04    3.87e+04\n",
      "topic_16_2                5279.7990   2033.863      2.596      0.010    1283.590    9276.008\n",
      "topic_16:topic_23         1.903e+04   4375.756      4.348      0.000    1.04e+04    2.76e+04\n",
      "topic_17:topic_18        -1.269e+04   4077.333     -3.113      0.002   -2.07e+04   -4680.135\n",
      "topic_17:topic_19        -4.022e+04   1.07e+04     -3.763      0.000   -6.12e+04   -1.92e+04\n",
      "topic_17:topic_21         1.346e+04   6562.613      2.051      0.041     567.642    2.64e+04\n",
      "topic_18_2                4509.1374   1993.801      2.262      0.024     591.643    8426.632\n",
      "topic_18:topic_20         1.935e+04   5432.123      3.563      0.000    8681.253       3e+04\n",
      "topic_18:topic_23         6034.3225   3555.555      1.697      0.090    -951.764     1.3e+04\n",
      "topic_23_2                4338.3080   1638.106      2.648      0.008    1119.697    7556.919\n",
      "==============================================================================\n",
      "Omnibus:                      181.258   Durbin-Watson:                   1.910\n",
      "Prob(Omnibus):                  0.000   Jarque-Bera (JB):              930.293\n",
      "Skew:                           1.337   Prob(JB):                    9.76e-203\n",
      "Kurtosis:                       8.707   Cond. No.                     1.37e+07\n",
      "==============================================================================\n",
      "\n",
      "Warnings:\n",
      "[1] Standard Errors assume that the covariance matrix of the errors is correctly specified.\n",
      "[2] The condition number is large, 1.37e+07. This might indicate that there are\n",
      "strong multicollinearity or other numerical problems.\n"
     ]
    }
   ],
   "source": [
    "y, X = dmatrices('duration_mean ~ ' + base_features + ' + ' + ' + '.join(reg_topics),\n",
    "                 data=all_data, return_type='dataframe')\n",
    "features = select_features(X, y, .10)\n",
    "y, X = dmatrices('duration_mean ~ crowd_pct + avg_clusteringXcrowd_pct - avg_clustering ' + features ,\n",
    "                 data=all_data, return_type='dataframe')\n",
    "mod = sm.OLS(y, X)\n",
    "res = mod.fit()\n",
    "yhat = res.predict(X)\n",
    "print(res.summary())"
   ]
  },
  {
   "cell_type": "code",
   "execution_count": 22,
   "metadata": {},
   "outputs": [
    {
     "data": {
      "text/plain": [
       "(-250, 250)"
      ]
     },
     "execution_count": 22,
     "metadata": {},
     "output_type": "execute_result"
    },
    {
     "data": {
      "image/png": "[encoded data removed]",
      "text/plain": [
       "<Figure size 864x360 with 1 Axes>"
      ]
     },
     "metadata": {
      "needs_background": "light"
     },
     "output_type": "display_data"
    }
   ],
   "source": [
    "plt.figure(figsize=(12, 5))\n",
    "sns.distplot(res.resid, kde=False, color='blue', bins=50)\n",
    "plt.title('OLS Residuals', fontsize=18)\n",
    "plt.xlabel('Residuals', fontsize=16)\n",
    "plt.ylabel('Count', fontsize=16)\n",
    "plt.xlim([-250, 250])"
   ]
  },
  {
   "cell_type": "code",
   "execution_count": 23,
   "metadata": {},
   "outputs": [
    {
     "data": {
      "text/plain": [
       "(-200, 200)"
      ]
     },
     "execution_count": 23,
     "metadata": {},
     "output_type": "execute_result"
    },
    {
     "data": {
      "image/png": "[encoded data removed]",
      "text/plain": [
       "<Figure size 864x360 with 1 Axes>"
      ]
     },
     "metadata": {
      "needs_background": "light"
     },
     "output_type": "display_data"
    }
   ],
   "source": [
    "plt.figure(figsize=(12, 5))\n",
    "sns.scatterplot(x=res.resid, y=all_data['duration_mean'], color='blue')\n",
    "plt.title('Residuals vs Actuals', fontsize=18)\n",
    "plt.xlabel('Residuals', fontsize=16)\n",
    "plt.ylabel('Requirement Duration', fontsize=16)\n",
    "plt.ylim([0, 400])\n",
    "plt.xlim([-200, 200])"
   ]
  },
  {
   "cell_type": "code",
   "execution_count": 24,
   "metadata": {},
   "outputs": [
    {
     "name": "stderr",
     "output_type": "stream",
     "text": [
      "2019-11-23 14:43:35,672 [8344] WARNING  py.warnings: /home/matt/venv/phd/lib/python3.5/site-packages/ipykernel_launcher.py:1: DeprecationWarning: Calling Family(..) with a link class as argument is deprecated.\n",
      "Use an instance of a link class instead.\n",
      "  \"\"\"Entry point for launching an IPython kernel.\n",
      "\n"
     ]
    },
    {
     "name": "stdout",
     "output_type": "stream",
     "text": [
      "0.502223013585881\n",
      "                 Generalized Linear Model Regression Results                  \n",
      "==============================================================================\n",
      "Dep. Variable:          duration_mean   No. Observations:                  562\n",
      "Model:                            GLM   Df Residuals:                      488\n",
      "Model Family:                   Gamma   Df Model:                           73\n",
      "Link Function:                    log   Scale:                         0.41491\n",
      "Method:                          IRLS   Log-Likelihood:                -3199.8\n",
      "Date:                Sat, 23 Nov 2019   Deviance:                       223.36\n",
      "Time:                        14:43:35   Pearson chi2:                     202.\n",
      "No. Iterations:                    38                                         \n",
      "Covariance Type:            nonrobust                                         \n",
      "============================================================================================\n",
      "                               coef    std err          z      P>|z|      [0.025      0.975]\n",
      "--------------------------------------------------------------------------------------------\n",
      "Intercept                    4.1077      0.508      8.092      0.000       3.113       5.103\n",
      "crowd_pct                   -0.5888      0.326     -1.808      0.071      -1.227       0.050\n",
      "avg_clusteringXcrowd_pct     2.0012      0.498      4.021      0.000       1.026       2.977\n",
      "avg_min_path                 0.2521      0.161      1.564      0.118      -0.064       0.568\n",
      "total_contributors          -0.0061      0.003     -2.121      0.034      -0.012      -0.000\n",
      "project_age                  0.0006    4.4e-05     13.385      0.000       0.001       0.001\n",
      "topic_2                     15.5742      4.123      3.777      0.000       7.493      23.655\n",
      "topic_3                    -12.5311      2.677     -4.682      0.000     -17.777      -7.285\n",
      "topic_4                      9.2564      3.777      2.450      0.014       1.853      16.660\n",
      "topic_6                      8.3595      1.934      4.322      0.000       4.569      12.150\n",
      "topic_9                    -10.9509      4.712     -2.324      0.020     -20.187      -1.715\n",
      "topic_12                   -13.5888      4.710     -2.885      0.004     -22.820      -4.357\n",
      "topic_15                   -33.5946      8.896     -3.776      0.000     -51.030     -16.159\n",
      "topic_16                   -38.6729      8.476     -4.562      0.000     -55.286     -22.059\n",
      "topic_18                   -23.5111      9.843     -2.388      0.017     -42.804      -4.218\n",
      "topic_20                    -5.7864      1.591     -3.636      0.000      -8.905      -2.667\n",
      "topic_21                     1.3323      3.253      0.410      0.682      -5.044       7.709\n",
      "topic_23                   -11.1688      5.842     -1.912      0.056     -22.619       0.281\n",
      "topic_0:topic_23            37.7273     13.254      2.846      0.004      11.749      63.705\n",
      "topic_1:topic_16            54.1511     24.282      2.230      0.026       6.560     101.743\n",
      "topic_2:topic_4           -399.3654    114.164     -3.498      0.000    -623.123    -175.608\n",
      "topic_2:topic_8           -160.2163    151.209     -1.060      0.289    -456.581     136.148\n",
      "topic_2:topic_15          -203.8629     51.185     -3.983      0.000    -304.184    -103.541\n",
      "topic_2:topic_16            69.4412     32.054      2.166      0.030       6.617     132.266\n",
      "topic_3:topic_5             34.1672     21.026      1.625      0.104      -7.043      75.378\n",
      "topic_3:topic_16           255.9203     78.301      3.268      0.001     102.453     409.388\n",
      "topic_3:topic_18           116.9228     46.831      2.497      0.013      25.136     208.710\n",
      "topic_4:topic_9            104.2072     86.792      1.201      0.230     -65.902     274.316\n",
      "topic_4:topic_18          -133.8213     96.972     -1.380      0.168    -323.883      56.241\n",
      "topic_5:topic_9             65.7473     27.484      2.392      0.017      11.879     119.616\n",
      "topic_5:topic_10           -17.8855      8.932     -2.002      0.045     -35.391      -0.380\n",
      "topic_5:topic_21           -27.8566     19.488     -1.429      0.153     -66.052      10.339\n",
      "topic_6:topic_7             22.0009     16.285      1.351      0.177      -9.917      53.918\n",
      "topic_6:topic_8            -75.8007     29.410     -2.577      0.010    -133.443     -18.159\n",
      "topic_6:topic_9            -62.8345     36.650     -1.714      0.086    -134.666       8.997\n",
      "topic_6:topic_11             5.1242     13.974      0.367      0.714     -22.264      32.513\n",
      "topic_6:topic_17           -28.0102     14.592     -1.920      0.055     -56.610       0.590\n",
      "topic_6:topic_21           -62.8481     24.259     -2.591      0.010    -110.395     -15.301\n",
      "topic_6:topic_22           -10.3945      8.583     -1.211      0.226     -27.217       6.427\n",
      "topic_7:topic_15           -66.0454     34.292     -1.926      0.054    -133.257       1.166\n",
      "topic_7:topic_17            25.7762     13.673      1.885      0.059      -1.023      52.575\n",
      "topic_8:topic_9            119.1414     77.260      1.542      0.123     -32.286     270.569\n",
      "topic_8:topic_12          -354.4462    132.994     -2.665      0.008    -615.109     -93.784\n",
      "topic_8:topic_20            81.7404     21.283      3.841      0.000      40.026     123.455\n",
      "topic_8:topic_21           134.6942     68.822      1.957      0.050      -0.195     269.583\n",
      "topic_9:topic_13            77.4636     41.835      1.852      0.064      -4.531     159.459\n",
      "topic_9:topic_20            56.4849     25.209      2.241      0.025       7.076     105.894\n",
      "topic_10:topic_16           25.3111     22.673      1.116      0.264     -19.128      69.750\n",
      "topic_10:topic_17           39.4855     12.674      3.115      0.002      14.645      64.326\n",
      "topic_10:topic_20          -32.1700     11.368     -2.830      0.005     -54.452      -9.888\n",
      "topic_11:topic_14          -22.8891     12.691     -1.804      0.071     -47.762       1.984\n",
      "topic_11:topic_18           78.3549     32.777      2.391      0.017      14.113     142.597\n",
      "topic_11:topic_20           21.0134     14.788      1.421      0.155      -7.971      49.998\n",
      "topic_11:topic_21          -22.8979     18.461     -1.240      0.215     -59.081      13.286\n",
      "topic_12:topic_15          322.0710    159.914      2.014      0.044       8.646     635.496\n",
      "topic_12:topic_19          501.3302    149.460      3.354      0.001     208.393     794.267\n",
      "topic_12:topic_20           77.1741     27.585      2.798      0.005      23.109     131.239\n",
      "topic_12:topic_22           39.6447     48.411      0.819      0.413     -55.240     134.529\n",
      "topic_13:topic_22          -24.9695     17.281     -1.445      0.148     -58.840       8.901\n",
      "topic_14:topic_18          165.9183     37.131      4.468      0.000      93.142     238.694\n",
      "topic_14:topic_21          -71.3456     27.451     -2.599      0.009    -125.149     -17.542\n",
      "topic_15_2                  32.5754     16.302      1.998      0.046       0.624      64.527\n",
      "topic_15:topic_16          376.1168    103.586      3.631      0.000     173.092     579.142\n",
      "topic_15:topic_17          196.7047     72.138      2.727      0.006      55.318     338.092\n",
      "topic_15:topic_18          105.3383     39.754      2.650      0.008      27.422     183.255\n",
      "topic_16_2                  33.3648     11.625      2.870      0.004      10.580      56.150\n",
      "topic_16:topic_23           76.2358     25.011      3.048      0.002      27.215     125.256\n",
      "topic_17:topic_18          -86.1587     23.305     -3.697      0.000    -131.836     -40.481\n",
      "topic_17:topic_19         -324.8924     61.092     -5.318      0.000    -444.630    -205.155\n",
      "topic_17:topic_21          113.4723     37.511      3.025      0.002      39.953     186.992\n",
      "topic_18_2                  21.7211     11.396      1.906      0.057      -0.615      44.057\n",
      "topic_18:topic_20           78.4699     31.049      2.527      0.011      17.615     139.325\n",
      "topic_18:topic_23           44.9042     20.323      2.210      0.027       5.072      84.736\n",
      "topic_23_2                   8.3925      9.363      0.896      0.370      -9.959      26.744\n",
      "============================================================================================\n"
     ]
    }
   ],
   "source": [
    "mod = sm.GLM(y, X, family=sm.families.Gamma(link=sm.families.links.log))\n",
    "res = mod.fit()\n",
    "print(1 - (res.deviance/res.null_deviance))\n",
    "print(res.summary())\n",
    "yhat = res.predict(X)"
   ]
  },
  {
   "cell_type": "code",
   "execution_count": 25,
   "metadata": {},
   "outputs": [
    {
     "data": {
      "text/plain": [
       "(0, 200)"
      ]
     },
     "execution_count": 25,
     "metadata": {},
     "output_type": "execute_result"
    },
    {
     "data": {
      "image/png": "[encoded data removed]",
      "text/plain": [
       "<Figure size 864x360 with 1 Axes>"
      ]
     },
     "metadata": {
      "needs_background": "light"
     },
     "output_type": "display_data"
    }
   ],
   "source": [
    "plt.figure(figsize=(12, 5))\n",
    "sns.scatterplot(x=abs(yhat - all_data['duration_mean']), y=all_data['duration_mean'], color='blue')\n",
    "plt.title('Residuals vs Actuals', fontsize=18)\n",
    "plt.xlabel('Residuals', fontsize=16)\n",
    "plt.ylabel('Requirement Duration', fontsize=16)\n",
    "plt.ylim([0, 400])\n",
    "plt.xlim([0, 200])"
   ]
  },
  {
   "cell_type": "markdown",
   "metadata": {},
   "source": [
    "### Regression on Issues Submitted Over Time"
   ]
  },
  {
   "cell_type": "code",
   "execution_count": 26,
   "metadata": {},
   "outputs": [
    {
     "name": "stdout",
     "output_type": "stream",
     "text": [
      "                            OLS Regression Results                            \n",
      "==============================================================================\n",
      "Dep. Variable:       issues_over_time   R-squared:                       0.454\n",
      "Model:                            OLS   Adj. R-squared:                  0.444\n",
      "Method:                 Least Squares   F-statistic:                     45.75\n",
      "Date:                Sat, 23 Nov 2019   Prob (F-statistic):           5.10e-66\n",
      "Time:                        14:43:36   Log-Likelihood:                -433.10\n",
      "No. Observations:                 562   AIC:                             888.2\n",
      "Df Residuals:                     551   BIC:                             935.8\n",
      "Df Model:                          10                                         \n",
      "Covariance Type:            nonrobust                                         \n",
      "==============================================================================================\n",
      "                                 coef    std err          t      P>|t|      [0.025      0.975]\n",
      "----------------------------------------------------------------------------------------------\n",
      "Intercept                     -0.6443      0.577     -1.118      0.264      -1.777       0.488\n",
      "crowd_pct                     -0.4060      1.147     -0.354      0.723      -2.659       1.847\n",
      "crowd_pct_2                    2.6655      0.407      6.542      0.000       1.865       3.466\n",
      "avg_clustering                -0.7199      0.303     -2.372      0.018      -1.316      -0.124\n",
      "avg_min_path                   0.3999      0.289      1.383      0.167      -0.168       0.968\n",
      "gini_coefficient               3.1416      0.970      3.239      0.001       1.236       5.047\n",
      "avg_clusteringXcrowd_pct       1.0834      0.632      1.715      0.087      -0.158       2.324\n",
      "avg_min_pathXcrowd_pct        -0.6930      0.457     -1.518      0.130      -1.590       0.204\n",
      "gini_coefficientXcrowd_pct    -2.9797      1.809     -1.648      0.100      -6.532       0.573\n",
      "total_contributors             0.0320      0.002     13.296      0.000       0.027       0.037\n",
      "project_age                   -0.0004   3.21e-05    -12.147      0.000      -0.000      -0.000\n",
      "==============================================================================\n",
      "Omnibus:                      542.893   Durbin-Watson:                   2.056\n",
      "Prob(Omnibus):                  0.000   Jarque-Bera (JB):            24283.987\n",
      "Skew:                           4.220   Prob(JB):                         0.00\n",
      "Kurtosis:                      34.077   Cond. No.                     2.00e+05\n",
      "==============================================================================\n",
      "\n",
      "Warnings:\n",
      "[1] Standard Errors assume that the covariance matrix of the errors is correctly specified.\n",
      "[2] The condition number is large,  2e+05. This might indicate that there are\n",
      "strong multicollinearity or other numerical problems.\n"
     ]
    }
   ],
   "source": [
    "y, X = dmatrices('issues_over_time ~ ' + base_features,\n",
    "                 data=all_data, return_type='dataframe')\n",
    "mod = sm.OLS(y, X)\n",
    "res = mod.fit()\n",
    "yhat = res.predict(X)\n",
    "print(res.summary())"
   ]
  },
  {
   "cell_type": "code",
   "execution_count": 27,
   "metadata": {},
   "outputs": [
    {
     "name": "stdout",
     "output_type": "stream",
     "text": [
      "                            OLS Regression Results                            \n",
      "==============================================================================\n",
      "Dep. Variable:       issues_over_time   R-squared:                       0.775\n",
      "Model:                            OLS   Adj. R-squared:                  0.743\n",
      "Method:                 Least Squares   F-statistic:                     23.83\n",
      "Date:                Sat, 23 Nov 2019   Prob (F-statistic):          3.31e-119\n",
      "Time:                        14:43:53   Log-Likelihood:                -183.29\n",
      "No. Observations:                 562   AIC:                             510.6\n",
      "Df Residuals:                     490   BIC:                             822.4\n",
      "Df Model:                          71                                         \n",
      "Covariance Type:            nonrobust                                         \n",
      "==============================================================================================\n",
      "                                 coef    std err          t      P>|t|      [0.025      0.975]\n",
      "----------------------------------------------------------------------------------------------\n",
      "Intercept                     -1.3878      0.324     -4.287      0.000      -2.024      -0.752\n",
      "crowd_pct_2                    2.2016      0.286      7.699      0.000       1.640       2.763\n",
      "avg_clustering                -0.6652      0.213     -3.130      0.002      -1.083      -0.248\n",
      "gini_coefficient               3.2785      0.517      6.337      0.000       2.262       4.295\n",
      "avg_clusteringXcrowd_pct       1.4137      0.457      3.095      0.002       0.516       2.311\n",
      "avg_min_pathXcrowd_pct        -0.4179      0.134     -3.128      0.002      -0.680      -0.155\n",
      "gini_coefficientXcrowd_pct    -4.2134      0.635     -6.633      0.000      -5.462      -2.965\n",
      "total_contributors             0.0300      0.002     16.880      0.000       0.027       0.034\n",
      "project_age                   -0.0003   2.45e-05    -11.738      0.000      -0.000      -0.000\n",
      "topic_0                       19.4082      2.791      6.953      0.000      13.923      24.893\n",
      "topic_3                       12.7152      2.117      6.005      0.000       8.555      16.875\n",
      "topic_0:topic_3             -234.8989     47.099     -4.987      0.000    -327.440    -142.358\n",
      "topic_11                       2.0787      0.434      4.786      0.000       1.225       2.932\n",
      "topic_0:topic_15             178.2699     36.686      4.859      0.000     106.189     250.351\n",
      "topic_0:topic_16            -165.5349     45.371     -3.649      0.000    -254.680     -76.390\n",
      "topic_17                      64.2100      3.691     17.395      0.000      56.957      71.463\n",
      "topic_0:topic_17            -193.0727     31.764     -6.078      0.000    -255.484    -130.661\n",
      "topic_18                      33.9577      4.607      7.371      0.000      24.906      43.009\n",
      "topic_0:topic_18            -170.2759     39.779     -4.281      0.000    -248.435     -92.117\n",
      "topic_0:topic_20             -70.0042     11.184     -6.259      0.000     -91.978     -48.030\n",
      "topic_21                       2.7121      1.153      2.352      0.019       0.446       4.978\n",
      "topic_0:topic_22             106.8522     16.457      6.493      0.000      74.517     139.187\n",
      "topic_1:topic_16             -66.0101     23.325     -2.830      0.005    -111.839     -20.181\n",
      "topic_1:topic_17            -121.6781     14.850     -8.194      0.000    -150.856     -92.500\n",
      "topic_1:topic_18             127.0005     26.229      4.842      0.000      75.466     178.535\n",
      "topic_1:topic_20              19.8184      8.016      2.472      0.014       4.069      35.568\n",
      "topic_2:topic_15              66.4060     30.462      2.180      0.030       6.554     126.258\n",
      "topic_2:topic_16             -52.0810     15.046     -3.461      0.001     -81.644     -22.518\n",
      "topic_2:topic_17             -74.4899     15.814     -4.710      0.000    -105.561     -43.418\n",
      "topic_3:topic_7              -42.7969     11.008     -3.888      0.000     -64.425     -21.168\n",
      "topic_3:topic_17             -95.6405     15.461     -6.186      0.000    -126.019     -65.262\n",
      "topic_3:topic_22             -57.2039     12.956     -4.415      0.000     -82.659     -31.749\n",
      "topic_4:topic_14              58.4479     17.909      3.264      0.001      23.260      93.636\n",
      "topic_4:topic_18            -196.1218     38.745     -5.062      0.000    -272.248    -119.995\n",
      "topic_5:topic_14             -32.0187      9.931     -3.224      0.001     -51.530     -12.507\n",
      "topic_5:topic_16              52.9935     17.875      2.965      0.003      17.873      88.114\n",
      "topic_5:topic_17             -45.9333     12.086     -3.801      0.000     -69.680     -22.187\n",
      "topic_6:topic_11              21.6766      7.301      2.969      0.003       7.332      36.021\n",
      "topic_6:topic_15              24.1546      7.213      3.349      0.001       9.983      38.326\n",
      "topic_6:topic_16              36.1013     11.531      3.131      0.002      13.445      58.757\n",
      "topic_6:topic_17            -100.3135      8.430    -11.900      0.000    -116.877     -83.750\n",
      "topic_6:topic_20              11.7025      3.818      3.065      0.002       4.201      19.204\n",
      "topic_6:topic_22             -11.0458      4.433     -2.492      0.013     -19.756      -2.336\n",
      "topic_7_2                      3.7641      0.882      4.266      0.000       2.030       5.498\n",
      "topic_7:topic_17             -99.9465     10.627     -9.405      0.000    -120.826     -79.067\n",
      "topic_7:topic_20              12.5702      3.374      3.726      0.000       5.941      19.199\n",
      "topic_7:topic_22             -28.6123     13.829     -2.069      0.039     -55.784      -1.441\n",
      "topic_8:topic_18            -149.7002     19.931     -7.511      0.000    -188.862    -110.539\n",
      "topic_9:topic_18            -116.7255     25.895     -4.508      0.000    -167.605     -65.846\n",
      "topic_10:topic_15             64.1873     13.832      4.640      0.000      37.010      91.365\n",
      "topic_10:topic_17            -87.4439      8.315    -10.516      0.000    -103.781     -71.107\n",
      "topic_11:topic_17           -126.7204      9.786    -12.949      0.000    -145.948    -107.493\n",
      "topic_12_2                   -14.1660      2.232     -6.346      0.000     -18.552      -9.780\n",
      "topic_12:topic_13             44.5181     21.713      2.050      0.041       1.856      87.180\n",
      "topic_13:topic_19           -185.0829     46.729     -3.961      0.000    -276.896     -93.270\n",
      "topic_14_2                     5.6797      1.964      2.892      0.004       1.821       9.539\n",
      "topic_14:topic_16            111.1171     25.806      4.306      0.000      60.413     161.821\n",
      "topic_14:topic_17            -62.5666     14.679     -4.262      0.000     -91.408     -33.725\n",
      "topic_14:topic_18           -196.5887     24.722     -7.952      0.000    -245.162    -148.015\n",
      "topic_15_2                   -21.5409      6.047     -3.563      0.000     -33.421      -9.661\n",
      "topic_15:topic_16           -181.8965     67.150     -2.709      0.007    -313.835     -49.958\n",
      "topic_15:topic_17           -145.9785     51.384     -2.841      0.005    -246.939     -45.018\n",
      "topic_15:topic_21             72.1553      9.758      7.395      0.000      52.983      91.328\n",
      "topic_16_2                    10.3714      2.573      4.031      0.000       5.317      15.426\n",
      "topic_16:topic_17            -89.6654     13.580     -6.603      0.000    -116.347     -62.983\n",
      "topic_17:topic_19           -257.2651     53.277     -4.829      0.000    -361.945    -152.585\n",
      "topic_17:topic_20            -58.1789     10.700     -5.437      0.000     -79.202     -37.156\n",
      "topic_17:topic_21           -146.5650     22.095     -6.633      0.000    -189.977    -103.152\n",
      "topic_17:topic_23            -68.6564      9.406     -7.300      0.000     -87.137     -50.176\n",
      "topic_18_2                   -37.6680      5.433     -6.933      0.000     -48.343     -26.993\n",
      "topic_18:topic_19            401.8248     84.219      4.771      0.000     236.350     567.300\n",
      "topic_21:topic_22            -29.5912     12.186     -2.428      0.016     -53.535      -5.647\n",
      "==============================================================================\n",
      "Omnibus:                      132.685   Durbin-Watson:                   2.072\n",
      "Prob(Omnibus):                  0.000   Jarque-Bera (JB):              458.402\n",
      "Skew:                           1.071   Prob(JB):                    2.88e-100\n",
      "Kurtosis:                       6.872   Cond. No.                     1.34e+07\n",
      "==============================================================================\n",
      "\n",
      "Warnings:\n",
      "[1] Standard Errors assume that the covariance matrix of the errors is correctly specified.\n",
      "[2] The condition number is large, 1.34e+07. This might indicate that there are\n",
      "strong multicollinearity or other numerical problems.\n"
     ]
    }
   ],
   "source": [
    "y, X = dmatrices('issues_over_time ~ ' + base_features + ' + ' + ' + '.join(reg_topics),\n",
    "                 data=all_data, return_type='dataframe')\n",
    "features = select_features(X, y, .05)\n",
    "y, X = dmatrices('issues_over_time ~ ' + features,\n",
    "                 data=all_data, return_type='dataframe')\n",
    "mod = sm.OLS(y, X)\n",
    "res = mod.fit()\n",
    "yhat = res.predict(X)\n",
    "print(res.summary())"
   ]
  },
  {
   "cell_type": "code",
   "execution_count": 28,
   "metadata": {},
   "outputs": [
    {
     "data": {
      "text/plain": [
       "(-1.0, 1.0)"
      ]
     },
     "execution_count": 28,
     "metadata": {},
     "output_type": "execute_result"
    },
    {
     "data": {
      "image/png": "[encoded data removed]",
      "text/plain": [
       "<Figure size 864x360 with 1 Axes>"
      ]
     },
     "metadata": {
      "needs_background": "light"
     },
     "output_type": "display_data"
    }
   ],
   "source": [
    "plt.figure(figsize=(12, 5))\n",
    "sns.distplot(res.resid, kde=False, color='blue', bins=50)\n",
    "plt.title('OLS Residuals', fontsize=18)\n",
    "plt.xlabel('Residuals', fontsize=16)\n",
    "plt.ylabel('Count', fontsize=16)\n",
    "plt.xlim([-1.0, 1.0])"
   ]
  },
  {
   "cell_type": "code",
   "execution_count": 29,
   "metadata": {},
   "outputs": [
    {
     "data": {
      "text/plain": [
       "(-0.75, 0.75)"
      ]
     },
     "execution_count": 29,
     "metadata": {},
     "output_type": "execute_result"
    },
    {
     "data": {
      "image/png": "[encoded data removed]",
      "text/plain": [
       "<Figure size 864x360 with 1 Axes>"
      ]
     },
     "metadata": {
      "needs_background": "light"
     },
     "output_type": "display_data"
    }
   ],
   "source": [
    "plt.figure(figsize=(12, 5))\n",
    "sns.scatterplot(x=res.resid, y=all_data['issues_over_time'], color='blue')\n",
    "plt.title('Residuals vs Actuals', fontsize=18)\n",
    "plt.xlabel('Residuals', fontsize=16)\n",
    "plt.ylabel('Issues over Time', fontsize=16)\n",
    "plt.ylim([0, 2.5])\n",
    "plt.xlim([-0.75, .75])"
   ]
  },
  {
   "cell_type": "code",
   "execution_count": null,
   "metadata": {},
   "outputs": [],
   "source": []
  }
 ],
 "metadata": {
  "kernelspec": {
   "display_name": "Python 3",
   "language": "python",
   "name": "python3"
  },
  "language_info": {
   "codemirror_mode": {
    "name": "ipython",
    "version": 3
   },
   "file_extension": ".py",
   "mimetype": "text/x-python",
   "name": "python",
   "nbconvert_exporter": "python",
   "pygments_lexer": "ipython3",
   "version": "3.5.2"
  }
 },
 "nbformat": 4,
 "nbformat_minor": 2
}
