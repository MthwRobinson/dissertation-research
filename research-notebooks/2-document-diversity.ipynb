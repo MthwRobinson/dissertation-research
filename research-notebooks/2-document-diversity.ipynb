{
 "cells": [
  {
   "cell_type": "code",
   "execution_count": 1,
   "metadata": {},
   "outputs": [],
   "source": [
    "import matplotlib.pyplot as plt\n",
    "import numpy as np\n",
    "import pandas as pd\n",
    "from patsy import dmatrices\n",
    "import seaborn as sns\n",
    "import scipy.stats as stats\n",
    "import statsmodels.api as sm\n",
    "import statsmodels.stats.api as sms\n",
    "import statsmodels.stats.diagnostic as diag\n",
    "from statsmodels.stats.outliers_influence import variance_inflation_factor\n",
    "\n",
    "from research_utils.database.database import Database\n",
    "from research_utils.analytics.beta_regression import Beta\n",
    "from research_utils.analytics.lda import TopicModel"
   ]
  },
  {
   "cell_type": "code",
   "execution_count": 2,
   "metadata": {},
   "outputs": [],
   "source": [
    "database = Database()"
   ]
  },
  {
   "cell_type": "code",
   "execution_count": 3,
   "metadata": {},
   "outputs": [],
   "source": [
    "sql = \"\"\"\n",
    "SELECT a.package_id, a.package, a.organization,\n",
    "\t   a.duration_median, a.duration_mean, a.duration_variance, a.project_age,\n",
    "\t   b.crowd_pct, b.crowd, b.total as total_issues,\n",
    "\t   c.gini_coefficient, c.avg_clustering, c.avg_min_path,\n",
    "\t   d.total_contributors, e.diversity_10, e.diversity_25, e.diversity_50, e.diversity_100,\n",
    "       e.distributed, e.one_center, e.two_centers, e.multiple_centers, e.other,\n",
    "       f.avg_comments\n",
    "FROM(\n",
    "\tSELECT package_id, package, organization,\n",
    "\t\t   PERCENTILE_DISC(0.5) WITHIN GROUP (ORDER BY duration) AS duration_median,\n",
    "\t\t   AVG(duration) AS duration_mean,\n",
    "\t\t   VARIANCE(duration) AS duration_variance,\n",
    "\t\t   EXTRACT(DAY FROM NOW() - MIN(created_at)) AS project_age\n",
    "\tFROM(\n",
    "\t\tSELECT package_id, organization, package, created_at,\n",
    "\t\t\t   EXTRACT(DAY FROM closed_at - created_at) as duration\n",
    "               FROM open_source.issues\n",
    "               WHERE closed_at IS NOT NULL AND pull_request IS FALSE\n",
    "               AND created_at < '2019-01-01'\n",
    "                AND ('bug' = ANY(lower(labels::text)::text[])\n",
    "                OR 'feature' = ANY(lower(labels::text)::text[])\n",
    "            OR 'feature request' = ANY(lower(labels::text)::text[])\n",
    "            OR 'change' = ANY(lower(labels::text)::text[])\n",
    "            OR 'suggestion' = ANY(lower(labels::text)::text[])\n",
    "            OR 'enhancement' = ANY(lower(labels::text)::text[]))\n",
    "\t\t\n",
    "\t) z\n",
    "\tGROUP BY package_id, organization, package\n",
    ") a\n",
    "INNER JOIN open_source.crowd_percentage b\n",
    "ON a.package_id = b.package_id\n",
    "INNER JOIN (\n",
    "\tSELECT organization, package, gini_coefficient, avg_clustering, avg_min_path, crowd_pct\n",
    "\tFROM open_source.stakeholder_networks\n",
    ") c\n",
    "ON (a.package = c.package AND a.organization = c.organization)\n",
    "INNER JOIN (\n",
    "\tSELECT COUNT(DISTINCT user_id) as total_contributors, package_id\n",
    "\tFROM open_source.issue_contributors\n",
    "    WHERE commit_pct > 0\n",
    "\tGROUP BY package_id\n",
    ") d\n",
    "ON a.package_id = d.package_id\n",
    "INNER JOIN open_source.packages e\n",
    "ON a.package_id = e.id\n",
    "INNER JOIN (\n",
    "    SELECT AVG(num_comments) as avg_comments, package, organization\n",
    "    FROM (\n",
    "        SELECT COUNT(DISTINCT comment_id) as num_comments, issue_id, package, organization\n",
    "        FROM open_source.issue_comments\n",
    "        GROUP BY issue_id, package, organization\n",
    "    ) x\n",
    "    GROUP BY package, organization\n",
    ") f\n",
    "ON (a.package = f.package AND a.organization = f.organization)\n",
    "\"\"\"\n",
    "data = pd.read_sql(sql, database.connection)"
   ]
  },
  {
   "cell_type": "code",
   "execution_count": 4,
   "metadata": {},
   "outputs": [],
   "source": [
    "tm = TopicModel(25, load=True)"
   ]
  },
  {
   "cell_type": "code",
   "execution_count": 5,
   "metadata": {},
   "outputs": [],
   "source": [
    "df = tm.load_topic_model_results()"
   ]
  },
  {
   "cell_type": "code",
   "execution_count": 6,
   "metadata": {},
   "outputs": [
    {
     "data": {
      "text/html": [
       "<div>\n",
       "<style scoped>\n",
       "    .dataframe tbody tr th:only-of-type {\n",
       "        vertical-align: middle;\n",
       "    }\n",
       "\n",
       "    .dataframe tbody tr th {\n",
       "        vertical-align: top;\n",
       "    }\n",
       "\n",
       "    .dataframe thead th {\n",
       "        text-align: right;\n",
       "    }\n",
       "</style>\n",
       "<table border=\"1\" class=\"dataframe\">\n",
       "  <thead>\n",
       "    <tr style=\"text-align: right;\">\n",
       "      <th></th>\n",
       "      <th>issue_time</th>\n",
       "      <th>issue_id</th>\n",
       "      <th>title</th>\n",
       "      <th>body</th>\n",
       "      <th>organization</th>\n",
       "      <th>package</th>\n",
       "      <th>issue_number</th>\n",
       "      <th>all_content</th>\n",
       "      <th>topics</th>\n",
       "    </tr>\n",
       "  </thead>\n",
       "  <tbody>\n",
       "    <tr>\n",
       "      <th>0</th>\n",
       "      <td>2018-05-03 11:33:46</td>\n",
       "      <td>319883485</td>\n",
       "      <td>Help command line arguments (-h, --help) are i...</td>\n",
       "      <td>The help arguments implicitly defined by the a...</td>\n",
       "      <td>actor-framework</td>\n",
       "      <td>actor-framework</td>\n",
       "      <td>688</td>\n",
       "      <td>Help command line arguments (-h, --help) are i...</td>\n",
       "      <td>[0.009083141572773457, 0.009083141572773457, 0...</td>\n",
       "    </tr>\n",
       "    <tr>\n",
       "      <th>1</th>\n",
       "      <td>2015-02-24 20:11:09</td>\n",
       "      <td>58796753</td>\n",
       "      <td>Remove match expr</td>\n",
       "      <td>The main objective of this change is to make C...</td>\n",
       "      <td>actor-framework</td>\n",
       "      <td>actor-framework</td>\n",
       "      <td>242</td>\n",
       "      <td>Remove match expr The main objective of this c...</td>\n",
       "      <td>[0.006975634954869747, 0.006975634954869747, 0...</td>\n",
       "    </tr>\n",
       "    <tr>\n",
       "      <th>2</th>\n",
       "      <td>2014-12-18 16:09:28</td>\n",
       "      <td>52381894</td>\n",
       "      <td>Enable actor publishing at random high-level port</td>\n",
       "      <td>With this patch, using 0 as port parameter to ...</td>\n",
       "      <td>actor-framework</td>\n",
       "      <td>actor-framework</td>\n",
       "      <td>218</td>\n",
       "      <td>Enable actor publishing at random high-level p...</td>\n",
       "      <td>[0.008186651393771172, 0.008186651393771172, 0...</td>\n",
       "    </tr>\n",
       "    <tr>\n",
       "      <th>3</th>\n",
       "      <td>2018-01-08 17:03:43</td>\n",
       "      <td>286813990</td>\n",
       "      <td>The udp basp autoconnection test has a leak</td>\n",
       "      <td>According to asan, there is a leak in the unit...</td>\n",
       "      <td>actor-framework</td>\n",
       "      <td>actor-framework</td>\n",
       "      <td>647</td>\n",
       "      <td>The udp basp autoconnection test has a leak Ac...</td>\n",
       "      <td>[0.010533114895224571, 0.3219645917415619, 0.0...</td>\n",
       "    </tr>\n",
       "    <tr>\n",
       "      <th>4</th>\n",
       "      <td>2014-12-17 11:32:12</td>\n",
       "      <td>52229707</td>\n",
       "      <td>Topic/pullrequest</td>\n",
       "      <td>More tests for the jenkins PR builder.\\n</td>\n",
       "      <td>actor-framework</td>\n",
       "      <td>actor-framework</td>\n",
       "      <td>216</td>\n",
       "      <td>Topic/pullrequest More tests for the jenkins P...</td>\n",
       "      <td>[0.013114626519382, 0.013114626519382, 0.01311...</td>\n",
       "    </tr>\n",
       "  </tbody>\n",
       "</table>\n",
       "</div>"
      ],
      "text/plain": [
       "           issue_time   issue_id  \\\n",
       "0 2018-05-03 11:33:46  319883485   \n",
       "1 2015-02-24 20:11:09   58796753   \n",
       "2 2014-12-18 16:09:28   52381894   \n",
       "3 2018-01-08 17:03:43  286813990   \n",
       "4 2014-12-17 11:32:12   52229707   \n",
       "\n",
       "                                               title  \\\n",
       "0  Help command line arguments (-h, --help) are i...   \n",
       "1                                  Remove match expr   \n",
       "2  Enable actor publishing at random high-level port   \n",
       "3        The udp basp autoconnection test has a leak   \n",
       "4                                  Topic/pullrequest   \n",
       "\n",
       "                                                body     organization  \\\n",
       "0  The help arguments implicitly defined by the a...  actor-framework   \n",
       "1  The main objective of this change is to make C...  actor-framework   \n",
       "2  With this patch, using 0 as port parameter to ...  actor-framework   \n",
       "3  According to asan, there is a leak in the unit...  actor-framework   \n",
       "4           More tests for the jenkins PR builder.\\n  actor-framework   \n",
       "\n",
       "           package  issue_number  \\\n",
       "0  actor-framework           688   \n",
       "1  actor-framework           242   \n",
       "2  actor-framework           218   \n",
       "3  actor-framework           647   \n",
       "4  actor-framework           216   \n",
       "\n",
       "                                         all_content  \\\n",
       "0  Help command line arguments (-h, --help) are i...   \n",
       "1  Remove match expr The main objective of this c...   \n",
       "2  Enable actor publishing at random high-level p...   \n",
       "3  The udp basp autoconnection test has a leak Ac...   \n",
       "4  Topic/pullrequest More tests for the jenkins P...   \n",
       "\n",
       "                                              topics  \n",
       "0  [0.009083141572773457, 0.009083141572773457, 0...  \n",
       "1  [0.006975634954869747, 0.006975634954869747, 0...  \n",
       "2  [0.008186651393771172, 0.008186651393771172, 0...  \n",
       "3  [0.010533114895224571, 0.3219645917415619, 0.0...  \n",
       "4  [0.013114626519382, 0.013114626519382, 0.01311...  "
      ]
     },
     "execution_count": 6,
     "metadata": {},
     "output_type": "execute_result"
    }
   ],
   "source": [
    "df.head()"
   ]
  },
  {
   "cell_type": "code",
   "execution_count": 7,
   "metadata": {},
   "outputs": [],
   "source": [
    "for i in range(tm.num_topics):\n",
    "    df['topic_{}'.format(i)] = [x[i] if x else np.nan for x in df['topics']]"
   ]
  },
  {
   "cell_type": "code",
   "execution_count": 8,
   "metadata": {},
   "outputs": [],
   "source": [
    "all_topics = ['topic_{}'.format(i) for i in range(tm.num_topics-1)]"
   ]
  },
  {
   "cell_type": "code",
   "execution_count": 9,
   "metadata": {},
   "outputs": [],
   "source": [
    "mean_topics = df.groupby(['organization', 'package']).mean()[all_topics]"
   ]
  },
  {
   "cell_type": "code",
   "execution_count": 10,
   "metadata": {},
   "outputs": [],
   "source": [
    "all_data = mean_topics.merge(data, on=['package', 'organization'])"
   ]
  },
  {
   "cell_type": "code",
   "execution_count": 11,
   "metadata": {},
   "outputs": [],
   "source": [
    "all_data['crowd_pct_sq'] = np.sqrt(all_data['crowd_pct'])\n",
    "all_data['crowd_pct_3'] = all_data['crowd_pct']**3\n",
    "all_data['crowd_pct_2'] = all_data['crowd_pct']**2\n",
    "all_data['issues_over_time'] = all_data['total_issues'] / all_data['project_age']\n",
    "all_data['avg_clusteringXcrowd_pct'] = all_data['avg_clustering'] * all_data['crowd_pct']\n",
    "all_data['avg_min_pathXcrowd_pct'] = all_data['avg_min_path'] * all_data['crowd_pct']\n",
    "all_data['gini_coefficientXcrowd_pct'] = all_data['gini_coefficient'] * all_data['crowd_pct']"
   ]
  },
  {
   "cell_type": "code",
   "execution_count": 12,
   "metadata": {},
   "outputs": [
    {
     "name": "stdout",
     "output_type": "stream",
     "text": [
      "                            OLS Regression Results                            \n",
      "==============================================================================\n",
      "Dep. Variable:           avg_comments   R-squared:                       0.326\n",
      "Model:                            OLS   Adj. R-squared:                  0.288\n",
      "Method:                 Least Squares   F-statistic:                     8.555\n",
      "Date:                Tue, 05 Nov 2019   Prob (F-statistic):           8.55e-30\n",
      "Time:                        21:28:21   Log-Likelihood:                -728.97\n",
      "No. Observations:                 562   AIC:                             1520.\n",
      "Df Residuals:                     531   BIC:                             1654.\n",
      "Df Model:                          30                                         \n",
      "Covariance Type:            nonrobust                                         \n",
      "============================================================================================\n",
      "                               coef    std err          t      P>|t|      [0.025      0.975]\n",
      "--------------------------------------------------------------------------------------------\n",
      "Intercept                    7.9422      3.083      2.576      0.010       1.885      14.000\n",
      "crowd_pct_2                 -2.1555      0.713     -3.023      0.003      -3.556      -0.755\n",
      "avg_clusteringXcrowd_pct    -4.8500      1.113     -4.357      0.000      -7.037      -2.663\n",
      "avg_min_pathXcrowd_pct       2.3669      0.438      5.410      0.000       1.507       3.226\n",
      "gini_coefficient             5.7364      0.878      6.534      0.000       4.012       7.461\n",
      "avg_clustering               4.9163      0.526      9.340      0.000       3.882       5.950\n",
      "avg_min_path                -2.8556      0.313     -9.132      0.000      -3.470      -2.241\n",
      "topic_0                     -3.5583      3.508     -1.014      0.311     -10.449       3.332\n",
      "topic_1                     -4.4181      3.322     -1.330      0.184     -10.943       2.107\n",
      "topic_2                     -1.9283      3.304     -0.584      0.560      -8.419       4.563\n",
      "topic_3                     -2.3400      3.514     -0.666      0.506      -9.242       4.562\n",
      "topic_4                     -6.7602      3.569     -1.894      0.059     -13.771       0.251\n",
      "topic_5                     -3.4037      3.192     -1.066      0.287      -9.674       2.867\n",
      "topic_6                     -4.6917      3.122     -1.503      0.134     -10.825       1.442\n",
      "topic_7                     -4.9894      3.285     -1.519      0.129     -11.442       1.463\n",
      "topic_8                     -4.6403      3.869     -1.199      0.231     -12.240       2.959\n",
      "topic_9                     -6.8634      3.496     -1.963      0.050     -13.731       0.004\n",
      "topic_10                    -5.8357      3.187     -1.831      0.068     -12.096       0.425\n",
      "topic_11                    -4.4682      3.141     -1.423      0.155     -10.638       1.701\n",
      "topic_12                    -3.7982      3.813     -0.996      0.320     -11.288       3.692\n",
      "topic_13                    -6.1486      3.199     -1.922      0.055     -12.434       0.136\n",
      "topic_14                    -3.5967      3.276     -1.098      0.273     -10.033       2.839\n",
      "topic_15                    -3.4618      3.374     -1.026      0.305     -10.090       3.167\n",
      "topic_16                    -5.0025      3.377     -1.482      0.139     -11.635       1.630\n",
      "topic_17                    -5.1179      3.316     -1.543      0.123     -11.632       1.397\n",
      "topic_18                    -8.0207      3.292     -2.436      0.015     -14.488      -1.554\n",
      "topic_19                    -4.2501      4.460     -0.953      0.341     -13.012       4.511\n",
      "topic_20                    -4.0041      3.118     -1.284      0.200     -10.130       2.122\n",
      "topic_21                    -4.8000      3.352     -1.432      0.153     -11.384       1.784\n",
      "topic_22                    -5.7060      3.206     -1.780      0.076     -12.004       0.592\n",
      "topic_23                    -4.5323      3.186     -1.422      0.155     -10.792       1.727\n",
      "==============================================================================\n",
      "Omnibus:                      540.329   Durbin-Watson:                   1.895\n",
      "Prob(Omnibus):                  0.000   Jarque-Bera (JB):            41268.869\n",
      "Skew:                           3.951   Prob(JB):                         0.00\n",
      "Kurtosis:                      44.230   Cond. No.                     1.16e+03\n",
      "==============================================================================\n",
      "\n",
      "Warnings:\n",
      "[1] Standard Errors assume that the covariance matrix of the errors is correctly specified.\n",
      "[2] The condition number is large, 1.16e+03. This might indicate that there are\n",
      "strong multicollinearity or other numerical problems.\n"
     ]
    }
   ],
   "source": [
    "y, X = dmatrices('avg_comments ~ '\n",
    "                 'crowd_pct_2 +  '\n",
    "                 'avg_clusteringXcrowd_pct + avg_min_pathXcrowd_pct + '\n",
    "                 'gini_coefficient + avg_clustering + avg_min_path + ' + ' + '.join(all_topics),\n",
    "                 data=all_data, return_type='dataframe')\n",
    "mod = sm.OLS(y, X)\n",
    "res = mod.fit()\n",
    "yhat = res.predict(X)\n",
    "print(res.summary())"
   ]
  },
  {
   "cell_type": "code",
   "execution_count": 13,
   "metadata": {},
   "outputs": [
    {
     "data": {
      "text/plain": [
       "Text(0, 0.5, 'Count')"
      ]
     },
     "execution_count": 13,
     "metadata": {},
     "output_type": "execute_result"
    },
    {
     "data": {
      "image/png": "[encoded data removed]",
      "text/plain": [
       "<Figure size 864x360 with 1 Axes>"
      ]
     },
     "metadata": {
      "needs_background": "light"
     },
     "output_type": "display_data"
    }
   ],
   "source": [
    "plt.figure(figsize=(12, 5))\n",
    "sns.distplot(res.resid, kde=False, color='blue', bins=50)\n",
    "plt.title('OLS Residuals', fontsize=18)\n",
    "plt.xlabel('Residuals', fontsize=16)\n",
    "plt.ylabel('Count', fontsize=16)"
   ]
  },
  {
   "cell_type": "code",
   "execution_count": 14,
   "metadata": {},
   "outputs": [
    {
     "data": {
      "text/plain": [
       "Text(0, 0.5, 'Comment Activity')"
      ]
     },
     "execution_count": 14,
     "metadata": {},
     "output_type": "execute_result"
    },
    {
     "data": {
      "image/png": "[encoded data removed]",
      "text/plain": [
       "<Figure size 864x360 with 1 Axes>"
      ]
     },
     "metadata": {
      "needs_background": "light"
     },
     "output_type": "display_data"
    }
   ],
   "source": [
    "plt.figure(figsize=(12, 5))\n",
    "sns.scatterplot(x=res.resid, y=all_data['avg_comments'], color='blue')\n",
    "plt.title('Residuals vs Actuals', fontsize=18)\n",
    "plt.xlabel('Residuals', fontsize=16)\n",
    "plt.ylabel('Comment Activity', fontsize=16)"
   ]
  },
  {
   "cell_type": "code",
   "execution_count": 15,
   "metadata": {},
   "outputs": [
    {
     "name": "stdout",
     "output_type": "stream",
     "text": [
      "                            OLS Regression Results                            \n",
      "==============================================================================\n",
      "Dep. Variable:          duration_mean   R-squared:                       0.330\n",
      "Model:                            OLS   Adj. R-squared:                  0.295\n",
      "Method:                 Least Squares   F-statistic:                     9.368\n",
      "Date:                Tue, 05 Nov 2019   Prob (F-statistic):           2.23e-31\n",
      "Time:                        21:28:23   Log-Likelihood:                -3516.8\n",
      "No. Observations:                 562   AIC:                             7092.\n",
      "Df Residuals:                     533   BIC:                             7217.\n",
      "Df Model:                          28                                         \n",
      "Covariance Type:            nonrobust                                         \n",
      "============================================================================================\n",
      "                               coef    std err          t      P>|t|      [0.025      0.975]\n",
      "--------------------------------------------------------------------------------------------\n",
      "Intercept                   21.3538    433.921      0.049      0.961    -831.051     873.758\n",
      "crowd_pct                 -367.3145     98.647     -3.724      0.000    -561.100    -173.529\n",
      "crowd_pct_2                180.3644     88.419      2.040      0.042       6.672     354.057\n",
      "project_age                  0.0921      0.008     10.990      0.000       0.076       0.109\n",
      "avg_clusteringXcrowd_pct   487.1019     86.818      5.611      0.000     316.554     657.650\n",
      "topic_0                    124.9780    498.861      0.251      0.802    -854.998    1104.954\n",
      "topic_1                     10.2342    472.573      0.022      0.983    -918.101     938.569\n",
      "topic_2                   -111.0347    469.156     -0.237      0.813   -1032.656     810.587\n",
      "topic_3                   -419.5553    498.085     -0.842      0.400   -1398.005     558.895\n",
      "topic_4                    -87.7936    506.247     -0.173      0.862   -1082.278     906.691\n",
      "topic_5                    -16.0866    453.062     -0.036      0.972    -906.092     873.919\n",
      "topic_6                    174.9180    444.514      0.394      0.694    -698.297    1048.133\n",
      "topic_7                    -63.8766    466.573     -0.137      0.891    -980.425     852.672\n",
      "topic_8                   -233.1212    549.815     -0.424      0.672   -1313.192     846.950\n",
      "topic_9                   -111.5850    496.498     -0.225      0.822   -1086.919     863.749\n",
      "topic_10                    17.4680    453.195      0.039      0.969    -872.799     907.735\n",
      "topic_11                    27.6221    446.526      0.062      0.951    -849.545     904.789\n",
      "topic_12                   -51.6633    541.931     -0.095      0.924   -1116.246    1012.920\n",
      "topic_13                   -94.0200    454.557     -0.207      0.836    -986.963     798.923\n",
      "topic_14                    -9.8024    464.408     -0.021      0.983    -922.098     902.493\n",
      "topic_15                   -52.3774    476.140     -0.110      0.912    -987.718     882.963\n",
      "topic_16                    74.4396    480.067      0.155      0.877    -868.616    1017.495\n",
      "topic_17                    82.8997    468.885      0.177      0.860    -838.191    1003.990\n",
      "topic_18                   208.8237    467.584      0.447      0.655    -709.711    1127.358\n",
      "topic_19                  -851.4151    636.884     -1.337      0.182   -2102.526     399.696\n",
      "topic_20                   -54.9685    443.089     -0.124      0.901    -925.383     815.446\n",
      "topic_21                  -256.9239    477.242     -0.538      0.591   -1194.431     680.583\n",
      "topic_22                   -93.9472    455.201     -0.206      0.837    -988.156     800.261\n",
      "topic_23                  -270.6997    454.105     -0.596      0.551   -1162.755     621.356\n",
      "==============================================================================\n",
      "Omnibus:                      281.620   Durbin-Watson:                   1.827\n",
      "Prob(Omnibus):                  0.000   Jarque-Bera (JB):             2346.529\n",
      "Skew:                           2.042   Prob(JB):                         0.00\n",
      "Kurtosis:                      12.139   Cond. No.                     8.35e+05\n",
      "==============================================================================\n",
      "\n",
      "Warnings:\n",
      "[1] Standard Errors assume that the covariance matrix of the errors is correctly specified.\n",
      "[2] The condition number is large, 8.35e+05. This might indicate that there are\n",
      "strong multicollinearity or other numerical problems.\n"
     ]
    }
   ],
   "source": [
    "y, X = dmatrices('duration_mean ~ '\n",
    "                 'crowd_pct + crowd_pct_2 + project_age +  '\n",
    "                 'avg_clusteringXcrowd_pct +  ' + ' + '.join(all_topics),\n",
    "                 data=all_data, return_type='dataframe')\n",
    "mod = sm.OLS(y, X)\n",
    "res = mod.fit()\n",
    "print(res.summary())"
   ]
  },
  {
   "cell_type": "code",
   "execution_count": 16,
   "metadata": {},
   "outputs": [
    {
     "data": {
      "text/plain": [
       "Text(0, 0.5, 'Count')"
      ]
     },
     "execution_count": 16,
     "metadata": {},
     "output_type": "execute_result"
    },
    {
     "data": {
      "image/png": "[encoded data removed]",
      "text/plain": [
       "<Figure size 864x360 with 1 Axes>"
      ]
     },
     "metadata": {
      "needs_background": "light"
     },
     "output_type": "display_data"
    }
   ],
   "source": [
    "plt.figure(figsize=(12, 5))\n",
    "sns.distplot(res.resid, kde=False, color='blue', bins=50)\n",
    "plt.title('OLS Residuals', fontsize=18)\n",
    "plt.xlabel('Residuals', fontsize=16)\n",
    "plt.ylabel('Count', fontsize=16)"
   ]
  },
  {
   "cell_type": "code",
   "execution_count": 17,
   "metadata": {},
   "outputs": [
    {
     "data": {
      "text/plain": [
       "Text(0, 0.5, 'Comment Activity')"
      ]
     },
     "execution_count": 17,
     "metadata": {},
     "output_type": "execute_result"
    },
    {
     "data": {
      "image/png": "[encoded data removed]",
      "text/plain": [
       "<Figure size 864x360 with 1 Axes>"
      ]
     },
     "metadata": {
      "needs_background": "light"
     },
     "output_type": "display_data"
    }
   ],
   "source": [
    "plt.figure(figsize=(12, 5))\n",
    "sns.scatterplot(x=res.resid, y=all_data['duration_mean'], color='blue')\n",
    "plt.title('Residuals vs Actuals', fontsize=18)\n",
    "plt.xlabel('Residuals', fontsize=16)\n",
    "plt.ylabel('Comment Activity', fontsize=16)"
   ]
  },
  {
   "cell_type": "code",
   "execution_count": 18,
   "metadata": {},
   "outputs": [
    {
     "name": "stdout",
     "output_type": "stream",
     "text": [
      "                            OLS Regression Results                            \n",
      "==============================================================================\n",
      "Dep. Variable:       issues_over_time   R-squared:                       0.270\n",
      "Model:                            OLS   Adj. R-squared:                  0.232\n",
      "Method:                 Least Squares   F-statistic:                     7.052\n",
      "Date:                Tue, 05 Nov 2019   Prob (F-statistic):           1.22e-22\n",
      "Time:                        21:28:26   Log-Likelihood:                 565.04\n",
      "No. Observations:                 562   AIC:                            -1072.\n",
      "Df Residuals:                     533   BIC:                            -946.5\n",
      "Df Model:                          28                                         \n",
      "Covariance Type:            nonrobust                                         \n",
      "==============================================================================================\n",
      "                                 coef    std err          t      P>|t|      [0.025      0.975]\n",
      "----------------------------------------------------------------------------------------------\n",
      "Intercept                     -0.4908      0.316     -1.555      0.121      -1.111       0.129\n",
      "crowd_pct_2                    0.2423      0.066      3.688      0.000       0.113       0.371\n",
      "gini_coefficientXcrowd_pct    -0.5848      0.117     -4.992      0.000      -0.815      -0.355\n",
      "gini_coefficient               0.8680      0.114      7.639      0.000       0.645       1.091\n",
      "diversity_25                  -0.3802      0.104     -3.663      0.000      -0.584      -0.176\n",
      "topic_0                        0.7859      0.351      2.237      0.026       0.096       1.476\n",
      "topic_1                        0.2492      0.335      0.745      0.457      -0.408       0.907\n",
      "topic_2                        0.1024      0.332      0.309      0.758      -0.550       0.754\n",
      "topic_3                        0.4555      0.349      1.306      0.192      -0.230       1.141\n",
      "topic_4                        0.6157      0.357      1.723      0.085      -0.086       1.318\n",
      "topic_5                        0.3722      0.322      1.157      0.248      -0.260       1.004\n",
      "topic_6                        0.1285      0.315      0.408      0.683      -0.490       0.747\n",
      "topic_7                        0.3042      0.331      0.920      0.358      -0.345       0.954\n",
      "topic_8                        0.1878      0.385      0.488      0.626      -0.568       0.944\n",
      "topic_9                       -0.0343      0.349     -0.098      0.922      -0.721       0.652\n",
      "topic_10                       0.2626      0.322      0.816      0.415      -0.370       0.895\n",
      "topic_11                       0.1604      0.319      0.504      0.615      -0.465       0.786\n",
      "topic_12                       0.5098      0.381      1.338      0.182      -0.239       1.258\n",
      "topic_13                       0.1929      0.325      0.594      0.553      -0.445       0.831\n",
      "topic_14                       0.3068      0.330      0.929      0.353      -0.342       0.956\n",
      "topic_15                       0.7552      0.340      2.219      0.027       0.087       1.424\n",
      "topic_16                       0.2780      0.340      0.819      0.413      -0.389       0.945\n",
      "topic_17                       0.9768      0.333      2.933      0.003       0.323       1.631\n",
      "topic_18                       0.1112      0.330      0.337      0.736      -0.537       0.759\n",
      "topic_19                      -0.2707      0.445     -0.608      0.544      -1.146       0.604\n",
      "topic_20                       0.1973      0.316      0.625      0.532      -0.423       0.817\n",
      "topic_21                       0.1663      0.338      0.492      0.623      -0.498       0.831\n",
      "topic_22                       0.3732      0.325      1.149      0.251      -0.265       1.012\n",
      "topic_23                       0.2191      0.321      0.683      0.495      -0.411       0.849\n",
      "==============================================================================\n",
      "Omnibus:                      377.776   Durbin-Watson:                   2.134\n",
      "Prob(Omnibus):                  0.000   Jarque-Bera (JB):             5165.004\n",
      "Skew:                           2.796   Prob(JB):                         0.00\n",
      "Kurtosis:                      16.758   Cond. No.                         530.\n",
      "==============================================================================\n",
      "\n",
      "Warnings:\n",
      "[1] Standard Errors assume that the covariance matrix of the errors is correctly specified.\n"
     ]
    }
   ],
   "source": [
    "y, X = dmatrices('issues_over_time ~ '\n",
    "                 'crowd_pct_2 + gini_coefficientXcrowd_pct + '\n",
    "                 'gini_coefficient +  diversity_25 + ' + ' + '.join(all_topics),\n",
    "                 data=all_data, return_type='dataframe')\n",
    "mod = sm.OLS(y, X)\n",
    "res = mod.fit()\n",
    "print(res.summary())"
   ]
  },
  {
   "cell_type": "code",
   "execution_count": 19,
   "metadata": {},
   "outputs": [
    {
     "data": {
      "text/plain": [
       "Text(0, 0.5, 'Count')"
      ]
     },
     "execution_count": 19,
     "metadata": {},
     "output_type": "execute_result"
    },
    {
     "data": {
      "image/png": "[encoded data removed]",
      "text/plain": [
       "<Figure size 864x360 with 1 Axes>"
      ]
     },
     "metadata": {
      "needs_background": "light"
     },
     "output_type": "display_data"
    }
   ],
   "source": [
    "plt.figure(figsize=(12, 5))\n",
    "sns.distplot(res.resid, kde=False, color='blue', bins=50)\n",
    "plt.title('OLS Residuals', fontsize=18)\n",
    "plt.xlabel('Residuals', fontsize=16)\n",
    "plt.ylabel('Count', fontsize=16)"
   ]
  },
  {
   "cell_type": "code",
   "execution_count": 20,
   "metadata": {},
   "outputs": [
    {
     "data": {
      "text/plain": [
       "Text(0, 0.5, 'Comment Activity')"
      ]
     },
     "execution_count": 20,
     "metadata": {},
     "output_type": "execute_result"
    },
    {
     "data": {
      "image/png": "[encoded data removed]",
      "text/plain": [
       "<Figure size 864x360 with 1 Axes>"
      ]
     },
     "metadata": {
      "needs_background": "light"
     },
     "output_type": "display_data"
    }
   ],
   "source": [
    "plt.figure(figsize=(12, 5))\n",
    "sns.scatterplot(x=res.resid, y=all_data['issues_over_time'], color='blue')\n",
    "plt.title('Residuals vs Actuals', fontsize=18)\n",
    "plt.xlabel('Residuals', fontsize=16)\n",
    "plt.ylabel('Comment Activity', fontsize=16)"
   ]
  },
  {
   "cell_type": "code",
   "execution_count": null,
   "metadata": {},
   "outputs": [],
   "source": []
  }
 ],
 "metadata": {
  "kernelspec": {
   "display_name": "Python 3",
   "language": "python",
   "name": "python3"
  },
  "language_info": {
   "codemirror_mode": {
    "name": "ipython",
    "version": 3
   },
   "file_extension": ".py",
   "mimetype": "text/x-python",
   "name": "python",
   "nbconvert_exporter": "python",
   "pygments_lexer": "ipython3",
   "version": "3.5.2"
  }
 },
 "nbformat": 4,
 "nbformat_minor": 2
}
