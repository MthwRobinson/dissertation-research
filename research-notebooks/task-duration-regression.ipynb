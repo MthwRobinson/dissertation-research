{
 "cells": [
  {
   "cell_type": "markdown",
   "metadata": {},
   "source": [
    "## Task Duration and Network Centrality"
   ]
  },
  {
   "cell_type": "code",
   "execution_count": 131,
   "metadata": {},
   "outputs": [],
   "source": [
    "from research_utils.database.database import Database\n",
    "\n",
    "import pandas as pd\n",
    "from patsy import dmatrices\n",
    "import matplotlib.pyplot as plt\n",
    "import numpy as np\n",
    "import statsmodels.api as sm\n",
    "import statsmodels.stats.diagnostic as diag\n",
    "import seaborn as sns\n",
    "import scipy.stats as stats"
   ]
  },
  {
   "cell_type": "markdown",
   "metadata": {},
   "source": [
    "### Read in Data\n",
    "\n",
    "Read in the data for the regression model from the `reqs_prioritization` table in Postgres. This table is a compilation of all the issues opened in 2018 for networks for which fewer than 50% of the issues were submitted by non-contributors."
   ]
  },
  {
   "cell_type": "code",
   "execution_count": 2,
   "metadata": {},
   "outputs": [],
   "source": [
    "database = Database()"
   ]
  },
  {
   "cell_type": "code",
   "execution_count": 330,
   "metadata": {},
   "outputs": [],
   "source": [
    "sql = \"\"\"\n",
    "SELECT a.package_id, a.package, a.organization,\n",
    "\t   a.duration_median, a.duration_mean, a.project_age,\n",
    "\t   b.crowd_pct, b.crowd, b.total as total_issues,\n",
    "\t   c.gini_coefficient, c.avg_clustering, c.avg_min_path,\n",
    "\t   d.total_contributors\n",
    "FROM(\n",
    "\tSELECT package_id, package, organization,\n",
    "\t\t   PERCENTILE_DISC(0.5) WITHIN GROUP (ORDER BY duration) AS duration_median,\n",
    "\t\t   AVG(duration) AS duration_mean,\n",
    "\t\t   EXTRACT(DAY FROM NOW() - MIN(created_at)) AS project_age\n",
    "\tFROM(\n",
    "\t\tSELECT package_id, organization, package, created_at,\n",
    "\t\t\t   EXTRACT(DAY FROM closed_at - created_at) as duration\n",
    "\t\tFROM open_source.issues\n",
    "\t\tWHERE closed_at IS NOT NULL\n",
    "\t\t\n",
    "\t) z\n",
    "\tGROUP BY package_id, organization, package\n",
    ") a\n",
    "INNER JOIN open_source.crowd_percentage b\n",
    "ON a.package_id = b.package_id\n",
    "INNER JOIN (\n",
    "\tSELECT organization, package, gini_coefficient, avg_clustering, avg_min_path, crowd_pct\n",
    "\tFROM open_source.stakeholder_networks\n",
    ") c\n",
    "ON (a.package = c.package AND a.organization = c.organization)\n",
    "INNER JOIN (\n",
    "\tSELECT COUNT(DISTINCT user_id) as total_contributors, package_id\n",
    "\tFROM open_source.issue_contributors\n",
    "    WHERE commit_pct > 0\n",
    "\tGROUP BY package_id\n",
    ") d\n",
    "ON a.package_id = d.package_id\n",
    "\"\"\"\n",
    "#AND 'bug' = ANY(lower(labels::text)::text[])\n",
    "df = pd.read_sql(sql, database.connection)"
   ]
  },
  {
   "cell_type": "code",
   "execution_count": 331,
   "metadata": {},
   "outputs": [
    {
     "data": {
      "text/plain": [
       "566"
      ]
     },
     "execution_count": 331,
     "metadata": {},
     "output_type": "execute_result"
    }
   ],
   "source": [
    "len(df)"
   ]
  },
  {
   "cell_type": "markdown",
   "metadata": {},
   "source": [
    "### Exploratory Data Analysis\n",
    "\n",
    "Some simple analysis to get a feel for patterns in the data."
   ]
  },
  {
   "cell_type": "code",
   "execution_count": 332,
   "metadata": {},
   "outputs": [
    {
     "data": {
      "text/html": [
       "<div>\n",
       "<style scoped>\n",
       "    .dataframe tbody tr th:only-of-type {\n",
       "        vertical-align: middle;\n",
       "    }\n",
       "\n",
       "    .dataframe tbody tr th {\n",
       "        vertical-align: top;\n",
       "    }\n",
       "\n",
       "    .dataframe thead th {\n",
       "        text-align: right;\n",
       "    }\n",
       "</style>\n",
       "<table border=\"1\" class=\"dataframe\">\n",
       "  <thead>\n",
       "    <tr style=\"text-align: right;\">\n",
       "      <th></th>\n",
       "      <th>duration_median</th>\n",
       "      <th>duration_mean</th>\n",
       "      <th>project_age</th>\n",
       "      <th>crowd_pct</th>\n",
       "      <th>crowd</th>\n",
       "      <th>total_issues</th>\n",
       "      <th>gini_coefficient</th>\n",
       "      <th>avg_clustering</th>\n",
       "      <th>avg_min_path</th>\n",
       "      <th>total_contributors</th>\n",
       "    </tr>\n",
       "  </thead>\n",
       "  <tbody>\n",
       "    <tr>\n",
       "      <th>count</th>\n",
       "      <td>566.000000</td>\n",
       "      <td>566.000000</td>\n",
       "      <td>566.000000</td>\n",
       "      <td>566.000000</td>\n",
       "      <td>566.000000</td>\n",
       "      <td>566.000000</td>\n",
       "      <td>566.000000</td>\n",
       "      <td>566.000000</td>\n",
       "      <td>566.000000</td>\n",
       "      <td>566.000000</td>\n",
       "    </tr>\n",
       "    <tr>\n",
       "      <th>mean</th>\n",
       "      <td>7.517668</td>\n",
       "      <td>70.691376</td>\n",
       "      <td>1928.024735</td>\n",
       "      <td>0.481664</td>\n",
       "      <td>54.353357</td>\n",
       "      <td>121.826855</td>\n",
       "      <td>0.562252</td>\n",
       "      <td>0.601783</td>\n",
       "      <td>2.187906</td>\n",
       "      <td>11.588339</td>\n",
       "    </tr>\n",
       "    <tr>\n",
       "      <th>std</th>\n",
       "      <td>30.772167</td>\n",
       "      <td>69.394051</td>\n",
       "      <td>748.388962</td>\n",
       "      <td>0.264284</td>\n",
       "      <td>88.181604</td>\n",
       "      <td>148.517292</td>\n",
       "      <td>0.048243</td>\n",
       "      <td>0.140696</td>\n",
       "      <td>0.231761</td>\n",
       "      <td>10.642799</td>\n",
       "    </tr>\n",
       "    <tr>\n",
       "      <th>min</th>\n",
       "      <td>0.000000</td>\n",
       "      <td>0.637462</td>\n",
       "      <td>285.000000</td>\n",
       "      <td>0.006711</td>\n",
       "      <td>1.000000</td>\n",
       "      <td>30.000000</td>\n",
       "      <td>0.285714</td>\n",
       "      <td>0.000000</td>\n",
       "      <td>1.400000</td>\n",
       "      <td>1.000000</td>\n",
       "    </tr>\n",
       "    <tr>\n",
       "      <th>25%</th>\n",
       "      <td>1.000000</td>\n",
       "      <td>28.398181</td>\n",
       "      <td>1450.750000</td>\n",
       "      <td>0.265306</td>\n",
       "      <td>19.250000</td>\n",
       "      <td>48.000000</td>\n",
       "      <td>0.535624</td>\n",
       "      <td>0.523466</td>\n",
       "      <td>2.012506</td>\n",
       "      <td>5.000000</td>\n",
       "    </tr>\n",
       "    <tr>\n",
       "      <th>50%</th>\n",
       "      <td>2.000000</td>\n",
       "      <td>51.197803</td>\n",
       "      <td>1946.000000</td>\n",
       "      <td>0.500000</td>\n",
       "      <td>34.000000</td>\n",
       "      <td>76.500000</td>\n",
       "      <td>0.569206</td>\n",
       "      <td>0.628980</td>\n",
       "      <td>2.147529</td>\n",
       "      <td>9.000000</td>\n",
       "    </tr>\n",
       "    <tr>\n",
       "      <th>75%</th>\n",
       "      <td>7.000000</td>\n",
       "      <td>89.225893</td>\n",
       "      <td>2475.000000</td>\n",
       "      <td>0.702228</td>\n",
       "      <td>66.000000</td>\n",
       "      <td>141.750000</td>\n",
       "      <td>0.592266</td>\n",
       "      <td>0.706336</td>\n",
       "      <td>2.331743</td>\n",
       "      <td>15.000000</td>\n",
       "    </tr>\n",
       "    <tr>\n",
       "      <th>max</th>\n",
       "      <td>624.000000</td>\n",
       "      <td>615.919753</td>\n",
       "      <td>5537.000000</td>\n",
       "      <td>0.985294</td>\n",
       "      <td>1670.000000</td>\n",
       "      <td>1913.000000</td>\n",
       "      <td>0.696200</td>\n",
       "      <td>0.878524</td>\n",
       "      <td>3.054147</td>\n",
       "      <td>86.000000</td>\n",
       "    </tr>\n",
       "  </tbody>\n",
       "</table>\n",
       "</div>"
      ],
      "text/plain": [
       "       duration_median  duration_mean  project_age   crowd_pct        crowd  \\\n",
       "count       566.000000     566.000000   566.000000  566.000000   566.000000   \n",
       "mean          7.517668      70.691376  1928.024735    0.481664    54.353357   \n",
       "std          30.772167      69.394051   748.388962    0.264284    88.181604   \n",
       "min           0.000000       0.637462   285.000000    0.006711     1.000000   \n",
       "25%           1.000000      28.398181  1450.750000    0.265306    19.250000   \n",
       "50%           2.000000      51.197803  1946.000000    0.500000    34.000000   \n",
       "75%           7.000000      89.225893  2475.000000    0.702228    66.000000   \n",
       "max         624.000000     615.919753  5537.000000    0.985294  1670.000000   \n",
       "\n",
       "       total_issues  gini_coefficient  avg_clustering  avg_min_path  \\\n",
       "count    566.000000        566.000000      566.000000    566.000000   \n",
       "mean     121.826855          0.562252        0.601783      2.187906   \n",
       "std      148.517292          0.048243        0.140696      0.231761   \n",
       "min       30.000000          0.285714        0.000000      1.400000   \n",
       "25%       48.000000          0.535624        0.523466      2.012506   \n",
       "50%       76.500000          0.569206        0.628980      2.147529   \n",
       "75%      141.750000          0.592266        0.706336      2.331743   \n",
       "max     1913.000000          0.696200        0.878524      3.054147   \n",
       "\n",
       "       total_contributors  \n",
       "count          566.000000  \n",
       "mean            11.588339  \n",
       "std             10.642799  \n",
       "min              1.000000  \n",
       "25%              5.000000  \n",
       "50%              9.000000  \n",
       "75%             15.000000  \n",
       "max             86.000000  "
      ]
     },
     "execution_count": 332,
     "metadata": {},
     "output_type": "execute_result"
    }
   ],
   "source": [
    "df.describe()"
   ]
  },
  {
   "cell_type": "code",
   "execution_count": 333,
   "metadata": {},
   "outputs": [
    {
     "data": {
      "text/plain": [
       "566"
      ]
     },
     "execution_count": 333,
     "metadata": {},
     "output_type": "execute_result"
    }
   ],
   "source": [
    "len(df)"
   ]
  },
  {
   "cell_type": "code",
   "execution_count": 334,
   "metadata": {},
   "outputs": [],
   "source": [
    "df['crowd_pct'] = df['crowd_pct'] * 100\n",
    "df['gini_coefficient'] = df['gini_coefficient'] * 100\n",
    "df['avg_clustering'] = df['avg_clustering'] * 100\n",
    "df['project_age'] = df['project_age']/30.5"
   ]
  },
  {
   "cell_type": "code",
   "execution_count": 335,
   "metadata": {},
   "outputs": [
    {
     "data": {
      "text/plain": [
       "0.9487632508833922"
      ]
     },
     "execution_count": 335,
     "metadata": {},
     "output_type": "execute_result"
    }
   ],
   "source": [
    "reg_df = df[df['duration_mean'] < 203]\n",
    "len(reg_df)/len(df)"
   ]
  },
  {
   "cell_type": "markdown",
   "metadata": {},
   "source": [
    "### OLS Sanity Check\n",
    "\n",
    "Before getting into our more complicated model, we want to run an OLS model just to get a feel for how the model is working."
   ]
  },
  {
   "cell_type": "code",
   "execution_count": 354,
   "metadata": {},
   "outputs": [
    {
     "name": "stdout",
     "output_type": "stream",
     "text": [
      "                            OLS Regression Results                            \n",
      "==============================================================================\n",
      "Dep. Variable:          duration_mean   R-squared:                       0.303\n",
      "Model:                            OLS   Adj. R-squared:                  0.294\n",
      "Method:                 Least Squares   F-statistic:                     34.66\n",
      "Date:                Mon, 29 Jul 2019   Prob (F-statistic):           3.71e-40\n",
      "Time:                        00:41:34   Log-Likelihood:                -3100.2\n",
      "No. Observations:                 566   AIC:                             6216.\n",
      "Df Residuals:                     558   BIC:                             6251.\n",
      "Df Model:                           7                                         \n",
      "Covariance Type:            nonrobust                                         \n",
      "======================================================================================\n",
      "                         coef    std err          t      P>|t|      [0.025      0.975]\n",
      "--------------------------------------------------------------------------------------\n",
      "Intercept            -27.5680     37.990     -0.726      0.468    -102.189      47.053\n",
      "crowd_pct              0.3805      0.112      3.407      0.001       0.161       0.600\n",
      "total_issues           0.0389      0.021      1.820      0.069      -0.003       0.081\n",
      "project_age            1.1652      0.102     11.449      0.000       0.965       1.365\n",
      "total_contributors    -0.6237      0.315     -1.983      0.048      -1.241      -0.006\n",
      "gini_coefficient      -2.2820      0.594     -3.839      0.000      -3.449      -1.115\n",
      "avg_clustering         0.5896      0.201      2.931      0.004       0.195       0.985\n",
      "avg_min_path          46.4332     13.200      3.518      0.000      20.505      72.362\n",
      "==============================================================================\n",
      "Omnibus:                      436.466   Durbin-Watson:                   2.100\n",
      "Prob(Omnibus):                  0.000   Jarque-Bera (JB):             8115.170\n",
      "Skew:                           3.278   Prob(JB):                         0.00\n",
      "Kurtosis:                      20.353   Cond. No.                     3.29e+03\n",
      "==============================================================================\n",
      "\n",
      "Warnings:\n",
      "[1] Standard Errors assume that the covariance matrix of the errors is correctly specified.\n",
      "[2] The condition number is large, 3.29e+03. This might indicate that there are\n",
      "strong multicollinearity or other numerical problems.\n",
      "                            OLS Regression Results                            \n",
      "==============================================================================\n",
      "Dep. Variable:          duration_mean   R-squared:                       0.303\n",
      "Model:                            OLS   Adj. R-squared:                  0.294\n",
      "Method:                 Least Squares   F-statistic:                     16.86\n",
      "Date:                Mon, 29 Jul 2019   Prob (F-statistic):           3.00e-20\n",
      "Time:                        00:41:34   Log-Likelihood:                -3100.2\n",
      "No. Observations:                 566   AIC:                             6216.\n",
      "Df Residuals:                     558   BIC:                             6251.\n",
      "Df Model:                           7                                         \n",
      "Covariance Type:                  HC3                                         \n",
      "======================================================================================\n",
      "                         coef    std err          t      P>|t|      [0.025      0.975]\n",
      "--------------------------------------------------------------------------------------\n",
      "Intercept            -27.5680     36.451     -0.756      0.450     -99.165      44.029\n",
      "crowd_pct              0.3805      0.136      2.801      0.005       0.114       0.647\n",
      "total_issues           0.0389      0.022      1.794      0.073      -0.004       0.081\n",
      "project_age            1.1652      0.123      9.485      0.000       0.924       1.407\n",
      "total_contributors    -0.6237      0.303     -2.056      0.040      -1.220      -0.028\n",
      "gini_coefficient      -2.2820      0.620     -3.681      0.000      -3.500      -1.064\n",
      "avg_clustering         0.5896      0.227      2.598      0.010       0.144       1.035\n",
      "avg_min_path          46.4332     15.870      2.926      0.004      15.261      77.606\n",
      "==============================================================================\n",
      "Omnibus:                      436.466   Durbin-Watson:                   2.100\n",
      "Prob(Omnibus):                  0.000   Jarque-Bera (JB):             8115.170\n",
      "Skew:                           3.278   Prob(JB):                         0.00\n",
      "Kurtosis:                      20.353   Cond. No.                     3.29e+03\n",
      "==============================================================================\n",
      "\n",
      "Warnings:\n",
      "[1] Standard Errors are heteroscedasticity robust (HC3)\n",
      "[2] The condition number is large, 3.29e+03. This might indicate that there are\n",
      "strong multicollinearity or other numerical problems.\n"
     ]
    }
   ],
   "source": [
    "y, X = dmatrices('duration_mean ~ '\n",
    "                 'crowd_pct + total_issues + project_age + total_contributors + '\n",
    "                 'gini_coefficient + avg_clustering + avg_min_path',\n",
    "                 data=df, return_type='dataframe')\n",
    "mod = sm.OLS(y, X)\n",
    "res = mod.fit()\n",
    "print(res.summary())\n",
    "print(res.get_robustcov_results(cov_type='HC3').summary())"
   ]
  },
  {
   "cell_type": "code",
   "execution_count": 355,
   "metadata": {},
   "outputs": [
    {
     "data": {
      "text/plain": [
       "Text(0, 0.5, 'Count')"
      ]
     },
     "execution_count": 355,
     "metadata": {},
     "output_type": "execute_result"
    },
    {
     "data": {
      "image/png": "[encoded data removed]",
      "text/plain": [
       "<Figure size 864x504 with 1 Axes>"
      ]
     },
     "metadata": {
      "needs_background": "light"
     },
     "output_type": "display_data"
    }
   ],
   "source": [
    "plt.figure(figsize=(12, 7))\n",
    "sns.distplot(res.resid, kde=False, color='blue', bins=50)\n",
    "plt.title('OLS Residuals', fontsize=18)\n",
    "plt.xlabel('Residuals', fontsize=16)\n",
    "plt.ylabel('Count', fontsize=16)"
   ]
  },
  {
   "cell_type": "code",
   "execution_count": 356,
   "metadata": {},
   "outputs": [
    {
     "data": {
      "text/plain": [
       "Text(0, 0.5, 'Mean Duration')"
      ]
     },
     "execution_count": 356,
     "metadata": {},
     "output_type": "execute_result"
    },
    {
     "data": {
      "image/png": "[encoded data removed]",
      "text/plain": [
       "<Figure size 864x504 with 1 Axes>"
      ]
     },
     "metadata": {
      "needs_background": "light"
     },
     "output_type": "display_data"
    }
   ],
   "source": [
    "plt.figure(figsize=(12, 7))\n",
    "sns.scatterplot(x=res.resid, y=df['duration_mean'], color='blue')\n",
    "plt.title('Residuals vs Actuals', fontsize=18)\n",
    "plt.xlabel('Residual', fontsize=16)\n",
    "plt.ylabel('Mean Duration', fontsize=16)"
   ]
  },
  {
   "cell_type": "code",
   "execution_count": 357,
   "metadata": {},
   "outputs": [
    {
     "name": "stderr",
     "output_type": "stream",
     "text": [
      "2019-07-29 00:42:17,011 [19242] WARNING  py.warnings: /home/matt/venv/phd/lib/python3.5/site-packages/ipykernel_launcher.py:1: DeprecationWarning: Calling Family(..) with a link class as argument is deprecated.\n",
      "Use an instance of a link class instead.\n",
      "  \"\"\"Entry point for launching an IPython kernel.\n",
      "\n",
      "2019-07-29 00:42:17,021 [19242] WARNING  py.warnings: /home/matt/venv/phd/lib/python3.5/site-packages/statsmodels/genmod/generalized_linear_model.py:273: DomainWarning: The inverse_power link function does not respect the domain of the Gamma family.\n",
      "  DomainWarning)\n",
      "\n"
     ]
    },
    {
     "name": "stdout",
     "output_type": "stream",
     "text": [
      "                 Generalized Linear Model Regression Results                  \n",
      "==============================================================================\n",
      "Dep. Variable:          duration_mean   No. Observations:                  566\n",
      "Model:                            GLM   Df Residuals:                      558\n",
      "Model Family:                   Gamma   Df Model:                            7\n",
      "Link Function:          inverse_power   Scale:                         0.66401\n",
      "Method:                          IRLS   Log-Likelihood:                -3107.9\n",
      "Date:                Mon, 29 Jul 2019   Deviance:                       606.14\n",
      "Time:                        00:42:17   Pearson chi2:                     371.\n",
      "No. Iterations:                     8                                         \n",
      "Covariance Type:            nonrobust                                         \n",
      "======================================================================================\n",
      "                         coef    std err          z      P>|z|      [0.025      0.975]\n",
      "--------------------------------------------------------------------------------------\n",
      "Intercept              0.0280      0.006      4.689      0.000       0.016       0.040\n",
      "crowd_pct          -3.739e-05   1.84e-05     -2.037      0.042   -7.34e-05   -1.42e-06\n",
      "total_issues        -7.71e-06   2.84e-06     -2.713      0.007   -1.33e-05   -2.14e-06\n",
      "project_age           -0.0003   1.62e-05    -15.634      0.000      -0.000      -0.000\n",
      "total_contributors     0.0001   6.33e-05      2.321      0.020    2.28e-05       0.000\n",
      "gini_coefficient       0.0005   8.07e-05      5.616      0.000       0.000       0.001\n",
      "avg_clustering        -0.0001   3.11e-05     -4.804      0.000      -0.000   -8.84e-05\n",
      "avg_min_path          -0.0043      0.002     -2.781      0.005      -0.007      -0.001\n",
      "======================================================================================\n"
     ]
    }
   ],
   "source": [
    "glm_gamma = sm.GLM(y, X, family=sm.families.Gamma(link=sm.families.links.inverse_power))\n",
    "glm_results = glm_gamma.fit()\n",
    "print(glm_results.summary())"
   ]
  },
  {
   "cell_type": "code",
   "execution_count": 341,
   "metadata": {},
   "outputs": [
    {
     "data": {
      "text/plain": [
       "(-150, 400)"
      ]
     },
     "execution_count": 341,
     "metadata": {},
     "output_type": "execute_result"
    },
    {
     "data": {
      "image/png": "[encoded data removed]",
      "text/plain": [
       "<Figure size 864x504 with 1 Axes>"
      ]
     },
     "metadata": {
      "needs_background": "light"
     },
     "output_type": "display_data"
    }
   ],
   "source": [
    "plt.figure(figsize=(12, 7))\n",
    "sns.distplot(glm_results.resid_response, kde=False, color='blue', bins=100)\n",
    "plt.title('OLS Residuals', fontsize=18)\n",
    "plt.xlabel('Residuals', fontsize=16)\n",
    "plt.ylabel('Count', fontsize=16)\n",
    "plt.xlim([-150, 400])"
   ]
  },
  {
   "cell_type": "code",
   "execution_count": 358,
   "metadata": {},
   "outputs": [
    {
     "name": "stderr",
     "output_type": "stream",
     "text": [
      "2019-07-29 00:42:25,804 [19242] WARNING  py.warnings: /home/matt/venv/phd/lib/python3.5/site-packages/ipykernel_launcher.py:1: DeprecationWarning: Calling Family(..) with a link class as argument is deprecated.\n",
      "Use an instance of a link class instead.\n",
      "  \"\"\"Entry point for launching an IPython kernel.\n",
      "\n",
      "2019-07-29 00:42:25,812 [19242] WARNING  py.warnings: /home/matt/venv/phd/lib/python3.5/site-packages/statsmodels/genmod/generalized_linear_model.py:273: DomainWarning: The identity link function does not respect the domain of the Gamma family.\n",
      "  DomainWarning)\n",
      "\n"
     ]
    },
    {
     "name": "stdout",
     "output_type": "stream",
     "text": [
      "                 Generalized Linear Model Regression Results                  \n",
      "==============================================================================\n",
      "Dep. Variable:          duration_mean   No. Observations:                  566\n",
      "Model:                            GLM   Df Residuals:                      558\n",
      "Model Family:                   Gamma   Df Model:                            7\n",
      "Link Function:               identity   Scale:                         0.57436\n",
      "Method:                          IRLS   Log-Likelihood:                -2812.3\n",
      "Date:                Mon, 29 Jul 2019   Deviance:                       244.63\n",
      "Time:                        00:42:25   Pearson chi2:                     320.\n",
      "No. Iterations:                   100                                         \n",
      "Covariance Type:            nonrobust                                         \n",
      "======================================================================================\n",
      "                         coef    std err          z      P>|z|      [0.025      0.975]\n",
      "--------------------------------------------------------------------------------------\n",
      "Intercept            -36.2653     22.782     -1.592      0.111     -80.917       8.386\n",
      "crowd_pct              0.2206      0.067      3.283      0.001       0.089       0.352\n",
      "total_issues           0.0197      0.014      1.455      0.146      -0.007       0.046\n",
      "project_age            0.9599      0.064     15.047      0.000       0.835       1.085\n",
      "total_contributors    -0.1369      0.169     -0.812      0.417      -0.467       0.194\n",
      "gini_coefficient      -0.8037      0.280     -2.869      0.004      -1.353      -0.255\n",
      "avg_clustering         0.1472      0.079      1.852      0.064      -0.009       0.303\n",
      "avg_min_path          31.4290      7.938      3.959      0.000      15.870      46.988\n",
      "======================================================================================\n"
     ]
    }
   ],
   "source": [
    "glm_gamma2 = sm.GLM(y, X, family=sm.families.Gamma(link=sm.families.links.identity))\n",
    "glm_results2 = glm_gamma2.fit()\n",
    "print(glm_results2.summary())"
   ]
  },
  {
   "cell_type": "code",
   "execution_count": 359,
   "metadata": {},
   "outputs": [
    {
     "data": {
      "text/plain": [
       "(-150, 400)"
      ]
     },
     "execution_count": 359,
     "metadata": {},
     "output_type": "execute_result"
    },
    {
     "data": {
      "image/png": "[encoded data removed]",
      "text/plain": [
       "<Figure size 864x504 with 1 Axes>"
      ]
     },
     "metadata": {
      "needs_background": "light"
     },
     "output_type": "display_data"
    }
   ],
   "source": [
    "plt.figure(figsize=(12, 7))\n",
    "sns.distplot(glm_results2.resid_response, kde=False, color='blue', bins=100)\n",
    "plt.title('OLS Residuals', fontsize=18)\n",
    "plt.xlabel('Residuals', fontsize=16)\n",
    "plt.ylabel('Count', fontsize=16)\n",
    "plt.xlim([-150, 400])"
   ]
  },
  {
   "cell_type": "code",
   "execution_count": 360,
   "metadata": {},
   "outputs": [
    {
     "name": "stderr",
     "output_type": "stream",
     "text": [
      "2019-07-29 00:42:29,172 [19242] WARNING  py.warnings: /home/matt/venv/phd/lib/python3.5/site-packages/ipykernel_launcher.py:1: DeprecationWarning: Calling Family(..) with a link class as argument is deprecated.\n",
      "Use an instance of a link class instead.\n",
      "  \"\"\"Entry point for launching an IPython kernel.\n",
      "\n"
     ]
    },
    {
     "name": "stdout",
     "output_type": "stream",
     "text": [
      "                 Generalized Linear Model Regression Results                  \n",
      "==============================================================================\n",
      "Dep. Variable:          duration_mean   No. Observations:                  566\n",
      "Model:                            GLM   Df Residuals:                      558\n",
      "Model Family:                   Gamma   Df Model:                            7\n",
      "Link Function:                    log   Scale:                         0.57334\n",
      "Method:                          IRLS   Log-Likelihood:                -2808.4\n",
      "Date:                Mon, 29 Jul 2019   Deviance:                       240.38\n",
      "Time:                        00:42:29   Pearson chi2:                     320.\n",
      "No. Iterations:                    18                                         \n",
      "Covariance Type:            nonrobust                                         \n",
      "======================================================================================\n",
      "                         coef    std err          z      P>|z|      [0.025      0.975]\n",
      "--------------------------------------------------------------------------------------\n",
      "Intercept              2.8817      0.493      5.840      0.000       1.915       3.849\n",
      "crowd_pct              0.0044      0.001      3.032      0.002       0.002       0.007\n",
      "total_issues           0.0006      0.000      2.128      0.033    4.67e-05       0.001\n",
      "project_age            0.0187      0.001     14.172      0.000       0.016       0.021\n",
      "total_contributors    -0.0062      0.004     -1.514      0.130      -0.014       0.002\n",
      "gini_coefficient      -0.0294      0.008     -3.804      0.000      -0.044      -0.014\n",
      "avg_clustering         0.0065      0.003      2.483      0.013       0.001       0.012\n",
      "avg_min_path           0.5020      0.171      2.928      0.003       0.166       0.838\n",
      "======================================================================================\n"
     ]
    }
   ],
   "source": [
    "glm_gamma3 = sm.GLM(y, X, family=sm.families.Gamma(link=sm.families.links.log))\n",
    "glm_results3 = glm_gamma3.fit()\n",
    "print(glm_results3.summary())"
   ]
  },
  {
   "cell_type": "code",
   "execution_count": 361,
   "metadata": {},
   "outputs": [
    {
     "data": {
      "text/plain": [
       "(-150, 400)"
      ]
     },
     "execution_count": 361,
     "metadata": {},
     "output_type": "execute_result"
    },
    {
     "data": {
      "image/png": "[encoded data removed]",
      "text/plain": [
       "<Figure size 864x504 with 1 Axes>"
      ]
     },
     "metadata": {
      "needs_background": "light"
     },
     "output_type": "display_data"
    }
   ],
   "source": [
    "plt.figure(figsize=(12, 7))\n",
    "sns.distplot(glm_results3.resid_response, kde=False, color='blue', bins=100)\n",
    "plt.title('OLS Residuals', fontsize=18)\n",
    "plt.xlabel('Residuals', fontsize=16)\n",
    "plt.ylabel('Count', fontsize=16)\n",
    "plt.xlim([-150, 400])"
   ]
  },
  {
   "cell_type": "code",
   "execution_count": null,
   "metadata": {},
   "outputs": [],
   "source": []
  }
 ],
 "metadata": {
  "kernelspec": {
   "display_name": "Python 3",
   "language": "python",
   "name": "python3"
  },
  "language_info": {
   "codemirror_mode": {
    "name": "ipython",
    "version": 3
   },
   "file_extension": ".py",
   "mimetype": "text/x-python",
   "name": "python",
   "nbconvert_exporter": "python",
   "pygments_lexer": "ipython3",
   "version": "3.5.2"
  }
 },
 "nbformat": 4,
 "nbformat_minor": 2
}
