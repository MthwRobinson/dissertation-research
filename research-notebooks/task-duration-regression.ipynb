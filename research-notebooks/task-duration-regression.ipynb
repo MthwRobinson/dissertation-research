{
 "cells": [
  {
   "cell_type": "markdown",
   "metadata": {},
   "source": [
    "## Task Duration and Network Centrality"
   ]
  },
  {
   "cell_type": "code",
   "execution_count": 4,
   "metadata": {},
   "outputs": [],
   "source": [
    "from research_utils.database.database import Database\n",
    "\n",
    "from lifelines import CoxPHFitter\n",
    "import pandas as pd\n",
    "from patsy import dmatrices\n",
    "import matplotlib.pyplot as plt\n",
    "import numpy as np\n",
    "import statsmodels.api as sm\n",
    "import seaborn as sns\n",
    "import scipy.stats as stats"
   ]
  },
  {
   "cell_type": "markdown",
   "metadata": {},
   "source": [
    "### Read in Data\n",
    "\n",
    "Read in the data for the regression model from the `reqs_prioritization` table in Postgres. This table is a compilation of all the issues opened in 2018 for networks for which fewer than 50% of the issues were submitted by non-contributors."
   ]
  },
  {
   "cell_type": "code",
   "execution_count": 35,
   "metadata": {},
   "outputs": [],
   "source": [
    "database = Database()"
   ]
  },
  {
   "cell_type": "code",
   "execution_count": 36,
   "metadata": {},
   "outputs": [],
   "source": [
    "sql = \"\"\"\n",
    "SELECT *, ROW_NUMBER() OVER (PARTITION BY organization, package ORDER BY closed_at ASC) as priority_order\n",
    "FROM open_source.reqs_prioritization x\n",
    "WHERE closed_at IS NOT NULL\n",
    "AND package <> 'salt'\n",
    "AND ('bug' = ANY(lower(labels::text)::text[])\n",
    "OR 'feature' = ANY(lower(labels::text)::text[])\n",
    "OR 'feature request' = ANY(lower(labels::text)::text[])\n",
    "OR 'change' = ANY(lower(labels::text)::text[])\n",
    "OR 'suggestion' = ANY(lower(labels::text)::text[])\n",
    "OR 'enhancement' = ANY(lower(labels::text)::text[]))\n",
    "\"\"\"\n",
    "# AND 'invalid' <> ANY(labels) AND 'duplicate' <> ANY(labels)\n",
    "# AND 'question' <> ANY(labels) AND 'wontfix' <> ANY(labels)\n",
    "df = pd.read_sql(sql, database.connection)"
   ]
  },
  {
   "cell_type": "markdown",
   "metadata": {},
   "source": [
    "### Exploratory Data Analysis\n",
    "\n",
    "Some simple analysis to get a feel for patterns in the data."
   ]
  },
  {
   "cell_type": "code",
   "execution_count": 38,
   "metadata": {},
   "outputs": [],
   "source": [
    "@np.vectorize\n",
    "def create_label_indicator(labels, label):\n",
    "    labels = [x.lower() for x in labels]\n",
    "    if label.lower() in labels:\n",
    "        return 1\n",
    "    else:\n",
    "        return 0"
   ]
  },
  {
   "cell_type": "code",
   "execution_count": 39,
   "metadata": {},
   "outputs": [],
   "source": [
    "default_labels = ['bug', 'feature', 'enhancement', 'suggestion', 'change']\n",
    "for label in default_labels:\n",
    "    df[label.replace(' ','_')] = create_label_indicator(df['labels'], label)"
   ]
  },
  {
   "cell_type": "code",
   "execution_count": 40,
   "metadata": {},
   "outputs": [],
   "source": [
    "df['contributor'] = df['commit_pct'] > 0"
   ]
  },
  {
   "cell_type": "code",
   "execution_count": 41,
   "metadata": {},
   "outputs": [
    {
     "data": {
      "text/plain": [
       "True     1278\n",
       "False    1161\n",
       "Name: contributor, dtype: int64"
      ]
     },
     "execution_count": 41,
     "metadata": {},
     "output_type": "execute_result"
    }
   ],
   "source": [
    "df['contributor'].value_counts()"
   ]
  },
  {
   "cell_type": "code",
   "execution_count": 42,
   "metadata": {},
   "outputs": [],
   "source": [
    "df['central'] = df['betweenness_centrality'] > 0"
   ]
  },
  {
   "cell_type": "code",
   "execution_count": 43,
   "metadata": {},
   "outputs": [
    {
     "data": {
      "text/plain": [
       "True     1236\n",
       "False    1203\n",
       "Name: central, dtype: int64"
      ]
     },
     "execution_count": 43,
     "metadata": {},
     "output_type": "execute_result"
    }
   ],
   "source": [
    "df['central'].value_counts()"
   ]
  },
  {
   "cell_type": "code",
   "execution_count": 44,
   "metadata": {},
   "outputs": [],
   "source": [
    "package_counts = dict(df['package'].value_counts())"
   ]
  },
  {
   "cell_type": "code",
   "execution_count": 45,
   "metadata": {},
   "outputs": [],
   "source": [
    "@np.vectorize\n",
    "def add_total_issues(package, package_counts):\n",
    "    if package in package_counts:\n",
    "        return package_counts[package]\n",
    "    else:\n",
    "        return 0"
   ]
  },
  {
   "cell_type": "code",
   "execution_count": 46,
   "metadata": {},
   "outputs": [],
   "source": [
    "df['total_issues'] = add_total_issues(df['package'], package_counts)"
   ]
  },
  {
   "cell_type": "code",
   "execution_count": 47,
   "metadata": {},
   "outputs": [
    {
     "data": {
      "text/plain": [
       "189"
      ]
     },
     "execution_count": 47,
     "metadata": {},
     "output_type": "execute_result"
    }
   ],
   "source": [
    "len(df['package'].unique())"
   ]
  },
  {
   "cell_type": "code",
   "execution_count": 48,
   "metadata": {},
   "outputs": [],
   "source": [
    "df['priority_pct'] = df['priority_order'] / df['total_issues']"
   ]
  },
  {
   "cell_type": "code",
   "execution_count": 52,
   "metadata": {},
   "outputs": [
    {
     "data": {
      "text/plain": [
       "count    2439.000000\n",
       "mean       61.663387\n",
       "std        67.320498\n",
       "min         1.000000\n",
       "25%        13.000000\n",
       "50%        33.000000\n",
       "75%        83.000000\n",
       "max       213.000000\n",
       "Name: total_issues, dtype: float64"
      ]
     },
     "execution_count": 52,
     "metadata": {},
     "output_type": "execute_result"
    }
   ],
   "source": [
    "df['total_issues'].describe()"
   ]
  },
  {
   "cell_type": "code",
   "execution_count": 88,
   "metadata": {},
   "outputs": [],
   "source": [
    "reg_df = df[df['total_issues'] >= 20]\n",
    "reg_df = reg_df[reg_df['priority_order'] <= 20]"
   ]
  },
  {
   "cell_type": "code",
   "execution_count": 89,
   "metadata": {},
   "outputs": [
    {
     "data": {
      "text/plain": [
       "31"
      ]
     },
     "execution_count": 89,
     "metadata": {},
     "output_type": "execute_result"
    }
   ],
   "source": [
    "len(reg_df['package'].unique())"
   ]
  },
  {
   "cell_type": "markdown",
   "metadata": {},
   "source": [
    "### OLS Sanity Check\n",
    "\n",
    "Before getting into our more complicated model, we want to run an OLS model just to get a feel for how the model is working."
   ]
  },
  {
   "cell_type": "code",
   "execution_count": 90,
   "metadata": {},
   "outputs": [],
   "source": [
    "y, X = dmatrices('priority_order ~ '\n",
    "                 'avg_clustering + avg_min_path + gini_coefficient + '\n",
    "                 ' betweenness_centrality + pull_request + commit_pct + bug',\n",
    "                 data=reg_df, return_type='dataframe')"
   ]
  },
  {
   "cell_type": "code",
   "execution_count": 91,
   "metadata": {},
   "outputs": [],
   "source": [
    "mod = sm.OLS(y, X)\n",
    "res = mod.fit()"
   ]
  },
  {
   "cell_type": "code",
   "execution_count": 92,
   "metadata": {},
   "outputs": [
    {
     "name": "stdout",
     "output_type": "stream",
     "text": [
      "                            OLS Regression Results                            \n",
      "==============================================================================\n",
      "Dep. Variable:         priority_order   R-squared:                       0.016\n",
      "Model:                            OLS   Adj. R-squared:                  0.005\n",
      "Method:                 Least Squares   F-statistic:                     1.433\n",
      "Date:                Sun, 28 Jul 2019   Prob (F-statistic):              0.189\n",
      "Time:                        18:15:49   Log-Likelihood:                -1961.0\n",
      "No. Observations:                 620   AIC:                             3938.\n",
      "Df Residuals:                     612   BIC:                             3973.\n",
      "Df Model:                           7                                         \n",
      "Covariance Type:            nonrobust                                         \n",
      "==========================================================================================\n",
      "                             coef    std err          t      P>|t|      [0.025      0.975]\n",
      "------------------------------------------------------------------------------------------\n",
      "Intercept                  8.8398      5.912      1.495      0.135      -2.770      20.449\n",
      "pull_request[T.True]      -0.4575      0.598     -0.765      0.445      -1.632       0.718\n",
      "avg_clustering             0.1851      1.781      0.104      0.917      -3.312       3.682\n",
      "avg_min_path               0.8789      1.513      0.581      0.562      -2.092       3.850\n",
      "gini_coefficient          -0.6801      8.117     -0.084      0.933     -16.621      15.261\n",
      "betweenness_centrality     2.5436      1.223      2.080      0.038       0.142       4.945\n",
      "commit_pct                -0.8090      1.670     -0.484      0.628      -4.090       2.472\n",
      "bug                       -0.4370      0.498     -0.878      0.380      -1.415       0.540\n",
      "==============================================================================\n",
      "Omnibus:                      334.910   Durbin-Watson:                   0.557\n",
      "Prob(Omnibus):                  0.000   Jarque-Bera (JB):               35.377\n",
      "Skew:                           0.014   Prob(JB):                     2.08e-08\n",
      "Kurtosis:                       1.830   Cond. No.                         110.\n",
      "==============================================================================\n",
      "\n",
      "Warnings:\n",
      "[1] Standard Errors assume that the covariance matrix of the errors is correctly specified.\n"
     ]
    }
   ],
   "source": [
    "print(res.summary())"
   ]
  },
  {
   "cell_type": "markdown",
   "metadata": {},
   "source": [
    "### Cox Proportional Hazard Model\n",
    "\n",
    "Now that we have a better idea about the relationships between the variables, let's train a model that better accounts for the lifetime of the issue. Specifically, the cox proportional hazard model assumes a conditional exponential distribution, and accounts for issues that have never been closed through the use of left censoring."
   ]
  },
  {
   "cell_type": "code",
   "execution_count": 282,
   "metadata": {},
   "outputs": [],
   "source": [
    "keep_cols = ['adj_duration', 'closed', 'avg_clustering', 'avg_min_path',\n",
    "             'gini_coefficient', 'central', 'contributor', 'bug']\n",
    "#keep_cols = ['duration', 'closed', 'central', 'contributor']\n",
    "df_regress = df[keep_cols]"
   ]
  },
  {
   "cell_type": "code",
   "execution_count": 283,
   "metadata": {},
   "outputs": [
    {
     "name": "stdout",
     "output_type": "stream",
     "text": [
      "Iteration 5: norm_delta = 0.00000, step_size = 1.0000, ll = -10658.56993, newton_decrement = 0.00000, seconds_since_start = 0.2Convergence completed after 5 iterations.\n",
      "<lifelines.CoxPHFitter: fitted with 2349 observations, 879 censored>\n",
      "      duration col = 'adj_duration'\n",
      "         event col = 'closed'\n",
      "number of subjects = 2349\n",
      "  number of events = 1470\n",
      "partial log-likelihood = -10658.57\n",
      "  time fit was run = 2019-07-26 03:20:46 UTC\n",
      "\n",
      "---\n",
      "                  coef exp(coef)  se(coef)  coef lower 95%  coef upper 95% exp(coef) lower 95% exp(coef) upper 95%\n",
      "avg_clustering   -1.37      0.25      0.20           -1.77           -0.97                0.17                0.38\n",
      "avg_min_path     -0.79      0.45      0.14           -1.07           -0.52                0.34                0.59\n",
      "gini_coefficient  5.40    221.67      0.58            4.25            6.55               70.43              697.70\n",
      "central          -0.22      0.80      0.07           -0.36           -0.09                0.70                0.92\n",
      "contributor       0.28      1.33      0.07            0.14            0.42                1.15                1.53\n",
      "bug               0.66      1.93      0.06            0.55            0.77                1.73                2.15\n",
      "\n",
      "                     z      p  -log2(p)\n",
      "avg_clustering   -6.74 <0.005     35.85\n",
      "avg_min_path     -5.71 <0.005     26.43\n",
      "gini_coefficient  9.23 <0.005     65.04\n",
      "central          -3.18 <0.005      9.40\n",
      "contributor       3.98 <0.005     13.80\n",
      "bug              11.85 <0.005    105.11\n",
      "---\n",
      "Concordance = 0.63\n",
      "Log-likelihood ratio test = 291.42 on 6 df, -log2(p)=196.82\n"
     ]
    }
   ],
   "source": [
    "cph = CoxPHFitter()\n",
    "cph.fit(df_regress, duration_col='adj_duration', event_col='closed', show_progress=True)\n",
    "\n",
    "cph.print_summary()  # access the results using cph.summary"
   ]
  },
  {
   "cell_type": "code",
   "execution_count": null,
   "metadata": {},
   "outputs": [],
   "source": []
  }
 ],
 "metadata": {
  "kernelspec": {
   "display_name": "Python 3",
   "language": "python",
   "name": "python3"
  },
  "language_info": {
   "codemirror_mode": {
    "name": "ipython",
    "version": 3
   },
   "file_extension": ".py",
   "mimetype": "text/x-python",
   "name": "python",
   "nbconvert_exporter": "python",
   "pygments_lexer": "ipython3",
   "version": "3.5.2"
  }
 },
 "nbformat": 4,
 "nbformat_minor": 2
}
