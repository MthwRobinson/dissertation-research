{
 "cells": [
  {
   "cell_type": "markdown",
   "metadata": {},
   "source": [
    "## Task Duration and Network Centrality"
   ]
  },
  {
   "cell_type": "code",
   "execution_count": 1,
   "metadata": {},
   "outputs": [],
   "source": [
    "from research_utils.database.database import Database\n",
    "\n",
    "from lifelines import CoxPHFitter\n",
    "import pandas as pd\n",
    "from patsy import dmatrices\n",
    "import matplotlib.pyplot as plt\n",
    "import numpy as np\n",
    "import statsmodels.api as sm\n",
    "import seaborn as sns\n",
    "import scipy.stats as stats"
   ]
  },
  {
   "cell_type": "markdown",
   "metadata": {},
   "source": [
    "### Read in Data\n",
    "\n",
    "Read in the data for the regression model from the `reqs_prioritization` table in Postgres. This table is a compilation of all the issues opened in 2018 for networks for which fewer than 50% of the issues were submitted by non-contributors."
   ]
  },
  {
   "cell_type": "code",
   "execution_count": 2,
   "metadata": {},
   "outputs": [],
   "source": [
    "database = Database()"
   ]
  },
  {
   "cell_type": "code",
   "execution_count": 284,
   "metadata": {},
   "outputs": [],
   "source": [
    "sql = \"\"\"\n",
    "SELECT *\n",
    "FROM open_source.reqs_prioritization x\n",
    "WHERE package <> 'salt'\n",
    "AND ('bug' = ANY(lower(labels::text)::text[])\n",
    "OR 'feature' = ANY(lower(labels::text)::text[])\n",
    "OR 'feature request' = ANY(lower(labels::text)::text[])\n",
    "OR 'change' = ANY(lower(labels::text)::text[])\n",
    "OR 'suggestion' = ANY(lower(labels::text)::text[])\n",
    "OR 'enhancement' = ANY(lower(labels::text)::text[]))\n",
    "\"\"\"\n",
    "# AND 'invalid' <> ANY(labels) AND 'duplicate' <> ANY(labels)\n",
    "# AND 'question' <> ANY(labels) AND 'wontfix' <> ANY(labels)\n",
    "df = pd.read_sql(sql, database.connection)"
   ]
  },
  {
   "cell_type": "markdown",
   "metadata": {},
   "source": [
    "### Exploratory Data Analysis\n",
    "\n",
    "Some simple analysis to get a feel for patterns in the data."
   ]
  },
  {
   "cell_type": "code",
   "execution_count": 285,
   "metadata": {},
   "outputs": [
    {
     "data": {
      "text/html": [
       "<div>\n",
       "<style scoped>\n",
       "    .dataframe tbody tr th:only-of-type {\n",
       "        vertical-align: middle;\n",
       "    }\n",
       "\n",
       "    .dataframe tbody tr th {\n",
       "        vertical-align: top;\n",
       "    }\n",
       "\n",
       "    .dataframe thead th {\n",
       "        text-align: right;\n",
       "    }\n",
       "</style>\n",
       "<table border=\"1\" class=\"dataframe\">\n",
       "  <thead>\n",
       "    <tr style=\"text-align: right;\">\n",
       "      <th></th>\n",
       "      <th>duration</th>\n",
       "      <th>gini_coefficient</th>\n",
       "      <th>avg_clustering</th>\n",
       "      <th>avg_min_path</th>\n",
       "      <th>total_stakeholders</th>\n",
       "      <th>betweenness_centrality</th>\n",
       "      <th>commit_pct</th>\n",
       "      <th>adj_duration</th>\n",
       "      <th>closed</th>\n",
       "    </tr>\n",
       "  </thead>\n",
       "  <tbody>\n",
       "    <tr>\n",
       "      <th>count</th>\n",
       "      <td>2063.000000</td>\n",
       "      <td>3017.000000</td>\n",
       "      <td>3017.000000</td>\n",
       "      <td>3017.000000</td>\n",
       "      <td>3017.000000</td>\n",
       "      <td>3017.000000</td>\n",
       "      <td>3017.000000</td>\n",
       "      <td>3017.000000</td>\n",
       "      <td>3017.000000</td>\n",
       "    </tr>\n",
       "    <tr>\n",
       "      <th>mean</th>\n",
       "      <td>41.502666</td>\n",
       "      <td>0.545507</td>\n",
       "      <td>0.555924</td>\n",
       "      <td>2.151024</td>\n",
       "      <td>236.501160</td>\n",
       "      <td>0.181570</td>\n",
       "      <td>0.113625</td>\n",
       "      <td>154.549553</td>\n",
       "      <td>0.683792</td>\n",
       "    </tr>\n",
       "    <tr>\n",
       "      <th>std</th>\n",
       "      <td>71.349000</td>\n",
       "      <td>0.052324</td>\n",
       "      <td>0.139873</td>\n",
       "      <td>0.223417</td>\n",
       "      <td>148.827077</td>\n",
       "      <td>0.331294</td>\n",
       "      <td>0.254320</td>\n",
       "      <td>185.572037</td>\n",
       "      <td>0.465072</td>\n",
       "    </tr>\n",
       "    <tr>\n",
       "      <th>min</th>\n",
       "      <td>0.000000</td>\n",
       "      <td>0.133333</td>\n",
       "      <td>0.000000</td>\n",
       "      <td>1.333333</td>\n",
       "      <td>12.000000</td>\n",
       "      <td>0.000000</td>\n",
       "      <td>0.000000</td>\n",
       "      <td>0.000000</td>\n",
       "      <td>0.000000</td>\n",
       "    </tr>\n",
       "    <tr>\n",
       "      <th>25%</th>\n",
       "      <td>0.000000</td>\n",
       "      <td>0.520255</td>\n",
       "      <td>0.477933</td>\n",
       "      <td>2.014563</td>\n",
       "      <td>126.000000</td>\n",
       "      <td>0.000000</td>\n",
       "      <td>0.000000</td>\n",
       "      <td>3.000000</td>\n",
       "      <td>0.000000</td>\n",
       "    </tr>\n",
       "    <tr>\n",
       "      <th>50%</th>\n",
       "      <td>8.000000</td>\n",
       "      <td>0.554637</td>\n",
       "      <td>0.568562</td>\n",
       "      <td>2.084162</td>\n",
       "      <td>227.000000</td>\n",
       "      <td>0.000000</td>\n",
       "      <td>0.000000</td>\n",
       "      <td>41.000000</td>\n",
       "      <td>1.000000</td>\n",
       "    </tr>\n",
       "    <tr>\n",
       "      <th>75%</th>\n",
       "      <td>48.000000</td>\n",
       "      <td>0.574429</td>\n",
       "      <td>0.661330</td>\n",
       "      <td>2.307071</td>\n",
       "      <td>310.000000</td>\n",
       "      <td>0.125783</td>\n",
       "      <td>0.029061</td>\n",
       "      <td>310.000000</td>\n",
       "      <td>1.000000</td>\n",
       "    </tr>\n",
       "    <tr>\n",
       "      <th>max</th>\n",
       "      <td>471.000000</td>\n",
       "      <td>0.663207</td>\n",
       "      <td>0.916667</td>\n",
       "      <td>3.052027</td>\n",
       "      <td>726.000000</td>\n",
       "      <td>0.999034</td>\n",
       "      <td>1.000000</td>\n",
       "      <td>570.000000</td>\n",
       "      <td>1.000000</td>\n",
       "    </tr>\n",
       "  </tbody>\n",
       "</table>\n",
       "</div>"
      ],
      "text/plain": [
       "          duration  gini_coefficient  avg_clustering  avg_min_path  \\\n",
       "count  2063.000000       3017.000000     3017.000000   3017.000000   \n",
       "mean     41.502666          0.545507        0.555924      2.151024   \n",
       "std      71.349000          0.052324        0.139873      0.223417   \n",
       "min       0.000000          0.133333        0.000000      1.333333   \n",
       "25%       0.000000          0.520255        0.477933      2.014563   \n",
       "50%       8.000000          0.554637        0.568562      2.084162   \n",
       "75%      48.000000          0.574429        0.661330      2.307071   \n",
       "max     471.000000          0.663207        0.916667      3.052027   \n",
       "\n",
       "       total_stakeholders  betweenness_centrality   commit_pct  adj_duration  \\\n",
       "count         3017.000000             3017.000000  3017.000000   3017.000000   \n",
       "mean           236.501160                0.181570     0.113625    154.549553   \n",
       "std            148.827077                0.331294     0.254320    185.572037   \n",
       "min             12.000000                0.000000     0.000000      0.000000   \n",
       "25%            126.000000                0.000000     0.000000      3.000000   \n",
       "50%            227.000000                0.000000     0.000000     41.000000   \n",
       "75%            310.000000                0.125783     0.029061    310.000000   \n",
       "max            726.000000                0.999034     1.000000    570.000000   \n",
       "\n",
       "            closed  \n",
       "count  3017.000000  \n",
       "mean      0.683792  \n",
       "std       0.465072  \n",
       "min       0.000000  \n",
       "25%       0.000000  \n",
       "50%       1.000000  \n",
       "75%       1.000000  \n",
       "max       1.000000  "
      ]
     },
     "execution_count": 285,
     "metadata": {},
     "output_type": "execute_result"
    }
   ],
   "source": [
    "df.describe()"
   ]
  },
  {
   "cell_type": "code",
   "execution_count": 286,
   "metadata": {},
   "outputs": [],
   "source": [
    "@np.vectorize\n",
    "def compute_adj_duration(duration, max_value):\n",
    "    if np.isnan(duration) or duration is None:\n",
    "        return max_value\n",
    "    else:\n",
    "        return duration"
   ]
  },
  {
   "cell_type": "code",
   "execution_count": 287,
   "metadata": {},
   "outputs": [],
   "source": [
    "df['adj_duration'] = compute_adj_duration(df['duration'], df['duration'].max())"
   ]
  },
  {
   "cell_type": "code",
   "execution_count": 288,
   "metadata": {},
   "outputs": [],
   "source": [
    "@np.vectorize\n",
    "def create_label_indicator(labels, label):\n",
    "    labels = [x.lower() for x in labels]\n",
    "    if label.lower() in labels:\n",
    "        return 1\n",
    "    else:\n",
    "        return 0"
   ]
  },
  {
   "cell_type": "code",
   "execution_count": 289,
   "metadata": {},
   "outputs": [],
   "source": [
    "default_labels = ['bug', 'feature', 'enhancement', 'suggestion', 'change']\n",
    "for label in default_labels:\n",
    "    df[label.replace(' ','_')] = create_label_indicator(df['labels'], label)"
   ]
  },
  {
   "cell_type": "code",
   "execution_count": 290,
   "metadata": {},
   "outputs": [],
   "source": [
    "df['contributor'] = df['commit_pct'] > 0"
   ]
  },
  {
   "cell_type": "code",
   "execution_count": 291,
   "metadata": {},
   "outputs": [
    {
     "data": {
      "text/plain": [
       "False    1682\n",
       "True     1335\n",
       "Name: contributor, dtype: int64"
      ]
     },
     "execution_count": 291,
     "metadata": {},
     "output_type": "execute_result"
    }
   ],
   "source": [
    "df['contributor'].value_counts()"
   ]
  },
  {
   "cell_type": "code",
   "execution_count": 292,
   "metadata": {},
   "outputs": [],
   "source": [
    "df['central'] = df['betweenness_centrality'] > 0"
   ]
  },
  {
   "cell_type": "code",
   "execution_count": 293,
   "metadata": {},
   "outputs": [
    {
     "data": {
      "text/plain": [
       "False    1633\n",
       "True     1384\n",
       "Name: central, dtype: int64"
      ]
     },
     "execution_count": 293,
     "metadata": {},
     "output_type": "execute_result"
    }
   ],
   "source": [
    "df['central'].value_counts()"
   ]
  },
  {
   "cell_type": "code",
   "execution_count": 294,
   "metadata": {},
   "outputs": [],
   "source": [
    "package_counts = dict(df['package'].value_counts())"
   ]
  },
  {
   "cell_type": "code",
   "execution_count": 295,
   "metadata": {},
   "outputs": [],
   "source": [
    "@np.vectorize\n",
    "def add_total_issues(package, package_counts):\n",
    "    if package in package_counts:\n",
    "        return package_counts[package]\n",
    "    else:\n",
    "        return 0"
   ]
  },
  {
   "cell_type": "code",
   "execution_count": 296,
   "metadata": {},
   "outputs": [],
   "source": [
    "df['total_issues'] = add_total_issues(df['package'], package_counts)"
   ]
  },
  {
   "cell_type": "code",
   "execution_count": 297,
   "metadata": {},
   "outputs": [],
   "source": [
    "count_df = df[df['total_issues'] >= 5]"
   ]
  },
  {
   "cell_type": "code",
   "execution_count": 298,
   "metadata": {},
   "outputs": [
    {
     "data": {
      "text/plain": [
       "127"
      ]
     },
     "execution_count": 298,
     "metadata": {},
     "output_type": "execute_result"
    }
   ],
   "source": [
    "len(count_df['package'].unique())"
   ]
  },
  {
   "cell_type": "markdown",
   "metadata": {},
   "source": [
    "#### Histogram of the duration of issues"
   ]
  },
  {
   "cell_type": "code",
   "execution_count": 299,
   "metadata": {},
   "outputs": [],
   "source": [
    "#plt.figure(figsize=(12, 7))\n",
    "#sns.distplot(df['adj_duration'], kde=False, color='blue', bins=30)\n",
    "#plt.title('Duration of Issues', fontsize=18)\n",
    "#plt.xlabel('Time', fontsize=16)\n",
    "#plt.ylabel('Count', fontsize=16)\n",
    "# plt.xlim([0,.7])"
   ]
  },
  {
   "cell_type": "code",
   "execution_count": 300,
   "metadata": {},
   "outputs": [],
   "source": [
    "#plt.figure(figsize=(12, 7))\n",
    "#sns.distplot(df['gini_coefficient'], kde=False, color='blue', bins=30)\n",
    "#plt.title('Gini Coefficient', fontsize=18)\n",
    "#plt.xlabel('Time', fontsize=16)\n",
    "#plt.ylabel('Count', fontsize=16)"
   ]
  },
  {
   "cell_type": "markdown",
   "metadata": {},
   "source": [
    "### OLS Sanity Check\n",
    "\n",
    "Before getting into our more complicated model, we want to run an OLS model just to get a feel for how the model is working."
   ]
  },
  {
   "cell_type": "code",
   "execution_count": 316,
   "metadata": {},
   "outputs": [],
   "source": [
    "y, X = dmatrices('adj_duration ~ avg_clustering + avg_min_path + gini_coefficient + '\n",
    "                 'central + contributor + bug + pull_request',\n",
    "#                 '+ bug + documentation  + enhancement'\n",
    "#                  '+ good_first_issue + help_wanted', \n",
    "                 data=count_df, return_type='dataframe')"
   ]
  },
  {
   "cell_type": "code",
   "execution_count": 317,
   "metadata": {},
   "outputs": [],
   "source": [
    "mod = sm.OLS(y, X)\n",
    "res = mod.fit()"
   ]
  },
  {
   "cell_type": "code",
   "execution_count": 318,
   "metadata": {},
   "outputs": [
    {
     "name": "stdout",
     "output_type": "stream",
     "text": [
      "                            OLS Regression Results                            \n",
      "==============================================================================\n",
      "Dep. Variable:           adj_duration   R-squared:                       0.152\n",
      "Model:                            OLS   Adj. R-squared:                  0.150\n",
      "Method:                 Least Squares   F-statistic:                     72.24\n",
      "Date:                Thu, 25 Jul 2019   Prob (F-statistic):           2.05e-96\n",
      "Time:                        23:23:20   Log-Likelihood:                -18850.\n",
      "No. Observations:                2828   AIC:                         3.772e+04\n",
      "Df Residuals:                    2820   BIC:                         3.776e+04\n",
      "Df Model:                           7                                         \n",
      "Covariance Type:            nonrobust                                         \n",
      "========================================================================================\n",
      "                           coef    std err          t      P>|t|      [0.025      0.975]\n",
      "----------------------------------------------------------------------------------------\n",
      "Intercept              207.0908     54.905      3.772      0.000      99.433     314.749\n",
      "central[T.True]         30.2099      9.309      3.245      0.001      11.957      48.463\n",
      "contributor[T.True]    -44.6013      9.710     -4.593      0.000     -63.640     -25.563\n",
      "pull_request[T.True]  -138.8004      9.301    -14.923      0.000    -157.038    -120.563\n",
      "avg_clustering         149.1385     28.377      5.256      0.000      93.497     204.780\n",
      "avg_min_path           130.9213     17.768      7.368      0.000      96.081     165.762\n",
      "gini_coefficient      -583.7451     81.976     -7.121      0.000    -744.483    -423.007\n",
      "bug                    -90.3958      7.458    -12.121      0.000    -105.019     -75.773\n",
      "==============================================================================\n",
      "Omnibus:                     1184.299   Durbin-Watson:                   1.519\n",
      "Prob(Omnibus):                  0.000   Jarque-Bera (JB):              253.560\n",
      "Skew:                           0.489   Prob(JB):                     8.71e-56\n",
      "Kurtosis:                       1.906   Cond. No.                         69.4\n",
      "==============================================================================\n",
      "\n",
      "Warnings:\n",
      "[1] Standard Errors assume that the covariance matrix of the errors is correctly specified.\n"
     ]
    }
   ],
   "source": [
    "print(res.summary())"
   ]
  },
  {
   "cell_type": "markdown",
   "metadata": {},
   "source": [
    "### Cox Proportional Hazard Model\n",
    "\n",
    "Now that we have a better idea about the relationships between the variables, let's train a model that better accounts for the lifetime of the issue. Specifically, the cox proportional hazard model assumes a conditional exponential distribution, and accounts for issues that have never been closed through the use of left censoring."
   ]
  },
  {
   "cell_type": "code",
   "execution_count": 282,
   "metadata": {},
   "outputs": [],
   "source": [
    "keep_cols = ['adj_duration', 'closed', 'avg_clustering', 'avg_min_path',\n",
    "             'gini_coefficient', 'central', 'contributor', 'bug']\n",
    "#keep_cols = ['duration', 'closed', 'central', 'contributor']\n",
    "df_regress = df[keep_cols]"
   ]
  },
  {
   "cell_type": "code",
   "execution_count": 283,
   "metadata": {},
   "outputs": [
    {
     "name": "stdout",
     "output_type": "stream",
     "text": [
      "Iteration 5: norm_delta = 0.00000, step_size = 1.0000, ll = -10658.56993, newton_decrement = 0.00000, seconds_since_start = 0.2Convergence completed after 5 iterations.\n",
      "<lifelines.CoxPHFitter: fitted with 2349 observations, 879 censored>\n",
      "      duration col = 'adj_duration'\n",
      "         event col = 'closed'\n",
      "number of subjects = 2349\n",
      "  number of events = 1470\n",
      "partial log-likelihood = -10658.57\n",
      "  time fit was run = 2019-07-26 03:20:46 UTC\n",
      "\n",
      "---\n",
      "                  coef exp(coef)  se(coef)  coef lower 95%  coef upper 95% exp(coef) lower 95% exp(coef) upper 95%\n",
      "avg_clustering   -1.37      0.25      0.20           -1.77           -0.97                0.17                0.38\n",
      "avg_min_path     -0.79      0.45      0.14           -1.07           -0.52                0.34                0.59\n",
      "gini_coefficient  5.40    221.67      0.58            4.25            6.55               70.43              697.70\n",
      "central          -0.22      0.80      0.07           -0.36           -0.09                0.70                0.92\n",
      "contributor       0.28      1.33      0.07            0.14            0.42                1.15                1.53\n",
      "bug               0.66      1.93      0.06            0.55            0.77                1.73                2.15\n",
      "\n",
      "                     z      p  -log2(p)\n",
      "avg_clustering   -6.74 <0.005     35.85\n",
      "avg_min_path     -5.71 <0.005     26.43\n",
      "gini_coefficient  9.23 <0.005     65.04\n",
      "central          -3.18 <0.005      9.40\n",
      "contributor       3.98 <0.005     13.80\n",
      "bug              11.85 <0.005    105.11\n",
      "---\n",
      "Concordance = 0.63\n",
      "Log-likelihood ratio test = 291.42 on 6 df, -log2(p)=196.82\n"
     ]
    }
   ],
   "source": [
    "cph = CoxPHFitter()\n",
    "cph.fit(df_regress, duration_col='adj_duration', event_col='closed', show_progress=True)\n",
    "\n",
    "cph.print_summary()  # access the results using cph.summary"
   ]
  },
  {
   "cell_type": "code",
   "execution_count": null,
   "metadata": {},
   "outputs": [],
   "source": []
  }
 ],
 "metadata": {
  "kernelspec": {
   "display_name": "Python 3",
   "language": "python",
   "name": "python3"
  },
  "language_info": {
   "codemirror_mode": {
    "name": "ipython",
    "version": 3
   },
   "file_extension": ".py",
   "mimetype": "text/x-python",
   "name": "python",
   "nbconvert_exporter": "python",
   "pygments_lexer": "ipython3",
   "version": "3.5.2"
  }
 },
 "nbformat": 4,
 "nbformat_minor": 2
}
