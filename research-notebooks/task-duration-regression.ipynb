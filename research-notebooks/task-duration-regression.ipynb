{
 "cells": [
  {
   "cell_type": "code",
   "execution_count": 1,
   "metadata": {},
   "outputs": [],
   "source": [
    "from research_utils.database.database import Database\n",
    "\n",
    "from lifelines import CoxPHFitter\n",
    "import pandas as pd\n",
    "import numpy as np"
   ]
  },
  {
   "cell_type": "code",
   "execution_count": 2,
   "metadata": {},
   "outputs": [],
   "source": [
    "database = Database()"
   ]
  },
  {
   "cell_type": "code",
   "execution_count": 3,
   "metadata": {},
   "outputs": [],
   "source": [
    "@np.vectorize\n",
    "def create_indicator(item, value):\n",
    "    if item == value:\n",
    "        return 1\n",
    "    else:\n",
    "        return 0"
   ]
  },
  {
   "cell_type": "code",
   "execution_count": 33,
   "metadata": {},
   "outputs": [],
   "source": [
    "sql = \"\"\"\n",
    "SELECT DISTINCT *, \n",
    "       CASE WHEN betweenness_centrality > 0 THEN 1 ELSE 0 END as central,\n",
    "       CASE WHEN commit_pct > 0 THEN 1 ELSE 0 END as contributor\n",
    "FROM open_source.reqs_prioritization2 x\n",
    "INNER JOIN(\n",
    "SELECT package, organization, user_id, commit_pct\n",
    "FROM open_source.issue_contributors a\n",
    "INNER JOIN (\n",
    "\tSELECT DISTINCT package_name as package, org_name as organization, id\n",
    "\tFROM open_source.packages\n",
    ") b\n",
    "ON (a.package_id = b.id)\n",
    ") y\n",
    "ON (x.package=y.package AND x.organization=y.organization AND x.user_id = y.user_id)\n",
    "WHERE x.pull_request IS FALSE AND total_stakeholders > 30\n",
    "\"\"\"\n",
    "df = pd.read_sql(sql, database.connection)"
   ]
  },
  {
   "cell_type": "code",
   "execution_count": 34,
   "metadata": {},
   "outputs": [
    {
     "data": {
      "text/plain": [
       "25221"
      ]
     },
     "execution_count": 34,
     "metadata": {},
     "output_type": "execute_result"
    }
   ],
   "source": [
    "len(df)"
   ]
  },
  {
   "cell_type": "code",
   "execution_count": 35,
   "metadata": {},
   "outputs": [],
   "source": [
    "df['contributor'] = df['commit_pct'] > 0"
   ]
  },
  {
   "cell_type": "code",
   "execution_count": 36,
   "metadata": {},
   "outputs": [
    {
     "data": {
      "text/plain": [
       "False    20903\n",
       "True      4318\n",
       "Name: contributor, dtype: int64"
      ]
     },
     "execution_count": 36,
     "metadata": {},
     "output_type": "execute_result"
    }
   ],
   "source": [
    "df['contributor'].value_counts()"
   ]
  },
  {
   "cell_type": "code",
   "execution_count": 37,
   "metadata": {},
   "outputs": [
    {
     "data": {
      "text/plain": [
       "0    17698\n",
       "1     7523\n",
       "Name: central, dtype: int64"
      ]
     },
     "execution_count": 37,
     "metadata": {},
     "output_type": "execute_result"
    }
   ],
   "source": [
    "df['central'].value_counts()"
   ]
  },
  {
   "cell_type": "code",
   "execution_count": 38,
   "metadata": {},
   "outputs": [],
   "source": [
    "#packages = list(df['package'].unique())\n",
    "#for package in packages:\n",
    "#    df[package] = create_indicator(df['package'], package)"
   ]
  },
  {
   "cell_type": "code",
   "execution_count": 39,
   "metadata": {},
   "outputs": [],
   "source": [
    "df['central_contributor'] = df['central'] * df['contributor']\n",
    "df['betweenness_centrality_100'] = df['betweenness_centrality'] * 100"
   ]
  },
  {
   "cell_type": "code",
   "execution_count": 42,
   "metadata": {},
   "outputs": [],
   "source": [
    "keep_cols = ['duration', 'closed', 'avg_clustering', 'avg_min_path',\n",
    "             'gini_coefficient', 'central', 'contributor']\n",
    "#keep_cols = ['duration', 'closed', 'central', 'contributor']\n",
    "df_regress = df[keep_cols]"
   ]
  },
  {
   "cell_type": "code",
   "execution_count": 43,
   "metadata": {},
   "outputs": [
    {
     "name": "stdout",
     "output_type": "stream",
     "text": [
      "Iteration 5: norm_delta = 0.00000, step_size = 1.0000, ll = -174406.61775, newton_decrement = 0.00000, seconds_since_start = 0.2Convergence completed after 5 iterations.\n",
      "<lifelines.CoxPHFitter: fitted with 25221 observations, 6978 censored>\n",
      "      duration col = 'duration'\n",
      "         event col = 'closed'\n",
      "number of subjects = 25221\n",
      "  number of events = 18243\n",
      "partial log-likelihood = -174406.62\n",
      "  time fit was run = 2019-07-24 12:38:26 UTC\n",
      "\n",
      "---\n",
      "                  coef exp(coef)  se(coef)  coef lower 95%  coef upper 95% exp(coef) lower 95% exp(coef) upper 95%\n",
      "avg_clustering   -0.60      0.55      0.05           -0.70           -0.49                0.49                0.61\n",
      "avg_min_path     -0.88      0.41      0.03           -0.94           -0.83                0.39                0.44\n",
      "gini_coefficient  4.00     54.77      0.13            3.75            4.25               42.58               70.45\n",
      "central          -0.32      0.73      0.02           -0.35           -0.28                0.70                0.76\n",
      "contributor      -0.11      0.90      0.02           -0.15           -0.06                0.86                0.94\n",
      "\n",
      "                      z      p  -log2(p)\n",
      "avg_clustering   -10.99 <0.005     90.99\n",
      "avg_min_path     -29.67 <0.005    640.41\n",
      "gini_coefficient  31.17 <0.005    706.29\n",
      "central          -16.29 <0.005    195.87\n",
      "contributor       -4.66 <0.005     18.29\n",
      "---\n",
      "Concordance = 0.62\n",
      "Log-likelihood ratio test = 2435.70 on 5 df, -log2(p)=inf\n"
     ]
    }
   ],
   "source": [
    "cph = CoxPHFitter()\n",
    "cph.fit(df_regress, duration_col='duration', event_col='closed', show_progress=True)\n",
    "\n",
    "cph.print_summary()  # access the results using cph.summary"
   ]
  },
  {
   "cell_type": "code",
   "execution_count": null,
   "metadata": {},
   "outputs": [],
   "source": []
  }
 ],
 "metadata": {
  "kernelspec": {
   "display_name": "Python 3",
   "language": "python",
   "name": "python3"
  },
  "language_info": {
   "codemirror_mode": {
    "name": "ipython",
    "version": 3
   },
   "file_extension": ".py",
   "mimetype": "text/x-python",
   "name": "python",
   "nbconvert_exporter": "python",
   "pygments_lexer": "ipython3",
   "version": "3.5.2"
  }
 },
 "nbformat": 4,
 "nbformat_minor": 2
}
